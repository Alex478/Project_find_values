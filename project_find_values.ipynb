{
  "nbformat": 4,
  "nbformat_minor": 0,
  "metadata": {
    "colab": {
      "name": "project_find_values.ipynb",
      "provenance": [],
      "collapsed_sections": [
        "XvboWt9hEZ1n",
        "tq7XP4797Usu",
        "rxDrlR817gUq"
      ]
    },
    "kernelspec": {
      "name": "python3",
      "display_name": "Python 3"
    }
  },
  "cells": [
    {
      "cell_type": "markdown",
      "metadata": {
        "id": "A90Ud1gl5QU1"
      },
      "source": [
        "Цель  - анализ финансовых показателей компаний среди разработчиков информационных технологий. \n",
        "- собираем информацию по компаниям с ресурса - https://www.testfirm.ru\n",
        "- проводим анализ по этой информации"
      ]
    },
    {
      "cell_type": "code",
      "metadata": {
        "id": "cTlGKi8xEnk6"
      },
      "source": [
        "import requests\n",
        "import pandas as pd\n",
        "import seaborn as sns\n",
        "import numpy as np\n",
        "import re\n",
        "import time\n",
        "from google.colab import files # импорт/экспорт файлов\n",
        "import matplotlib.pyplot as plt\n"
      ],
      "execution_count": 2,
      "outputs": []
    },
    {
      "cell_type": "markdown",
      "metadata": {
        "id": "BfIUm3ND0-Zs"
      },
      "source": [
        "# Создание списка компаний"
      ]
    },
    {
      "cell_type": "code",
      "metadata": {
        "id": "hQzrDjgGk1xf"
      },
      "source": [
        "url1 = 'https://www.testfirm.ru/' # сайт\n",
        "url2 = 'https://www.testfirm.ru/rating/63_11_1/' # стр. с рейтингом выручки/ или начало адреса стр. с рейтингом выручки\n",
        "url3 = 'https://www.testfirm.ru/rating-assets/63_11_1/' # стр. с рейтингом активов\n",
        "url4 = 'https://www.testfirm.ru/result/' # начало адреса стр с инф. о  компании"
      ],
      "execution_count": null,
      "outputs": []
    },
    {
      "cell_type": "markdown",
      "metadata": {
        "id": "XvboWt9hEZ1n"
      },
      "source": [
        "## 1 вариант - Сбор информации со списка из первых 50 фирм - с первой страницы фильтра. Минус варианта в том, что в список попадет только 50 компаний. Хотя в рейтинге намного больше фирм. "
      ]
    },
    {
      "cell_type": "code",
      "metadata": {
        "id": "XnUOD1py1HDx",
        "colab": {
          "base_uri": "https://localhost:8080/"
        },
        "outputId": "121c7913-5383-46c2-e2f4-b4d253b28cfd"
      },
      "source": [
        "url_list = 'https://www.testfirm.ru/rating' # рейтинг по всем предприятиям \n",
        "k_1 = 63   #код деятельности\n",
        "k_2 = \"sverdlovskaya-oblast\"  #область\n",
        "url_list_copm = url_list + '/' + str(k_1) + '/' + k_2 + '/'\n",
        "text = requests.get(url_list_copm) # \n",
        "try:\n",
        "  text.status_code == 200\n",
        "  print('Список загружен нормально')\n",
        "except:\n",
        "  print('ОШИБКА! Проверяй!')"
      ],
      "execution_count": null,
      "outputs": [
        {
          "output_type": "stream",
          "text": [
            "Список загружен нормально\n"
          ],
          "name": "stdout"
        }
      ]
    },
    {
      "cell_type": "code",
      "metadata": {
        "id": "RNJ_QyVL9anl"
      },
      "source": [
        "# поиск названия компании\n",
        "text_write = text.text\n",
        "\n",
        "def find_komp(text_write, N):\n",
        "    \"\"\"ф. для поиска ИНН и названия по каждой компании - для формирования url-ссылки на информацию по этой компании\n",
        "    \"\"\"\n",
        "    firma_list = text_write.split('org-link\" href=\"/result/')\n",
        "    return firma_list[N].split('\"')[0]\n",
        "\n",
        "def find_komp_re(text_write, N):\n",
        "  \"\"\"  ф. для поиска ИНН и названия по каждой компании - с помощью регулярных выражений\n",
        "  \"\"\"\n",
        "  pass    "
      ],
      "execution_count": null,
      "outputs": []
    },
    {
      "cell_type": "markdown",
      "metadata": {
        "id": "y7237t6fEpQC"
      },
      "source": [
        "## 2 вариант - Сбор информации со списка из всех фирм фильтра. Попытка собрать данные со всех компаний рейтинга - без ограничений"
      ]
    },
    {
      "cell_type": "markdown",
      "metadata": {
        "id": "xCmFtZ94TdvE"
      },
      "source": [
        "### - загрузим страницу с рейтингом компаний"
      ]
    },
    {
      "cell_type": "code",
      "metadata": {
        "id": "dGTS0FzF4XEp",
        "colab": {
          "base_uri": "https://localhost:8080/"
        },
        "outputId": "578bc7be-5ecb-403e-a94f-9e0639a56b88"
      },
      "source": [
        "# Рейтинг организаций по выручке - Вид деятельности: 63 \"Деятельность в области информационных технологий\"\n",
        "url_list_all = url1 + 'rating/63/' # адрес страницы с рейтингом\n",
        "text_list_all = requests.get(url_list_all) # \n",
        "try:\n",
        "  text_list_all.status_code == 200\n",
        "  print('Список загружен нормально')\n",
        "except:\n",
        "  print('ОШИБКА! Проверяй!')"
      ],
      "execution_count": null,
      "outputs": [
        {
          "output_type": "stream",
          "text": [
            "Список загружен нормально\n"
          ],
          "name": "stdout"
        }
      ]
    },
    {
      "cell_type": "markdown",
      "metadata": {
        "id": "uYBMeVnX7GoP"
      },
      "source": [
        "### - функции необходимые для кода"
      ]
    },
    {
      "cell_type": "code",
      "metadata": {
        "id": "lornttG3lMUW"
      },
      "source": [
        "def find_name(url):\n",
        "    \"\"\" ф. находит инфу для url страницы с информацией по компании - состоит из ИНН и названия Компании\n",
        "    -  inn_firma \n",
        "    \"\"\"\n",
        "    text = requests.get(url)\n",
        "    text_find = text.text \n",
        "    text_find = text_find.split('class=\"org-link\"')[1].split('result/')[1].split('\">')[0]\n",
        "    return text_find\n",
        "\n",
        "def find_name_next(url, koef = 1):\n",
        "    \"\"\" ф. находит инфу для url страницы с информацией по следующей компании\n",
        "    \"\"\"\n",
        "    text = requests.get(url)\n",
        "    text_find = text.text \n",
        "    text_find = text_find.split('class=\"org-link\"')[koef].split('result/')[1].split('\">')[0]\n",
        "    return text_find  "
      ],
      "execution_count": null,
      "outputs": []
    },
    {
      "cell_type": "code",
      "metadata": {
        "id": "uAqjWmzPE3y7"
      },
      "source": [
        "#url_one = 'https://www.testfirm.ru/result/' + name #   https://www.testfirm.ru/result/7708119944_ooo-sibirskaya-internet-kompaniya\n",
        "def find_info_comp(url_one):\n",
        "    \"\"\" ф.собирает информацию по каждой компании и сохраняет данные в строку\n",
        "    \"\"\"\n",
        "    stroka = [] # собираем информацию сюда\n",
        "    text_one = requests.get(url_one)\n",
        "    text_write = text_one.text\n",
        "    a1 = text_write.split('Организация: ')[1]\n",
        "    if text_write.split('id=\"searchText\" name=\"s\" value=')[1].split('placeholder')[0]: # название\n",
        "        stroka.append(text_write.split('id=\"searchText\" name=\"s\" value=')[1].split('placeholder')[0])\n",
        "    else:\n",
        "        stroka.append(0)\n",
        "    stroka.append(a1.split('ИНН: ')[1][:10]) # ИНН\n",
        "    stroka.append(float(a1.split('<b>')[2].split('<')[0].rstrip())) # активы\n",
        "    mln = a1.split('Активы на ')[1].split('/b>')[1][:5].rstrip() # млн или тыс\n",
        "    if mln in 'млн.':\n",
        "        stroka.append(1)\n",
        "    elif mln in 'тыс.':\n",
        "        stroka.append(0.001)\n",
        "    stroka.append(float(a1.split('Выручка')[1].split('b>')[1].split('<')[0].rstrip())) # выручка\n",
        "    mln = a1.split('Выручка')[1].split('b>')[2].split('руб')[0].rstrip() # млн ии тыс\n",
        "    if mln in 'млн.':\n",
        "        stroka.append(1)\n",
        "    elif mln in 'тыс.':\n",
        "        stroka.append(0.001)\n",
        "    if 'численности ' in text_write:\n",
        "        stroka.append(int(a1.split('численности ')[1].split('b>')[1].split('<')[0])) # численность человек\n",
        "    else:\n",
        "        stroka.append(0) \n",
        "    if 'Дополнительные данные ФНС' in text_write:\n",
        "        stroka.append(float(a1.split('Дополнительные данные ФНС')[1].split('padding-left:12px\"><b>')[1].split('<')[0].rstrip())) # доходы \n",
        "        stroka.append(float(a1.split('Дополнительные данные ФНС')[1].split('padding-left:12px\"><b>')[2].split('<')[0].rstrip())) # расходы\n",
        "    else:\n",
        "        stroka.append(0)\n",
        "        stroka.append(0)\n",
        "    if \"Уплачено налогов\" in text_write:\n",
        "        stroka.append(float(text_write.split(\"Уплачено налогов\")[1].split('b>')[1].split('<')[0].rstrip())) # налоги уплаченные\n",
        "    else:\n",
        "        stroka.append(0)\n",
        "    return stroka\n",
        "\n",
        "# надо бы дописать эту функцию\n",
        "def find_info_comp_re(List_all_komp, n_comp):\n",
        "    \"\"\" ф.собирает информацию по каждой компании и сохраняет данные в строку с помощью регулярных выражений\n",
        "    \"\"\"\n",
        "    pass"
      ],
      "execution_count": null,
      "outputs": []
    },
    {
      "cell_type": "code",
      "metadata": {
        "id": "B19XE9xsfT0U"
      },
      "source": [
        "def info_p(value):\n",
        "  \"\"\" ф. чистит каждое значение - переводит его в int\n",
        "  \"\"\"\n",
        "  pass"
      ],
      "execution_count": null,
      "outputs": []
    },
    {
      "cell_type": "markdown",
      "metadata": {
        "id": "tq7XP4797Usu"
      },
      "source": [
        "### - соберем данные. В этом варианте сбор заканчивается на 553 компании(планирую до 6500), дальше идет дублирование информации - 2 последних компании начинают дублироваться в списке"
      ]
    },
    {
      "cell_type": "code",
      "metadata": {
        "id": "4Mxy2TNE7ey7"
      },
      "source": [
        "t0 = time.time()\n",
        "Table_find_values = [] \n",
        "\n",
        "name = find_name(url_list_all)      # ф. найдет определитель компании - inn_firma\n",
        "url_one = url1 + 'result/' + name   # url страницы с информацией о компании\n",
        "text_one = requests.get(url_one)    # создат объект Response\n",
        "a = find_info_comp_primer(url_one)             # ф. покажет инф. о компании\n",
        "#print(a)\n",
        "Table_find_values.append(a)\n",
        "inn = name.split('_')[0]            # выделить инн\n",
        "url_1 = url1 + 'rating/63_11_1/' + inn + '/' # url страницы с местом в рейтинге  / вернутся в рейтинг фирм\n",
        "print('\\t \\t 1')\n",
        "\n",
        "name_next_1 = requests.get(url_1).text.split(name)[1].split('href=\"/result/')[1].split('\">')[0] # найти name следующей компании\n",
        "inn_next = name_next_1.split('_')[0]\n",
        "url_next_company = url1 + 'result/' + name_next_1\n",
        "a = find_info_comp_primer(url_next_company) #  ф. покажет инф. о компании\n",
        "#print(a)\n",
        "Table_find_values.append(a)\n",
        "url_1 = url1 + 'rating/63_11_1/' + inn_next + '/' # url страницы с местом в рейтинге  / вернутся в рейтинг фирм\n",
        "print('\\t \\t 2')\n",
        "\n",
        "for i in range(550):\n",
        "    name_next_1 = requests.get(url_1).text.split(name_next_1)[1].split('href=\"/result/')[1].split('\">')[0] # найти name следующей компании\n",
        "    inn_next = name_next_1.split('_')[0]\n",
        "    url_next_company = url1 + 'result/' + name_next_1\n",
        "    a = find_info_comp_primer(url_next_company) #  ф. покажет инф. о компании\n",
        " #   print(a)\n",
        "    Table_find_values.append(a)\n",
        "    url_1 = url1 + 'rating/63_11_1/' + inn_next + '/' # url страницы с местом в рейтинге  / вернутся в рейтинг фирм \n",
        "    print('\\t \\t', i + 3)"
      ],
      "execution_count": null,
      "outputs": []
    },
    {
      "cell_type": "markdown",
      "metadata": {
        "id": "rxDrlR817gUq"
      },
      "source": [
        "### - соберем данные. В этом варианте сбор информации опять заканчивается на 553 компании. А дальше идет дублирование информации с последней компании"
      ]
    },
    {
      "cell_type": "code",
      "metadata": {
        "id": "9bL5TkcbWQ1J"
      },
      "source": [
        "#\n",
        "t0 = time.time()\n",
        "Table_find_values = [] \n",
        "#\n",
        "t2 = requests.get(url2).text                 # самая первая стр с рейтингом\n",
        "#t2 = requests.get('https://www.testfirm.ru/rating/63_11_1/7736536731/').text    # https://www.testfirm.ru/rating/63_11_1/7736536731/\n",
        "t2 = t2.split('org-link\" href=\"/result/') # инф о самой первой стр с рейтингом\n",
        "INN_name = t2[1].split('\">')[0]                 # INN_name первой компании / t2[1]\n",
        "INN_name_next_1 = t2[2].split('\">')[0] ## INN_name второй компании /  t2[2]\n",
        "INN_name_next_2 = t2[3].split('\">')[0] ## INN_name третьей компании /  t2[2]\n",
        "Table_find_values.append(find_info_comp_primer(url4 + INN_name))\n",
        "Table_find_values.append(find_info_comp_primer(url4 + INN_name_next_1))\n",
        "Table_find_values.append(find_info_comp_primer(url4 + INN_name_next_2))\n",
        "#\n",
        "\n",
        "for i in range(554):\n",
        "    INN_next_1 = INN_name_next_1.split('_')[0] # инн следующей следующей компании\n",
        "    url = url2 + INN_next_1 + '/'\n",
        "    t2 = requests.get(url).text                 #  стр с рейтингом \n",
        "    t3 = t2.split(INN_name_next_1)[1].split('org-link\" href=\"/result/') #стр с рейтингом после компании, разбивка по компаниям\n",
        "    INN_name_next_1 = t3[1].split('\">')[0]\n",
        "    INN_name_next_2 = t3[2].split('\">')[0]\n",
        "    Table_find_values.append(find_info_comp_primer(url4 + INN_name_next_2))\n",
        "#\n",
        "t1 = time.time() - t0\n",
        "t1\n",
        "# возможно ли оптимизировать время, если подправить функцию сбора данных по странице\n",
        "# остановилось на 7736536731  ГС СЕРВИС   место 554 - потом только дублировалось"
      ],
      "execution_count": null,
      "outputs": []
    },
    {
      "cell_type": "markdown",
      "metadata": {
        "id": "-bxSxgfW8YPA"
      },
      "source": [
        "### - соберем данные. В этом варианте сбор информации доходит до 1842 компании и обрывается. После этого в списке начинает дублироваться последняя строчка и поэтому код не может перейти на следующую компанию."
      ]
    },
    {
      "cell_type": "code",
      "metadata": {
        "id": "E3gMPns18dXi"
      },
      "source": [
        "# попробуем обойти ограничение\n",
        "t0 = time.time()\n",
        "Table_find_values = [] \n",
        "LIST_komp = []\n",
        "\n",
        "t2 = requests.get(url2).text                 # самая первая стр с рейтингом\n",
        "t2 = t2.split('org-link\" href=\"/result/') # инф о самой первой стр с рейтингом\n",
        "INN_name = t2[1].split('\">')[0]                 # INN_name первой компании / t2[1]\n",
        "INN_name_next_1 = t2[2].split('\">')[0] ## INN_name второй компании /  t2[2]\n",
        "INN_name_next_2 = t2[3].split('\">')[0] ## INN_name третьей компании /  t2[2]\n",
        "#print(1)\n",
        "Table_find_values.append(find_info_comp_primer(url4 + INN_name))\n",
        "#print(2)\n",
        "Table_find_values.append(find_info_comp_primer(url4 + INN_name_next_1))\n",
        "#print(3)\n",
        "Table_find_values.append(find_info_comp_primer(url4 + INN_name_next_2))\n",
        "\n",
        "for i in range(4185):\n",
        "#    print(i + 4)\n",
        "    INN_name_0 = INN_name_next_2\n",
        "#    print('INN_name_0 - ', INN_name_0)\n",
        "    INN_next_0 = INN_name_next_2.split('_')[0] # инн следующей следующей компании\n",
        "    url = url2 + INN_next_0 + '/' \n",
        "#    print('url - ', url)\n",
        "    t2 = requests.get(url).text                 #  стр с рейтингом \n",
        "    t3 = t2.split(INN_name_next_2)[1].split('org-link\" href=\"/result/') #стр с рейтингом после компании, разбивка по компаниям\n",
        "    INN_name_next_1 = t3[1].split('\">')[0]\n",
        "#    print('INN_name_next_1 - ', INN_name_next_1)\n",
        "    INN_name_next_2 = t3[2].split('\">')[0]\n",
        "#    print('INN_name_next_2 - ', INN_name_next_2)\n",
        "    url_next_1 = url4 + INN_name_next_1\n",
        "#    print('url_next_1 - ', url_next_1)\n",
        "    url_next_2 = url4 + INN_name_next_2\n",
        "#    print('url_next_2 - ', url_next_2)\n",
        "    if INN_name_next_1 not in LIST_komp:           # если нет в списке такого имени, то соберем инфу о компании\n",
        "        Table_find_values.append(find_info_comp_primer(url_next_1)) \n",
        "        LIST_komp.append(INN_name_next_1) # добавим имя в список имен\n",
        "    else:\n",
        "        print('все пропало))')\n",
        "    if INN_name_next_2 not in LIST_komp:           # если нет в списке такого имени, то соберем инфу о компании\n",
        "        Table_find_values.append(find_info_comp_primer(url_next_2))    \n",
        "        LIST_komp.append(INN_name_next_2) # добавим имя в список имен\n",
        "    else:\n",
        "        print('все пропало))')\n",
        "      #  else:\n",
        "      #      print('Все пропало!!!')\n",
        "    if len(LIST_komp) > 10:\n",
        "        LIST_komp.pop() # удалить элемент с индексом 0 - пусть в списке останется всего 10 позиций (LIST_komp будет у нас стеком)\n",
        "    if i % 100 == 0:\n",
        "        print(i + 4) \n",
        "t1 = time.time() - t0\n",
        "t1\n"
      ],
      "execution_count": null,
      "outputs": []
    },
    {
      "cell_type": "code",
      "metadata": {
        "id": "XbbJV1-hJgjl",
        "colab": {
          "base_uri": "https://localhost:8080/"
        },
        "outputId": "2413ce55-e73d-4a74-bbc1-c9fc76e23dc0"
      },
      "source": [
        "len(LIST_komp) # 918 \n",
        "# надо проверить почему длина увеличивается более 10"
      ],
      "execution_count": null,
      "outputs": [
        {
          "output_type": "execute_result",
          "data": {
            "text/plain": [
              "918"
            ]
          },
          "metadata": {
            "tags": []
          },
          "execution_count": 57
        }
      ]
    },
    {
      "cell_type": "markdown",
      "metadata": {
        "id": "pUsX-y-F8huA"
      },
      "source": [
        "### - посмотрим время затраченное на сбор инфы"
      ]
    },
    {
      "cell_type": "code",
      "metadata": {
        "id": "1dRoaF13q4kQ",
        "colab": {
          "base_uri": "https://localhost:8080/"
        },
        "outputId": "8bf971e5-5637-4348-c2e9-51c445f5274d"
      },
      "source": [
        "print('время сбора данных для 6500 компаний- \\t{} мин.'.format(round( t1 / 60, 2))) # 217.5 мин./ 177.87 мин. после корректировки функции\n",
        "# 183.09 мин. по 1 варианту\n",
        "# для 560 комп - 15.62 мин. 1 вариант сбора\n",
        "# для 550 комп - \t21.33 мин. 2 вариант сбора\n",
        "# для 2800 - 29,45мин"
      ],
      "execution_count": null,
      "outputs": [
        {
          "output_type": "stream",
          "text": [
            "время сбора данных для 6500 компаний- \t29.45 мин.\n"
          ],
          "name": "stdout"
        }
      ]
    },
    {
      "cell_type": "code",
      "metadata": {
        "id": "zKdGiLvHpt6z",
        "colab": {
          "base_uri": "https://localhost:8080/"
        },
        "outputId": "09e09d97-d550-432a-99eb-0fca53998020"
      },
      "source": [
        "177.87 / 60 # сколько часов для сбора данных для 6500 позиций / 2.9645"
      ],
      "execution_count": null,
      "outputs": [
        {
          "output_type": "execute_result",
          "data": {
            "text/plain": [
              "2.9645"
            ]
          },
          "metadata": {
            "tags": []
          },
          "execution_count": 135
        }
      ]
    },
    {
      "cell_type": "markdown",
      "metadata": {
        "id": "2vGpTrm71JV8"
      },
      "source": [
        "### Сбор данных по каждой компании - тут только тестирование, проверяю код"
      ]
    },
    {
      "cell_type": "code",
      "metadata": {
        "id": "hQ5lAhJwi5ZA"
      },
      "source": [
        ""
      ],
      "execution_count": null,
      "outputs": []
    },
    {
      "cell_type": "markdown",
      "metadata": {
        "id": "U1ZmhjNB1iKV"
      },
      "source": [
        "# Анализ данных. Тут пробую анализ данных собранных по списку компаний"
      ]
    },
    {
      "cell_type": "code",
      "metadata": {
        "id": "FIIkelTHNCAl"
      },
      "source": [
        "len(Table_find_values) # 2804"
      ],
      "execution_count": null,
      "outputs": []
    },
    {
      "cell_type": "markdown",
      "metadata": {
        "id": "TZA26i28GesB"
      },
      "source": [
        "### - загрузим данные "
      ]
    },
    {
      "cell_type": "code",
      "metadata": {
        "id": "iMQhIFRP1l30"
      },
      "source": [
        "data = pd.DataFrame(Table_find_values)\n",
        "data.columns = ['name', 'inn', 'aktiv','e_a' , 'revenue', 'e_v', 'staff', 'income', 'expenses', 'nalog'] \n",
        "# name, inn, aktiv/активы, revenue/выручка, персонал/staff,   доходы/income,    расходы/expenses, налоги/tax\n",
        "data = data[:1845]\n",
        "data.tail(5)"
      ],
      "execution_count": null,
      "outputs": []
    },
    {
      "cell_type": "code",
      "metadata": {
        "id": "HSIAO4G36MKV"
      },
      "source": [
        "#загрузить файл на лок.машину\n",
        "data.to_csv('data_find_values.csv')  # запишем в файл"
      ],
      "execution_count": null,
      "outputs": []
    },
    {
      "cell_type": "code",
      "metadata": {
        "id": "zNOznVj26MH5",
        "colab": {
          "resources": {
            "http://localhost:8080/nbextensions/google.colab/files.js": {
              "data": "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",
              "ok": true,
              "headers": [
                [
                  "content-type",
                  "application/javascript"
                ]
              ],
              "status": 200,
              "status_text": ""
            }
          },
          "base_uri": "https://localhost:8080/",
          "height": 73
        },
        "outputId": "e2a433dd-4b83-4d5d-9792-bd2b25410a5e"
      },
      "source": [
        "# загрузим файл с лок.машины на колаб\n",
        "uploaded = files.upload()"
      ],
      "execution_count": 3,
      "outputs": [
        {
          "output_type": "display_data",
          "data": {
            "text/html": [
              "\n",
              "     <input type=\"file\" id=\"files-54ee1221-9a13-4b20-9585-ab6d67b34c13\" name=\"files[]\" multiple disabled\n",
              "        style=\"border:none\" />\n",
              "     <output id=\"result-54ee1221-9a13-4b20-9585-ab6d67b34c13\">\n",
              "      Upload widget is only available when the cell has been executed in the\n",
              "      current browser session. Please rerun this cell to enable.\n",
              "      </output>\n",
              "      <script src=\"/nbextensions/google.colab/files.js\"></script> "
            ],
            "text/plain": [
              "<IPython.core.display.HTML object>"
            ]
          },
          "metadata": {
            "tags": []
          }
        },
        {
          "output_type": "stream",
          "text": [
            "Saving data_find_values.csv to data_find_values.csv\n"
          ],
          "name": "stdout"
        }
      ]
    },
    {
      "cell_type": "code",
      "metadata": {
        "id": "RVcbNLNi6d4E"
      },
      "source": [
        "data = pd.read_csv('data_find_values.csv', index_col= 'Unnamed: 0') # определить загруженный файл в таблицу"
      ],
      "execution_count": 5,
      "outputs": []
    },
    {
      "cell_type": "markdown",
      "metadata": {
        "id": "BE-zN-eXGUwY"
      },
      "source": [
        "### - посмотрим на данные"
      ]
    },
    {
      "cell_type": "code",
      "metadata": {
        "id": "4iNkH7_qd-f7",
        "colab": {
          "base_uri": "https://localhost:8080/",
          "height": 136
        },
        "outputId": "d6ce8a0b-5d4e-4739-a59a-d7eb8cbdca69"
      },
      "source": [
        "data.head(3)"
      ],
      "execution_count": 6,
      "outputs": [
        {
          "output_type": "execute_result",
          "data": {
            "text/html": [
              "<div>\n",
              "<style scoped>\n",
              "    .dataframe tbody tr th:only-of-type {\n",
              "        vertical-align: middle;\n",
              "    }\n",
              "\n",
              "    .dataframe tbody tr th {\n",
              "        vertical-align: top;\n",
              "    }\n",
              "\n",
              "    .dataframe thead th {\n",
              "        text-align: right;\n",
              "    }\n",
              "</style>\n",
              "<table border=\"1\" class=\"dataframe\">\n",
              "  <thead>\n",
              "    <tr style=\"text-align: right;\">\n",
              "      <th></th>\n",
              "      <th>name</th>\n",
              "      <th>inn</th>\n",
              "      <th>aktiv</th>\n",
              "      <th>e_a</th>\n",
              "      <th>revenue</th>\n",
              "      <th>e_v</th>\n",
              "      <th>staff</th>\n",
              "      <th>income</th>\n",
              "      <th>expenses</th>\n",
              "      <th>nalog</th>\n",
              "    </tr>\n",
              "  </thead>\n",
              "  <tbody>\n",
              "    <tr>\n",
              "      <th>0</th>\n",
              "      <td>\"Сибирская Интернет Компания\"</td>\n",
              "      <td>7708119944</td>\n",
              "      <td>47403.0</td>\n",
              "      <td>1.0</td>\n",
              "      <td>52074.0</td>\n",
              "      <td>1</td>\n",
              "      <td>0</td>\n",
              "      <td>0.0</td>\n",
              "      <td>0.0</td>\n",
              "      <td>0.0</td>\n",
              "    </tr>\n",
              "    <tr>\n",
              "      <th>1</th>\n",
              "      <td>\"МЭЙЛ РУ\"</td>\n",
              "      <td>7743001840</td>\n",
              "      <td>198742.0</td>\n",
              "      <td>1.0</td>\n",
              "      <td>45582.0</td>\n",
              "      <td>1</td>\n",
              "      <td>0</td>\n",
              "      <td>0.0</td>\n",
              "      <td>0.0</td>\n",
              "      <td>0.0</td>\n",
              "    </tr>\n",
              "    <tr>\n",
              "      <th>2</th>\n",
              "      <td>\"Центр программ лояльности\"</td>\n",
              "      <td>7702770003</td>\n",
              "      <td>8723.0</td>\n",
              "      <td>1.0</td>\n",
              "      <td>32778.0</td>\n",
              "      <td>1</td>\n",
              "      <td>166</td>\n",
              "      <td>33174.0</td>\n",
              "      <td>30617.0</td>\n",
              "      <td>1680.0</td>\n",
              "    </tr>\n",
              "  </tbody>\n",
              "</table>\n",
              "</div>"
            ],
            "text/plain": [
              "                            name         inn  ...  expenses   nalog\n",
              "0  \"Сибирская Интернет Компания\"  7708119944  ...       0.0     0.0\n",
              "1                      \"МЭЙЛ РУ\"  7743001840  ...       0.0     0.0\n",
              "2    \"Центр программ лояльности\"  7702770003  ...   30617.0  1680.0\n",
              "\n",
              "[3 rows x 10 columns]"
            ]
          },
          "metadata": {
            "tags": []
          },
          "execution_count": 6
        }
      ]
    },
    {
      "cell_type": "code",
      "metadata": {
        "id": "zF7pjzwQDN--",
        "colab": {
          "base_uri": "https://localhost:8080/",
          "height": 136
        },
        "outputId": "9822d766-a4fb-498f-c934-1095654e44b8"
      },
      "source": [
        "data.tail(3)"
      ],
      "execution_count": 7,
      "outputs": [
        {
          "output_type": "execute_result",
          "data": {
            "text/html": [
              "<div>\n",
              "<style scoped>\n",
              "    .dataframe tbody tr th:only-of-type {\n",
              "        vertical-align: middle;\n",
              "    }\n",
              "\n",
              "    .dataframe tbody tr th {\n",
              "        vertical-align: top;\n",
              "    }\n",
              "\n",
              "    .dataframe thead th {\n",
              "        text-align: right;\n",
              "    }\n",
              "</style>\n",
              "<table border=\"1\" class=\"dataframe\">\n",
              "  <thead>\n",
              "    <tr style=\"text-align: right;\">\n",
              "      <th></th>\n",
              "      <th>name</th>\n",
              "      <th>inn</th>\n",
              "      <th>aktiv</th>\n",
              "      <th>e_a</th>\n",
              "      <th>revenue</th>\n",
              "      <th>e_v</th>\n",
              "      <th>staff</th>\n",
              "      <th>income</th>\n",
              "      <th>expenses</th>\n",
              "      <th>nalog</th>\n",
              "    </tr>\n",
              "  </thead>\n",
              "  <tbody>\n",
              "    <tr>\n",
              "      <th>1840</th>\n",
              "      <td>\"УКС\"</td>\n",
              "      <td>6670036839</td>\n",
              "      <td>1.34</td>\n",
              "      <td>1.0</td>\n",
              "      <td>8.34</td>\n",
              "      <td>1</td>\n",
              "      <td>6</td>\n",
              "      <td>8.35</td>\n",
              "      <td>8.20</td>\n",
              "      <td>370.0</td>\n",
              "    </tr>\n",
              "    <tr>\n",
              "      <th>1841</th>\n",
              "      <td>\"БИГПАУЭР НЬЮС\"</td>\n",
              "      <td>7703818321</td>\n",
              "      <td>1.87</td>\n",
              "      <td>1.0</td>\n",
              "      <td>8.34</td>\n",
              "      <td>1</td>\n",
              "      <td>2</td>\n",
              "      <td>8.40</td>\n",
              "      <td>5.59</td>\n",
              "      <td>516.0</td>\n",
              "    </tr>\n",
              "    <tr>\n",
              "      <th>1842</th>\n",
              "      <td>\"ТОП СПОТ\"</td>\n",
              "      <td>7735574389</td>\n",
              "      <td>16.10</td>\n",
              "      <td>1.0</td>\n",
              "      <td>8.34</td>\n",
              "      <td>1</td>\n",
              "      <td>4</td>\n",
              "      <td>8.36</td>\n",
              "      <td>7.21</td>\n",
              "      <td>817.0</td>\n",
              "    </tr>\n",
              "  </tbody>\n",
              "</table>\n",
              "</div>"
            ],
            "text/plain": [
              "                 name         inn  aktiv  e_a  ...  staff  income  expenses  nalog\n",
              "1840            \"УКС\"  6670036839   1.34  1.0  ...      6    8.35      8.20  370.0\n",
              "1841  \"БИГПАУЭР НЬЮС\"  7703818321   1.87  1.0  ...      2    8.40      5.59  516.0\n",
              "1842       \"ТОП СПОТ\"  7735574389  16.10  1.0  ...      4    8.36      7.21  817.0\n",
              "\n",
              "[3 rows x 10 columns]"
            ]
          },
          "metadata": {
            "tags": []
          },
          "execution_count": 7
        }
      ]
    },
    {
      "cell_type": "markdown",
      "metadata": {
        "id": "pvNsGIYUGoW9"
      },
      "source": [
        "### - почистим данные"
      ]
    },
    {
      "cell_type": "code",
      "metadata": {
        "id": "GplTWdUCnnBV",
        "colab": {
          "base_uri": "https://localhost:8080/"
        },
        "outputId": "c86d206a-642c-4c58-fc08-d2c512aa1d36"
      },
      "source": [
        "data.e_a.value_counts() # кол-во активов больше и меньше млн. / \n",
        "#data.e_v.value_counts() # кол-во активов больше и меньше млн. /   "
      ],
      "execution_count": 8,
      "outputs": [
        {
          "output_type": "execute_result",
          "data": {
            "text/plain": [
              "1.000    1777\n",
              "0.001      65\n",
              "0.000       1\n",
              "Name: e_a, dtype: int64"
            ]
          },
          "metadata": {
            "tags": []
          },
          "execution_count": 8
        }
      ]
    },
    {
      "cell_type": "code",
      "metadata": {
        "id": "JM_iM7S7_Bwb",
        "colab": {
          "base_uri": "https://localhost:8080/"
        },
        "outputId": "35f59aba-b041-49dd-a434-84b6f42ef2d6"
      },
      "source": [
        "data.info() # проверю тип данных в таблице, не ошибся ли где"
      ],
      "execution_count": 9,
      "outputs": [
        {
          "output_type": "stream",
          "text": [
            "<class 'pandas.core.frame.DataFrame'>\n",
            "Int64Index: 1843 entries, 0 to 1842\n",
            "Data columns (total 10 columns):\n",
            " #   Column    Non-Null Count  Dtype  \n",
            "---  ------    --------------  -----  \n",
            " 0   name      1843 non-null   object \n",
            " 1   inn       1843 non-null   int64  \n",
            " 2   aktiv     1843 non-null   float64\n",
            " 3   e_a       1843 non-null   float64\n",
            " 4   revenue   1843 non-null   float64\n",
            " 5   e_v       1843 non-null   int64  \n",
            " 6   staff     1843 non-null   int64  \n",
            " 7   income    1843 non-null   float64\n",
            " 8   expenses  1843 non-null   float64\n",
            " 9   nalog     1843 non-null   float64\n",
            "dtypes: float64(6), int64(3), object(1)\n",
            "memory usage: 158.4+ KB\n"
          ],
          "name": "stdout"
        }
      ]
    },
    {
      "cell_type": "code",
      "metadata": {
        "id": "EPjjB2h2JcOh"
      },
      "source": [
        "data_1 = data.copy() # скопируем файл , чтобы не менять даные в итоговой таблице"
      ],
      "execution_count": 10,
      "outputs": []
    },
    {
      "cell_type": "code",
      "metadata": {
        "id": "F9NCkk-cLl8x",
        "colab": {
          "base_uri": "https://localhost:8080/",
          "height": 136
        },
        "outputId": "647107fc-5434-4ed5-9052-999849e8614f"
      },
      "source": [
        "data_1.head(3) # проверим , что скопировалось"
      ],
      "execution_count": 11,
      "outputs": [
        {
          "output_type": "execute_result",
          "data": {
            "text/html": [
              "<div>\n",
              "<style scoped>\n",
              "    .dataframe tbody tr th:only-of-type {\n",
              "        vertical-align: middle;\n",
              "    }\n",
              "\n",
              "    .dataframe tbody tr th {\n",
              "        vertical-align: top;\n",
              "    }\n",
              "\n",
              "    .dataframe thead th {\n",
              "        text-align: right;\n",
              "    }\n",
              "</style>\n",
              "<table border=\"1\" class=\"dataframe\">\n",
              "  <thead>\n",
              "    <tr style=\"text-align: right;\">\n",
              "      <th></th>\n",
              "      <th>name</th>\n",
              "      <th>inn</th>\n",
              "      <th>aktiv</th>\n",
              "      <th>e_a</th>\n",
              "      <th>revenue</th>\n",
              "      <th>e_v</th>\n",
              "      <th>staff</th>\n",
              "      <th>income</th>\n",
              "      <th>expenses</th>\n",
              "      <th>nalog</th>\n",
              "    </tr>\n",
              "  </thead>\n",
              "  <tbody>\n",
              "    <tr>\n",
              "      <th>0</th>\n",
              "      <td>\"Сибирская Интернет Компания\"</td>\n",
              "      <td>7708119944</td>\n",
              "      <td>47403.0</td>\n",
              "      <td>1.0</td>\n",
              "      <td>52074.0</td>\n",
              "      <td>1</td>\n",
              "      <td>0</td>\n",
              "      <td>0.0</td>\n",
              "      <td>0.0</td>\n",
              "      <td>0.0</td>\n",
              "    </tr>\n",
              "    <tr>\n",
              "      <th>1</th>\n",
              "      <td>\"МЭЙЛ РУ\"</td>\n",
              "      <td>7743001840</td>\n",
              "      <td>198742.0</td>\n",
              "      <td>1.0</td>\n",
              "      <td>45582.0</td>\n",
              "      <td>1</td>\n",
              "      <td>0</td>\n",
              "      <td>0.0</td>\n",
              "      <td>0.0</td>\n",
              "      <td>0.0</td>\n",
              "    </tr>\n",
              "    <tr>\n",
              "      <th>2</th>\n",
              "      <td>\"Центр программ лояльности\"</td>\n",
              "      <td>7702770003</td>\n",
              "      <td>8723.0</td>\n",
              "      <td>1.0</td>\n",
              "      <td>32778.0</td>\n",
              "      <td>1</td>\n",
              "      <td>166</td>\n",
              "      <td>33174.0</td>\n",
              "      <td>30617.0</td>\n",
              "      <td>1680.0</td>\n",
              "    </tr>\n",
              "  </tbody>\n",
              "</table>\n",
              "</div>"
            ],
            "text/plain": [
              "                            name         inn  ...  expenses   nalog\n",
              "0  \"Сибирская Интернет Компания\"  7708119944  ...       0.0     0.0\n",
              "1                      \"МЭЙЛ РУ\"  7743001840  ...       0.0     0.0\n",
              "2    \"Центр программ лояльности\"  7702770003  ...   30617.0  1680.0\n",
              "\n",
              "[3 rows x 10 columns]"
            ]
          },
          "metadata": {
            "tags": []
          },
          "execution_count": 11
        }
      ]
    },
    {
      "cell_type": "code",
      "metadata": {
        "id": "vJFW_v9aZrbG",
        "colab": {
          "base_uri": "https://localhost:8080/",
          "height": 136
        },
        "outputId": "2df07e28-0ce3-4e25-ea7e-6986884ae450"
      },
      "source": [
        "# заведем новые столбцы\n",
        "data_1['AKTIV'] = data_1['aktiv'] * data_1['e_a']\n",
        "data_1['SALE'] = data_1['revenue'] * data_1['e_v']\n",
        "#\n",
        "# удалим старые столбцы\n",
        "data_1 = data_1.drop(['aktiv', 'e_a', 'revenue', 'e_v'], axis= 1)\n",
        "data_1.head(3)"
      ],
      "execution_count": 12,
      "outputs": [
        {
          "output_type": "execute_result",
          "data": {
            "text/html": [
              "<div>\n",
              "<style scoped>\n",
              "    .dataframe tbody tr th:only-of-type {\n",
              "        vertical-align: middle;\n",
              "    }\n",
              "\n",
              "    .dataframe tbody tr th {\n",
              "        vertical-align: top;\n",
              "    }\n",
              "\n",
              "    .dataframe thead th {\n",
              "        text-align: right;\n",
              "    }\n",
              "</style>\n",
              "<table border=\"1\" class=\"dataframe\">\n",
              "  <thead>\n",
              "    <tr style=\"text-align: right;\">\n",
              "      <th></th>\n",
              "      <th>name</th>\n",
              "      <th>inn</th>\n",
              "      <th>staff</th>\n",
              "      <th>income</th>\n",
              "      <th>expenses</th>\n",
              "      <th>nalog</th>\n",
              "      <th>AKTIV</th>\n",
              "      <th>SALE</th>\n",
              "    </tr>\n",
              "  </thead>\n",
              "  <tbody>\n",
              "    <tr>\n",
              "      <th>0</th>\n",
              "      <td>\"Сибирская Интернет Компания\"</td>\n",
              "      <td>7708119944</td>\n",
              "      <td>0</td>\n",
              "      <td>0.0</td>\n",
              "      <td>0.0</td>\n",
              "      <td>0.0</td>\n",
              "      <td>47403.0</td>\n",
              "      <td>52074.0</td>\n",
              "    </tr>\n",
              "    <tr>\n",
              "      <th>1</th>\n",
              "      <td>\"МЭЙЛ РУ\"</td>\n",
              "      <td>7743001840</td>\n",
              "      <td>0</td>\n",
              "      <td>0.0</td>\n",
              "      <td>0.0</td>\n",
              "      <td>0.0</td>\n",
              "      <td>198742.0</td>\n",
              "      <td>45582.0</td>\n",
              "    </tr>\n",
              "    <tr>\n",
              "      <th>2</th>\n",
              "      <td>\"Центр программ лояльности\"</td>\n",
              "      <td>7702770003</td>\n",
              "      <td>166</td>\n",
              "      <td>33174.0</td>\n",
              "      <td>30617.0</td>\n",
              "      <td>1680.0</td>\n",
              "      <td>8723.0</td>\n",
              "      <td>32778.0</td>\n",
              "    </tr>\n",
              "  </tbody>\n",
              "</table>\n",
              "</div>"
            ],
            "text/plain": [
              "                            name         inn  staff  ...   nalog     AKTIV     SALE\n",
              "0  \"Сибирская Интернет Компания\"  7708119944      0  ...     0.0   47403.0  52074.0\n",
              "1                      \"МЭЙЛ РУ\"  7743001840      0  ...     0.0  198742.0  45582.0\n",
              "2    \"Центр программ лояльности\"  7702770003    166  ...  1680.0    8723.0  32778.0\n",
              "\n",
              "[3 rows x 8 columns]"
            ]
          },
          "metadata": {
            "tags": []
          },
          "execution_count": 12
        }
      ]
    },
    {
      "cell_type": "markdown",
      "metadata": {
        "id": "mySdK3AsHnlK"
      },
      "source": [
        "### - начнем анализ"
      ]
    },
    {
      "cell_type": "code",
      "metadata": {
        "id": "WoLV2GZe-UnK",
        "colab": {
          "base_uri": "https://localhost:8080/",
          "height": 284
        },
        "outputId": "47cc7088-c532-4e76-e8e5-2309dafd989c"
      },
      "source": [
        "data_1.loc[:,['AKTIV', 'SALE']].describe() # найдем среднее , max, min и квантили выручки и активов"
      ],
      "execution_count": 13,
      "outputs": [
        {
          "output_type": "execute_result",
          "data": {
            "text/html": [
              "<div>\n",
              "<style scoped>\n",
              "    .dataframe tbody tr th:only-of-type {\n",
              "        vertical-align: middle;\n",
              "    }\n",
              "\n",
              "    .dataframe tbody tr th {\n",
              "        vertical-align: top;\n",
              "    }\n",
              "\n",
              "    .dataframe thead th {\n",
              "        text-align: right;\n",
              "    }\n",
              "</style>\n",
              "<table border=\"1\" class=\"dataframe\">\n",
              "  <thead>\n",
              "    <tr style=\"text-align: right;\">\n",
              "      <th></th>\n",
              "      <th>AKTIV</th>\n",
              "      <th>SALE</th>\n",
              "    </tr>\n",
              "  </thead>\n",
              "  <tbody>\n",
              "    <tr>\n",
              "      <th>count</th>\n",
              "      <td>1843.000000</td>\n",
              "      <td>1843.000000</td>\n",
              "    </tr>\n",
              "    <tr>\n",
              "      <th>mean</th>\n",
              "      <td>263.094530</td>\n",
              "      <td>208.350011</td>\n",
              "    </tr>\n",
              "    <tr>\n",
              "      <th>std</th>\n",
              "      <td>4930.770393</td>\n",
              "      <td>1865.622168</td>\n",
              "    </tr>\n",
              "    <tr>\n",
              "      <th>min</th>\n",
              "      <td>0.000000</td>\n",
              "      <td>8.340000</td>\n",
              "    </tr>\n",
              "    <tr>\n",
              "      <th>25%</th>\n",
              "      <td>5.270000</td>\n",
              "      <td>15.800000</td>\n",
              "    </tr>\n",
              "    <tr>\n",
              "      <th>50%</th>\n",
              "      <td>13.800000</td>\n",
              "      <td>31.800000</td>\n",
              "    </tr>\n",
              "    <tr>\n",
              "      <th>75%</th>\n",
              "      <td>39.150000</td>\n",
              "      <td>74.550000</td>\n",
              "    </tr>\n",
              "    <tr>\n",
              "      <th>max</th>\n",
              "      <td>198742.000000</td>\n",
              "      <td>52074.000000</td>\n",
              "    </tr>\n",
              "  </tbody>\n",
              "</table>\n",
              "</div>"
            ],
            "text/plain": [
              "               AKTIV          SALE\n",
              "count    1843.000000   1843.000000\n",
              "mean      263.094530    208.350011\n",
              "std      4930.770393   1865.622168\n",
              "min         0.000000      8.340000\n",
              "25%         5.270000     15.800000\n",
              "50%        13.800000     31.800000\n",
              "75%        39.150000     74.550000\n",
              "max    198742.000000  52074.000000"
            ]
          },
          "metadata": {
            "tags": []
          },
          "execution_count": 13
        }
      ]
    },
    {
      "cell_type": "markdown",
      "metadata": {
        "id": "Oqrw4LFYAz6C"
      },
      "source": [
        "### SALE / рассмотрим выручку компаний"
      ]
    },
    {
      "cell_type": "code",
      "metadata": {
        "id": "RzRmXP3gIFD2",
        "colab": {
          "base_uri": "https://localhost:8080/",
          "height": 367
        },
        "outputId": "b9f76e77-000c-46a5-8f05-0d5b53fcd806"
      },
      "source": [
        "# распределение выручки компаний\n",
        "sale_1 = data_1.SALE.hist(bins= 25, figsize=[15, 5]) # более 1750 компаний имеют выручку менее 5 000 млн.руб.\n",
        "\n",
        "sale_1.set_title('Распределение выручки по объему')\n",
        "sale_1.set_xlabel('Объем выручки, млн.руб.')\n",
        "sale_1.set_ylabel('Кол-во компаний')\n",
        "sale_1.set_xticks(range(0, 50000, 5000)) # разделение оси Х\n",
        "sale_1.legend(['aaaa', 'bbbb'])"
      ],
      "execution_count": 14,
      "outputs": [
        {
          "output_type": "execute_result",
          "data": {
            "text/plain": [
              "<matplotlib.legend.Legend at 0x7f07ba448f60>"
            ]
          },
          "metadata": {
            "tags": []
          },
          "execution_count": 14
        },
        {
          "output_type": "display_data",
          "data": {
            "image/png": "[encoded data removed]",
            "text/plain": [
              "<Figure size 1080x360 with 1 Axes>"
            ]
          },
          "metadata": {
            "tags": [],
            "needs_background": "light"
          }
        }
      ]
    },
    {
      "cell_type": "code",
      "metadata": {
        "colab": {
          "base_uri": "https://localhost:8080/",
          "height": 383
        },
        "id": "cxXiIncRd6bU",
        "outputId": "168e9401-c576-460b-f36d-2a3ca04c2841"
      },
      "source": [
        "sns.countplot(data_1.SALE) # распределение выручки в этой группе "
      ],
      "execution_count": 38,
      "outputs": [
        {
          "output_type": "stream",
          "text": [
            "/usr/local/lib/python3.6/dist-packages/seaborn/_decorators.py:43: FutureWarning:\n",
            "\n",
            "Pass the following variable as a keyword arg: x. From version 0.12, the only valid positional argument will be `data`, and passing other arguments without an explicit keyword will result in an error or misinterpretation.\n",
            "\n"
          ],
          "name": "stderr"
        },
        {
          "output_type": "execute_result",
          "data": {
            "text/plain": [
              "<matplotlib.axes._subplots.AxesSubplot at 0x7f07b69a55c0>"
            ]
          },
          "metadata": {
            "tags": []
          },
          "execution_count": 38
        },
        {
          "output_type": "display_data",
          "data": {
            "image/png": "[encoded data removed]",
            "text/plain": [
              "<Figure size 432x288 with 1 Axes>"
            ]
          },
          "metadata": {
            "tags": [],
            "needs_background": "light"
          }
        }
      ]
    },
    {
      "cell_type": "code",
      "metadata": {
        "id": "Po3aNv6_BBy-",
        "colab": {
          "base_uri": "https://localhost:8080/",
          "height": 350
        },
        "outputId": "a2f4e572-d808-43b3-f7f5-547711d5b5de"
      },
      "source": [
        "# гистограмма и график плотности распределения выручки компаний\n",
        "sns.distplot(data_1['SALE'])"
      ],
      "execution_count": 15,
      "outputs": [
        {
          "output_type": "stream",
          "text": [
            "/usr/local/lib/python3.6/dist-packages/seaborn/distributions.py:2551: FutureWarning: `distplot` is a deprecated function and will be removed in a future version. Please adapt your code to use either `displot` (a figure-level function with similar flexibility) or `histplot` (an axes-level function for histograms).\n",
            "  warnings.warn(msg, FutureWarning)\n"
          ],
          "name": "stderr"
        },
        {
          "output_type": "execute_result",
          "data": {
            "text/plain": [
              "<matplotlib.axes._subplots.AxesSubplot at 0x7f07ba3a8780>"
            ]
          },
          "metadata": {
            "tags": []
          },
          "execution_count": 15
        },
        {
          "output_type": "display_data",
          "data": {
            "image/png": "[encoded data removed]",
            "text/plain": [
              "<Figure size 432x288 with 1 Axes>"
            ]
          },
          "metadata": {
            "tags": [],
            "needs_background": "light"
          }
        }
      ]
    },
    {
      "cell_type": "code",
      "metadata": {
        "id": "rj5Wa0dPBB7W"
      },
      "source": [
        "# графики в интерактивном режиме\n",
        "import plotly\n",
        "import plotly.graph_objs as go\n",
        "import plotly.express as px\n",
        "from plotly.subplots import make_subplots\n"
      ],
      "execution_count": 39,
      "outputs": []
    },
    {
      "cell_type": "code",
      "metadata": {
        "id": "-pb4JXWkBB32",
        "colab": {
          "base_uri": "https://localhost:8080/",
          "height": 542
        },
        "outputId": "b740a0bc-5190-41a5-9b8d-da2b1568d8db"
      },
      "source": [
        "# интерактивный график plotly - проверка кода\n",
        "fig = go.Figure()\n",
        "fig.add_trace(go.Scatter(x=data_1.index, y= data_1.SALE, name='SALE'))\n",
        "#fig.add_trace(go.Scatter(x=data_1.AKTIV, y= data_1.index,  name= 'AKTIV'))\n",
        "fig.update_layout(title=\"Выручка\",\n",
        "                  xaxis_title=\"Выручка, млн.руб.\",\\\n",
        "                  yaxis_title=\"№ компании\",\\\n",
        "                  legend=dict(xanchor=\"center\"))\n",
        "fig.show(renderer=\"colab\")"
      ],
      "execution_count": 17,
      "outputs": [
        {
          "output_type": "display_data",
          "data": {
            "text/html": [
              "<html>\n",
              "<head><meta charset=\"utf-8\" /></head>\n",
              "<body>\n",
              "    <div>\n",
              "            <script src=\"https://cdnjs.cloudflare.com/ajax/libs/mathjax/2.7.5/MathJax.js?config=TeX-AMS-MML_SVG\"></script><script type=\"text/javascript\">if (window.MathJax) {MathJax.Hub.Config({SVG: {font: \"STIX-Web\"}});}</script>\n",
              "                <script type=\"text/javascript\">window.PlotlyConfig = {MathJaxConfig: 'local'};</script>\n",
              "        <script src=\"https://cdn.plot.ly/plotly-latest.min.js\"></script>    \n",
              "            <div id=\"c331eab2-c7eb-43b7-852c-cb010325a880\" class=\"plotly-graph-div\" style=\"height:525px; width:100%;\"></div>\n",
              "            <script type=\"text/javascript\">\n",
              "                \n",
              "                    window.PLOTLYENV=window.PLOTLYENV || {};\n",
              "                    \n",
              "                if (document.getElementById(\"c331eab2-c7eb-43b7-852c-cb010325a880\")) {\n",
              "                    Plotly.newPlot(\n",
              "                        'c331eab2-c7eb-43b7-852c-cb010325a880',\n",
              "                        [{\"name\": \"SALE\", \"type\": \"scatter\", \"x\": [0, 1, 2, 3, 4, 5, 6, 7, 8, 9, 10, 11, 12, 13, 14, 15, 16, 17, 18, 19, 20, 21, 22, 23, 24, 25, 26, 27, 28, 29, 30, 31, 32, 33, 34, 35, 36, 37, 38, 39, 40, 41, 42, 43, 44, 45, 46, 47, 48, 49, 50, 51, 52, 53, 54, 55, 56, 57, 58, 59, 60, 61, 62, 63, 64, 65, 66, 67, 68, 69, 70, 71, 72, 73, 74, 75, 76, 77, 78, 79, 80, 81, 82, 83, 84, 85, 86, 87, 88, 89, 90, 91, 92, 93, 94, 95, 96, 97, 98, 99, 100, 101, 102, 103, 104, 105, 106, 107, 108, 109, 110, 111, 112, 113, 114, 115, 116, 117, 118, 119, 120, 121, 122, 123, 124, 125, 126, 127, 128, 129, 130, 131, 132, 133, 134, 135, 136, 137, 138, 139, 140, 141, 142, 143, 144, 145, 146, 147, 148, 149, 150, 151, 152, 153, 154, 155, 156, 157, 158, 159, 160, 161, 162, 163, 164, 165, 166, 167, 168, 169, 170, 171, 172, 173, 174, 175, 176, 177, 178, 179, 180, 181, 182, 183, 184, 185, 186, 187, 188, 189, 190, 191, 192, 193, 194, 195, 196, 197, 198, 199, 200, 201, 202, 203, 204, 205, 206, 207, 208, 209, 210, 211, 212, 213, 214, 215, 216, 217, 218, 219, 220, 221, 222, 223, 224, 225, 226, 227, 228, 229, 230, 231, 232, 233, 234, 235, 236, 237, 238, 239, 240, 241, 242, 243, 244, 245, 246, 247, 248, 249, 250, 251, 252, 253, 254, 255, 256, 257, 258, 259, 260, 261, 262, 263, 264, 265, 266, 267, 268, 269, 270, 271, 272, 273, 274, 275, 276, 277, 278, 279, 280, 281, 282, 283, 284, 285, 286, 287, 288, 289, 290, 291, 292, 293, 294, 295, 296, 297, 298, 299, 300, 301, 302, 303, 304, 305, 306, 307, 308, 309, 310, 311, 312, 313, 314, 315, 316, 317, 318, 319, 320, 321, 322, 323, 324, 325, 326, 327, 328, 329, 330, 331, 332, 333, 334, 335, 336, 337, 338, 339, 340, 341, 342, 343, 344, 345, 346, 347, 348, 349, 350, 351, 352, 353, 354, 355, 356, 357, 358, 359, 360, 361, 362, 363, 364, 365, 366, 367, 368, 369, 370, 371, 372, 373, 374, 375, 376, 377, 378, 379, 380, 381, 382, 383, 384, 385, 386, 387, 388, 389, 390, 391, 392, 393, 394, 395, 396, 397, 398, 399, 400, 401, 402, 403, 404, 405, 406, 407, 408, 409, 410, 411, 412, 413, 414, 415, 416, 417, 418, 419, 420, 421, 422, 423, 424, 425, 426, 427, 428, 429, 430, 431, 432, 433, 434, 435, 436, 437, 438, 439, 440, 441, 442, 443, 444, 445, 446, 447, 448, 449, 450, 451, 452, 453, 454, 455, 456, 457, 458, 459, 460, 461, 462, 463, 464, 465, 466, 467, 468, 469, 470, 471, 472, 473, 474, 475, 476, 477, 478, 479, 480, 481, 482, 483, 484, 485, 486, 487, 488, 489, 490, 491, 492, 493, 494, 495, 496, 497, 498, 499, 500, 501, 502, 503, 504, 505, 506, 507, 508, 509, 510, 511, 512, 513, 514, 515, 516, 517, 518, 519, 520, 521, 522, 523, 524, 525, 526, 527, 528, 529, 530, 531, 532, 533, 534, 535, 536, 537, 538, 539, 540, 541, 542, 543, 544, 545, 546, 547, 548, 549, 550, 551, 552, 553, 554, 555, 556, 557, 558, 559, 560, 561, 562, 563, 564, 565, 566, 567, 568, 569, 570, 571, 572, 573, 574, 575, 576, 577, 578, 579, 580, 581, 582, 583, 584, 585, 586, 587, 588, 589, 590, 591, 592, 593, 594, 595, 596, 597, 598, 599, 600, 601, 602, 603, 604, 605, 606, 607, 608, 609, 610, 611, 612, 613, 614, 615, 616, 617, 618, 619, 620, 621, 622, 623, 624, 625, 626, 627, 628, 629, 630, 631, 632, 633, 634, 635, 636, 637, 638, 639, 640, 641, 642, 643, 644, 645, 646, 647, 648, 649, 650, 651, 652, 653, 654, 655, 656, 657, 658, 659, 660, 661, 662, 663, 664, 665, 666, 667, 668, 669, 670, 671, 672, 673, 674, 675, 676, 677, 678, 679, 680, 681, 682, 683, 684, 685, 686, 687, 688, 689, 690, 691, 692, 693, 694, 695, 696, 697, 698, 699, 700, 701, 702, 703, 704, 705, 706, 707, 708, 709, 710, 711, 712, 713, 714, 715, 716, 717, 718, 719, 720, 721, 722, 723, 724, 725, 726, 727, 728, 729, 730, 731, 732, 733, 734, 735, 736, 737, 738, 739, 740, 741, 742, 743, 744, 745, 746, 747, 748, 749, 750, 751, 752, 753, 754, 755, 756, 757, 758, 759, 760, 761, 762, 763, 764, 765, 766, 767, 768, 769, 770, 771, 772, 773, 774, 775, 776, 777, 778, 779, 780, 781, 782, 783, 784, 785, 786, 787, 788, 789, 790, 791, 792, 793, 794, 795, 796, 797, 798, 799, 800, 801, 802, 803, 804, 805, 806, 807, 808, 809, 810, 811, 812, 813, 814, 815, 816, 817, 818, 819, 820, 821, 822, 823, 824, 825, 826, 827, 828, 829, 830, 831, 832, 833, 834, 835, 836, 837, 838, 839, 840, 841, 842, 843, 844, 845, 846, 847, 848, 849, 850, 851, 852, 853, 854, 855, 856, 857, 858, 859, 860, 861, 862, 863, 864, 865, 866, 867, 868, 869, 870, 871, 872, 873, 874, 875, 876, 877, 878, 879, 880, 881, 882, 883, 884, 885, 886, 887, 888, 889, 890, 891, 892, 893, 894, 895, 896, 897, 898, 899, 900, 901, 902, 903, 904, 905, 906, 907, 908, 909, 910, 911, 912, 913, 914, 915, 916, 917, 918, 919, 920, 921, 922, 923, 924, 925, 926, 927, 928, 929, 930, 931, 932, 933, 934, 935, 936, 937, 938, 939, 940, 941, 942, 943, 944, 945, 946, 947, 948, 949, 950, 951, 952, 953, 954, 955, 956, 957, 958, 959, 960, 961, 962, 963, 964, 965, 966, 967, 968, 969, 970, 971, 972, 973, 974, 975, 976, 977, 978, 979, 980, 981, 982, 983, 984, 985, 986, 987, 988, 989, 990, 991, 992, 993, 994, 995, 996, 997, 998, 999, 1000, 1001, 1002, 1003, 1004, 1005, 1006, 1007, 1008, 1009, 1010, 1011, 1012, 1013, 1014, 1015, 1016, 1017, 1018, 1019, 1020, 1021, 1022, 1023, 1024, 1025, 1026, 1027, 1028, 1029, 1030, 1031, 1032, 1033, 1034, 1035, 1036, 1037, 1038, 1039, 1040, 1041, 1042, 1043, 1044, 1045, 1046, 1047, 1048, 1049, 1050, 1051, 1052, 1053, 1054, 1055, 1056, 1057, 1058, 1059, 1060, 1061, 1062, 1063, 1064, 1065, 1066, 1067, 1068, 1069, 1070, 1071, 1072, 1073, 1074, 1075, 1076, 1077, 1078, 1079, 1080, 1081, 1082, 1083, 1084, 1085, 1086, 1087, 1088, 1089, 1090, 1091, 1092, 1093, 1094, 1095, 1096, 1097, 1098, 1099, 1100, 1101, 1102, 1103, 1104, 1105, 1106, 1107, 1108, 1109, 1110, 1111, 1112, 1113, 1114, 1115, 1116, 1117, 1118, 1119, 1120, 1121, 1122, 1123, 1124, 1125, 1126, 1127, 1128, 1129, 1130, 1131, 1132, 1133, 1134, 1135, 1136, 1137, 1138, 1139, 1140, 1141, 1142, 1143, 1144, 1145, 1146, 1147, 1148, 1149, 1150, 1151, 1152, 1153, 1154, 1155, 1156, 1157, 1158, 1159, 1160, 1161, 1162, 1163, 1164, 1165, 1166, 1167, 1168, 1169, 1170, 1171, 1172, 1173, 1174, 1175, 1176, 1177, 1178, 1179, 1180, 1181, 1182, 1183, 1184, 1185, 1186, 1187, 1188, 1189, 1190, 1191, 1192, 1193, 1194, 1195, 1196, 1197, 1198, 1199, 1200, 1201, 1202, 1203, 1204, 1205, 1206, 1207, 1208, 1209, 1210, 1211, 1212, 1213, 1214, 1215, 1216, 1217, 1218, 1219, 1220, 1221, 1222, 1223, 1224, 1225, 1226, 1227, 1228, 1229, 1230, 1231, 1232, 1233, 1234, 1235, 1236, 1237, 1238, 1239, 1240, 1241, 1242, 1243, 1244, 1245, 1246, 1247, 1248, 1249, 1250, 1251, 1252, 1253, 1254, 1255, 1256, 1257, 1258, 1259, 1260, 1261, 1262, 1263, 1264, 1265, 1266, 1267, 1268, 1269, 1270, 1271, 1272, 1273, 1274, 1275, 1276, 1277, 1278, 1279, 1280, 1281, 1282, 1283, 1284, 1285, 1286, 1287, 1288, 1289, 1290, 1291, 1292, 1293, 1294, 1295, 1296, 1297, 1298, 1299, 1300, 1301, 1302, 1303, 1304, 1305, 1306, 1307, 1308, 1309, 1310, 1311, 1312, 1313, 1314, 1315, 1316, 1317, 1318, 1319, 1320, 1321, 1322, 1323, 1324, 1325, 1326, 1327, 1328, 1329, 1330, 1331, 1332, 1333, 1334, 1335, 1336, 1337, 1338, 1339, 1340, 1341, 1342, 1343, 1344, 1345, 1346, 1347, 1348, 1349, 1350, 1351, 1352, 1353, 1354, 1355, 1356, 1357, 1358, 1359, 1360, 1361, 1362, 1363, 1364, 1365, 1366, 1367, 1368, 1369, 1370, 1371, 1372, 1373, 1374, 1375, 1376, 1377, 1378, 1379, 1380, 1381, 1382, 1383, 1384, 1385, 1386, 1387, 1388, 1389, 1390, 1391, 1392, 1393, 1394, 1395, 1396, 1397, 1398, 1399, 1400, 1401, 1402, 1403, 1404, 1405, 1406, 1407, 1408, 1409, 1410, 1411, 1412, 1413, 1414, 1415, 1416, 1417, 1418, 1419, 1420, 1421, 1422, 1423, 1424, 1425, 1426, 1427, 1428, 1429, 1430, 1431, 1432, 1433, 1434, 1435, 1436, 1437, 1438, 1439, 1440, 1441, 1442, 1443, 1444, 1445, 1446, 1447, 1448, 1449, 1450, 1451, 1452, 1453, 1454, 1455, 1456, 1457, 1458, 1459, 1460, 1461, 1462, 1463, 1464, 1465, 1466, 1467, 1468, 1469, 1470, 1471, 1472, 1473, 1474, 1475, 1476, 1477, 1478, 1479, 1480, 1481, 1482, 1483, 1484, 1485, 1486, 1487, 1488, 1489, 1490, 1491, 1492, 1493, 1494, 1495, 1496, 1497, 1498, 1499, 1500, 1501, 1502, 1503, 1504, 1505, 1506, 1507, 1508, 1509, 1510, 1511, 1512, 1513, 1514, 1515, 1516, 1517, 1518, 1519, 1520, 1521, 1522, 1523, 1524, 1525, 1526, 1527, 1528, 1529, 1530, 1531, 1532, 1533, 1534, 1535, 1536, 1537, 1538, 1539, 1540, 1541, 1542, 1543, 1544, 1545, 1546, 1547, 1548, 1549, 1550, 1551, 1552, 1553, 1554, 1555, 1556, 1557, 1558, 1559, 1560, 1561, 1562, 1563, 1564, 1565, 1566, 1567, 1568, 1569, 1570, 1571, 1572, 1573, 1574, 1575, 1576, 1577, 1578, 1579, 1580, 1581, 1582, 1583, 1584, 1585, 1586, 1587, 1588, 1589, 1590, 1591, 1592, 1593, 1594, 1595, 1596, 1597, 1598, 1599, 1600, 1601, 1602, 1603, 1604, 1605, 1606, 1607, 1608, 1609, 1610, 1611, 1612, 1613, 1614, 1615, 1616, 1617, 1618, 1619, 1620, 1621, 1622, 1623, 1624, 1625, 1626, 1627, 1628, 1629, 1630, 1631, 1632, 1633, 1634, 1635, 1636, 1637, 1638, 1639, 1640, 1641, 1642, 1643, 1644, 1645, 1646, 1647, 1648, 1649, 1650, 1651, 1652, 1653, 1654, 1655, 1656, 1657, 1658, 1659, 1660, 1661, 1662, 1663, 1664, 1665, 1666, 1667, 1668, 1669, 1670, 1671, 1672, 1673, 1674, 1675, 1676, 1677, 1678, 1679, 1680, 1681, 1682, 1683, 1684, 1685, 1686, 1687, 1688, 1689, 1690, 1691, 1692, 1693, 1694, 1695, 1696, 1697, 1698, 1699, 1700, 1701, 1702, 1703, 1704, 1705, 1706, 1707, 1708, 1709, 1710, 1711, 1712, 1713, 1714, 1715, 1716, 1717, 1718, 1719, 1720, 1721, 1722, 1723, 1724, 1725, 1726, 1727, 1728, 1729, 1730, 1731, 1732, 1733, 1734, 1735, 1736, 1737, 1738, 1739, 1740, 1741, 1742, 1743, 1744, 1745, 1746, 1747, 1748, 1749, 1750, 1751, 1752, 1753, 1754, 1755, 1756, 1757, 1758, 1759, 1760, 1761, 1762, 1763, 1764, 1765, 1766, 1767, 1768, 1769, 1770, 1771, 1772, 1773, 1774, 1775, 1776, 1777, 1778, 1779, 1780, 1781, 1782, 1783, 1784, 1785, 1786, 1787, 1788, 1789, 1790, 1791, 1792, 1793, 1794, 1795, 1796, 1797, 1798, 1799, 1800, 1801, 1802, 1803, 1804, 1805, 1806, 1807, 1808, 1809, 1810, 1811, 1812, 1813, 1814, 1815, 1816, 1817, 1818, 1819, 1820, 1821, 1822, 1823, 1824, 1825, 1826, 1827, 1828, 1829, 1830, 1831, 1832, 1833, 1834, 1835, 1836, 1837, 1838, 1839, 1840, 1841, 1842], \"y\": [52074.0, 45582.0, 32778.0, 12093.0, 8141.0, 8120.0, 7329.0, 5944.0, 5555.0, 5077.0, 4131.0, 3637.0, 3606.0, 3429.0, 3180.0, 2995.0, 2894.0, 2722.0, 2476.0, 2425.0, 2281.0, 2258.0, 2003.0, 1993.0, 1990.0, 1973.0, 1783.0, 1731.0, 1638.0, 1590.0, 1562.0, 1421.0, 1323.0, 1269.0, 1264.0, 1187.0, 1179.0, 1150.0, 1141.0, 1138.0, 1132.0, 1119.0, 1099.0, 1095.0, 1091.0, 1063.0, 998.0, 959.0, 954.0, 945.0, 938.0, 922.0, 919.0, 917.0, 911.0, 869.0, 866.0, 862.0, 857.0, 853.0, 850.0, 842.0, 833.0, 819.0, 813.0, 810.0, 810.0, 782.0, 774.0, 757.0, 738.0, 696.0, 695.0, 691.0, 678.0, 662.0, 656.0, 655.0, 630.0, 628.0, 606.0, 595.0, 575.0, 564.0, 563.0, 554.0, 547.0, 532.0, 531.0, 524.0, 523.0, 519.0, 519.0, 484.0, 478.0, 474.0, 472.0, 463.0, 462.0, 444.0, 440.0, 433.0, 431.0, 430.0, 414.0, 401.0, 399.0, 399.0, 396.0, 390.0, 382.0, 377.0, 367.0, 364.0, 360.0, 357.0, 352.0, 351.0, 347.0, 341.0, 337.0, 335.0, 322.0, 320.0, 313.0, 312.0, 308.0, 307.0, 293.0, 280.0, 279.0, 278.0, 274.0, 272.0, 267.0, 261.0, 259.0, 258.0, 258.0, 257.0, 257.0, 250.0, 249.0, 247.0, 247.0, 246.0, 245.0, 244.0, 240.0, 235.0, 234.0, 231.0, 228.0, 223.0, 223.0, 219.0, 218.0, 218.0, 218.0, 218.0, 216.0, 213.0, 211.0, 210.0, 208.0, 207.0, 207.0, 206.0, 206.0, 205.0, 202.0, 200.0, 199.0, 198.0, 197.0, 192.0, 192.0, 191.0, 190.0, 189.0, 187.0, 186.0, 184.0, 183.0, 182.0, 181.0, 179.0, 179.0, 179.0, 176.0, 175.0, 174.0, 172.0, 171.0, 170.0, 169.0, 169.0, 167.0, 167.0, 166.0, 162.0, 162.0, 162.0, 161.0, 160.0, 160.0, 159.0, 157.0, 157.0, 157.0, 156.0, 156.0, 156.0, 156.0, 154.0, 154.0, 153.0, 153.0, 151.0, 151.0, 151.0, 151.0, 150.0, 150.0, 149.0, 149.0, 149.0, 148.0, 148.0, 147.0, 146.0, 146.0, 146.0, 145.0, 144.0, 143.0, 143.0, 141.0, 141.0, 141.0, 141.0, 141.0, 140.0, 139.0, 139.0, 138.0, 137.0, 137.0, 137.0, 137.0, 136.0, 136.0, 135.0, 134.0, 134.0, 134.0, 134.0, 134.0, 134.0, 133.0, 133.0, 133.0, 133.0, 133.0, 133.0, 133.0, 133.0, 132.0, 132.0, 132.0, 132.0, 132.0, 131.0, 131.0, 131.0, 130.0, 130.0, 130.0, 130.0, 127.0, 127.0, 127.0, 127.0, 127.0, 126.0, 126.0, 126.0, 126.0, 126.0, 125.0, 125.0, 125.0, 125.0, 124.0, 123.0, 123.0, 121.0, 121.0, 121.0, 121.0, 120.0, 119.0, 118.0, 118.0, 118.0, 118.0, 117.0, 117.0, 117.0, 117.0, 117.0, 116.0, 116.0, 115.0, 115.0, 115.0, 114.0, 114.0, 114.0, 113.0, 112.0, 112.0, 111.0, 110.0, 110.0, 109.0, 109.0, 108.0, 108.0, 108.0, 108.0, 107.0, 106.0, 106.0, 104.0, 104.0, 104.0, 104.0, 104.0, 104.0, 103.0, 103.0, 103.0, 103.0, 103.0, 102.0, 102.0, 101.0, 101.0, 101.0, 101.0, 99.9, 99.0, 98.8, 98.4, 98.4, 98.4, 98.4, 98.2, 98.0, 97.6, 97.2, 97.1, 96.9, 95.4, 95.3, 95.0, 94.6, 93.6, 93.5, 93.4, 92.7, 92.6, 91.7, 91.7, 91.4, 91.4, 91.1, 91.1, 90.6, 90.4, 90.0, 89.9, 89.2, 89.2, 89.0, 87.3, 87.2, 87.1, 87.0, 86.7, 86.5, 86.4, 86.3, 86.3, 86.0, 85.5, 85.2, 84.5, 84.5, 84.5, 84.4, 83.9, 83.9, 83.7, 83.2, 83.1, 83.0, 82.9, 82.4, 82.4, 82.1, 82.0, 81.7, 81.7, 81.5, 81.5, 81.5, 81.5, 81.3, 81.3, 81.0, 80.9, 80.9, 80.9, 80.6, 80.3, 80.2, 80.2, 79.6, 79.5, 79.5, 79.4, 79.0, 78.7, 77.8, 77.8, 77.8, 77.7, 77.6, 77.4, 77.4, 77.3, 77.2, 77.2, 77.0, 76.8, 76.1, 75.9, 75.8, 75.8, 75.7, 75.6, 75.6, 75.2, 75.0, 75.0, 74.8, 74.6, 74.6, 74.6, 74.5, 74.4, 74.2, 74.1, 73.9, 73.9, 73.5, 73.2, 73.2, 73.1, 73.1, 72.5, 72.3, 72.0, 72.0, 71.8, 71.8, 71.6, 71.6, 71.6, 71.3, 71.2, 71.2, 70.9, 70.8, 70.7, 70.6, 70.6, 70.3, 70.2, 69.9, 69.9, 69.8, 69.7, 69.6, 69.3, 69.0, 69.0, 68.9, 68.9, 68.9, 68.7, 68.6, 68.6, 68.2, 67.9, 67.9, 67.9, 67.6, 67.4, 67.3, 67.1, 67.0, 67.0, 66.9, 66.9, 66.4, 66.4, 66.3, 66.2, 66.0, 66.0, 65.8, 65.7, 65.7, 65.7, 65.7, 65.5, 65.4, 65.3, 65.2, 65.2, 65.2, 65.2, 65.0, 64.8, 64.7, 64.6, 64.6, 64.6, 64.5, 64.4, 64.4, 64.3, 64.3, 64.2, 63.8, 63.7, 63.3, 62.8, 62.8, 62.8, 62.7, 62.6, 62.6, 62.4, 62.1, 62.1, 62.0, 61.9, 61.6, 61.5, 61.3, 61.2, 61.2, 61.1, 61.0, 61.0, 60.6, 60.5, 60.5, 60.4, 60.3, 60.1, 60.0, 60.0, 60.0, 59.9, 59.8, 59.8, 59.7, 59.6, 59.5, 59.4, 59.4, 59.4, 59.2, 59.1, 59.0, 58.9, 58.8, 58.6, 58.6, 58.4, 58.3, 58.2, 57.8, 57.8, 57.7, 57.7, 57.7, 57.6, 57.3, 57.2, 57.2, 57.1, 56.9, 56.8, 56.8, 56.7, 56.7, 56.2, 56.0, 55.9, 55.9, 55.9, 55.8, 55.7, 55.2, 55.2, 55.2, 55.1, 54.8, 54.7, 54.4, 54.2, 53.9, 53.8, 53.7, 53.5, 53.5, 53.5, 53.4, 52.7, 52.4, 52.3, 52.2, 52.2, 52.1, 52.1, 52.0, 51.8, 51.8, 51.8, 51.7, 51.6, 51.4, 51.1, 51.1, 50.9, 50.8, 50.7, 50.7, 50.7, 50.7, 50.5, 50.5, 50.3, 50.3, 50.2, 50.2, 50.1, 50.1, 50.1, 49.8, 49.5, 49.4, 49.4, 49.3, 49.3, 49.3, 49.2, 49.2, 49.2, 49.1, 49.0, 49.0, 48.9, 48.9, 48.8, 48.8, 48.6, 48.5, 48.5, 48.4, 48.2, 48.1, 48.1, 48.0, 48.0, 47.9, 47.8, 47.6, 47.4, 47.4, 47.3, 47.3, 47.2, 47.1, 47.0, 46.9, 46.9, 46.8, 46.8, 46.7, 46.6, 46.6, 46.6, 46.5, 46.4, 46.4, 46.3, 46.3, 46.2, 46.2, 46.1, 46.0, 45.9, 45.9, 45.8, 45.8, 45.8, 45.7, 45.5, 45.5, 45.2, 45.1, 44.9, 44.8, 44.8, 44.7, 44.6, 44.6, 44.5, 44.5, 44.5, 44.5, 44.4, 44.4, 44.3, 44.2, 44.2, 44.2, 44.0, 44.0, 43.9, 43.7, 43.6, 43.6, 43.5, 43.3, 43.2, 43.0, 43.0, 43.0, 42.8, 42.8, 42.7, 42.7, 42.7, 42.6, 42.6, 42.3, 42.3, 42.1, 41.7, 41.7, 41.7, 41.6, 41.5, 41.4, 41.4, 41.4, 41.3, 41.2, 41.2, 41.2, 41.1, 40.9, 40.9, 40.8, 40.7, 40.6, 40.5, 40.5, 40.4, 40.3, 40.1, 40.1, 40.1, 39.7, 39.7, 39.5, 39.5, 39.5, 39.3, 39.2, 39.2, 39.0, 38.9, 38.8, 38.8, 38.8, 38.7, 38.6, 38.6, 38.5, 38.4, 38.3, 38.2, 38.1, 38.0, 37.9, 37.9, 37.8, 37.7, 37.7, 37.6, 37.5, 37.4, 37.4, 37.4, 37.2, 37.2, 37.1, 37.1, 37.1, 37.0, 37.0, 36.9, 36.9, 36.8, 36.7, 36.7, 36.7, 36.6, 36.6, 36.6, 36.5, 36.5, 36.4, 36.3, 36.3, 36.3, 36.3, 36.2, 36.1, 36.0, 35.8, 35.6, 35.6, 35.4, 35.4, 35.4, 35.3, 35.3, 35.3, 35.2, 35.2, 35.2, 35.2, 35.2, 35.0, 35.0, 34.9, 34.9, 34.8, 34.8, 34.7, 34.7, 34.6, 34.6, 34.6, 34.5, 34.5, 34.5, 34.4, 34.4, 34.3, 34.2, 34.1, 34.1, 34.1, 34.0, 34.0, 33.9, 33.9, 33.8, 33.8, 33.7, 33.7, 33.5, 33.4, 33.3, 33.2, 33.2, 33.2, 33.1, 33.1, 33.1, 33.0, 32.9, 32.9, 32.8, 32.8, 32.7, 32.7, 32.6, 32.5, 32.4, 32.4, 32.4, 32.4, 32.3, 32.2, 32.0, 32.0, 32.0, 31.9, 31.9, 31.8, 31.8, 31.6, 31.6, 31.6, 31.5, 31.4, 31.4, 31.3, 31.3, 31.2, 31.1, 31.1, 31.1, 31.0, 30.9, 30.9, 30.9, 30.8, 30.8, 30.8, 30.7, 30.7, 30.7, 30.7, 30.7, 30.6, 30.6, 30.5, 30.5, 30.4, 30.4, 30.3, 30.3, 30.3, 30.2, 30.2, 30.2, 30.2, 30.1, 30.1, 30.0, 30.0, 30.0, 29.9, 29.9, 29.9, 29.8, 29.7, 29.7, 29.7, 29.7, 29.6, 29.6, 29.5, 29.5, 29.5, 29.5, 29.2, 29.1, 29.0, 28.8, 28.8, 28.8, 28.8, 28.8, 28.8, 28.8, 28.8, 28.7, 28.7, 28.6, 28.6, 28.6, 28.6, 28.6, 28.4, 28.4, 28.4, 28.4, 28.3, 28.2, 28.1, 28.0, 28.0, 28.0, 27.9, 27.8, 27.7, 27.7, 27.7, 27.6, 27.5, 27.5, 27.4, 27.4, 27.4, 27.3, 27.3, 27.2, 27.2, 27.2, 27.1, 27.0, 27.0, 27.0, 27.0, 26.9, 26.9, 26.9, 26.9, 26.9, 26.8, 26.8, 26.8, 26.7, 26.7, 26.6, 26.6, 26.5, 26.4, 26.4, 26.3, 26.3, 26.3, 26.3, 26.3, 26.2, 26.2, 26.2, 26.1, 26.1, 26.1, 26.1, 26.0, 26.0, 26.0, 26.0, 25.9, 25.9, 25.8, 25.8, 25.7, 25.6, 25.6, 25.6, 25.5, 25.5, 25.5, 25.4, 25.1, 25.1, 25.1, 25.1, 24.8, 24.6, 24.6, 24.6, 24.6, 24.6, 24.4, 24.4, 24.4, 24.3, 24.3, 24.2, 24.2, 24.2, 24.1, 24.0, 24.0, 23.9, 23.9, 23.8, 23.7, 23.7, 23.7, 23.6, 23.6, 23.6, 23.6, 23.6, 23.6, 23.5, 23.4, 23.4, 23.4, 23.3, 23.3, 23.1, 23.1, 23.1, 23.0, 23.0, 23.0, 23.0, 23.0, 22.9, 22.9, 22.9, 22.9, 22.8, 22.8, 22.7, 22.7, 22.7, 22.6, 22.6, 22.6, 22.5, 22.5, 22.5, 22.5, 22.5, 22.4, 22.4, 22.4, 22.3, 22.3, 22.3, 22.3, 22.2, 22.2, 22.1, 22.1, 22.0, 21.9, 21.9, 21.9, 21.8, 21.8, 21.8, 21.8, 21.8, 21.7, 21.7, 21.7, 21.7, 21.7, 21.6, 21.6, 21.6, 21.5, 21.5, 21.5, 21.5, 21.5, 21.5, 21.4, 21.4, 21.4, 21.3, 21.3, 21.3, 21.1, 21.1, 21.1, 21.1, 21.1, 21.1, 21.0, 21.0, 21.0, 21.0, 21.0, 20.9, 20.8, 20.8, 20.8, 20.7, 20.7, 20.6, 20.5, 20.5, 20.4, 20.4, 20.4, 20.4, 20.4, 20.3, 20.3, 20.3, 20.3, 20.2, 20.2, 20.2, 20.1, 20.1, 20.1, 20.1, 20.0, 20.0, 20.0, 20.0, 20.0, 20.0, 20.0, 19.8, 19.8, 19.8, 19.7, 19.6, 19.6, 19.6, 19.5, 19.5, 19.5, 19.5, 19.4, 19.4, 19.4, 19.4, 19.4, 19.4, 19.4, 19.3, 19.3, 19.3, 19.3, 19.3, 19.3, 19.2, 19.2, 19.2, 19.2, 19.1, 19.1, 19.1, 19.1, 19.1, 19.0, 19.0, 19.0, 19.0, 19.0, 19.0, 19.0, 18.9, 18.8, 18.8, 18.8, 18.8, 18.7, 18.7, 18.7, 18.7, 18.7, 18.7, 18.6, 18.6, 18.6, 18.6, 18.6, 18.6, 18.6, 18.6, 18.5, 18.5, 18.5, 18.5, 18.4, 18.4, 18.3, 18.3, 18.3, 18.3, 18.3, 18.2, 18.2, 18.2, 18.2, 18.2, 18.0, 18.0, 18.0, 18.0, 17.9, 17.8, 17.8, 17.8, 17.8, 17.8, 17.8, 17.8, 17.7, 17.7, 17.7, 17.6, 17.6, 17.6, 17.5, 17.5, 17.5, 17.5, 17.4, 17.4, 17.4, 17.3, 17.3, 17.3, 17.3, 17.3, 17.2, 17.2, 17.0, 17.0, 17.0, 17.0, 17.0, 17.0, 16.9, 16.9, 16.9, 16.9, 16.8, 16.8, 16.8, 16.8, 16.8, 16.8, 16.8, 16.7, 16.7, 16.7, 16.7, 16.7, 16.6, 16.6, 16.6, 16.6, 16.6, 16.5, 16.5, 16.5, 16.4, 16.4, 16.4, 16.3, 16.3, 16.3, 16.2, 16.2, 16.2, 16.1, 16.1, 16.1, 16.1, 16.1, 16.1, 16.0, 16.0, 16.0, 16.0, 16.0, 16.0, 16.0, 16.0, 15.9, 15.9, 15.8, 15.8, 15.8, 15.8, 15.7, 15.7, 15.7, 15.7, 15.7, 15.7, 15.6, 15.6, 15.6, 15.5, 15.5, 15.5, 15.5, 15.4, 15.4, 15.4, 15.3, 15.3, 15.3, 15.3, 15.3, 15.3, 15.3, 15.3, 15.2, 15.2, 15.2, 15.2, 15.1, 15.1, 15.1, 15.1, 15.1, 15.0, 15.0, 15.0, 15.0, 14.9, 14.9, 14.9, 14.9, 14.9, 14.9, 14.9, 14.8, 14.8, 14.8, 14.8, 14.7, 14.7, 14.7, 14.6, 14.6, 14.6, 14.5, 14.5, 14.4, 14.4, 14.4, 14.3, 14.3, 14.3, 14.3, 14.3, 14.3, 14.2, 14.2, 14.2, 14.2, 14.1, 14.1, 14.1, 14.1, 14.1, 14.1, 14.1, 14.1, 14.1, 14.0, 14.0, 14.0, 14.0, 14.0, 14.0, 14.0, 13.9, 13.8, 13.8, 13.8, 13.8, 13.8, 13.8, 13.7, 13.7, 13.6, 13.6, 13.6, 13.6, 13.5, 13.5, 13.5, 13.5, 13.5, 13.4, 13.4, 13.4, 13.4, 13.4, 13.3, 13.3, 13.3, 13.3, 13.2, 13.2, 13.2, 13.2, 13.2, 13.2, 13.2, 13.1, 13.1, 13.1, 13.0, 13.0, 13.0, 13.0, 12.9, 12.9, 12.9, 12.9, 12.9, 12.9, 12.9, 12.8, 12.8, 12.8, 12.8, 12.8, 12.8, 12.8, 12.8, 12.8, 12.7, 12.7, 12.7, 12.7, 12.7, 12.7, 12.6, 12.6, 12.6, 12.6, 12.6, 12.6, 12.6, 12.6, 12.5, 12.5, 12.5, 12.5, 12.5, 12.5, 12.4, 12.4, 12.4, 12.4, 12.4, 12.4, 12.3, 12.3, 12.3, 12.3, 12.3, 12.2, 12.2, 12.2, 12.2, 12.1, 12.1, 12.1, 12.1, 12.0, 12.0, 12.0, 12.0, 12.0, 12.0, 12.0, 11.9, 11.9, 11.9, 11.9, 11.9, 11.9, 11.9, 11.8, 11.8, 11.8, 11.8, 11.8, 11.8, 11.8, 11.8, 11.8, 11.8, 11.8, 11.8, 11.8, 11.7, 11.7, 11.7, 11.6, 11.6, 11.6, 11.6, 11.6, 11.6, 11.6, 11.6, 11.5, 11.5, 11.5, 11.5, 11.4, 11.4, 11.4, 11.3, 11.3, 11.3, 11.3, 11.3, 11.3, 11.3, 11.3, 11.2, 11.2, 11.2, 11.2, 11.2, 11.1, 11.1, 11.1, 11.1, 11.1, 11.1, 11.1, 11.1, 11.1, 11.1, 11.0, 11.0, 11.0, 11.0, 10.9, 10.9, 10.9, 10.9, 10.9, 10.9, 10.9, 10.9, 10.9, 10.9, 10.8, 10.8, 10.8, 10.8, 10.8, 10.8, 10.8, 10.7, 10.7, 10.7, 10.7, 10.7, 10.6, 10.6, 10.6, 10.6, 10.6, 10.6, 10.6, 10.5, 10.5, 10.5, 10.5, 10.5, 10.5, 10.5, 10.4, 10.4, 10.4, 10.4, 10.4, 10.4, 10.4, 10.4, 10.4, 10.4, 10.3, 10.3, 10.3, 10.3, 10.2, 10.2, 10.2, 10.2, 10.2, 10.2, 10.2, 10.2, 10.2, 10.2, 10.1, 10.1, 10.1, 10.1, 10.1, 10.1, 10.1, 10.1, 10.1, 10.1, 10.1, 10.0, 10.0, 10.0, 10.0, 10.0, 10.0, 10.0, 10.0, 9.99, 9.98, 9.96, 9.96, 9.94, 9.92, 9.88, 9.88, 9.86, 9.81, 9.81, 9.81, 9.8, 9.79, 9.76, 9.73, 9.67, 9.66, 9.66, 9.62, 9.62, 9.61, 9.61, 9.6, 9.6, 9.6, 9.6, 9.6, 9.58, 9.58, 9.58, 9.57, 9.57, 9.57, 9.56, 9.55, 9.48, 9.48, 9.47, 9.46, 9.44, 9.41, 9.39, 9.37, 9.34, 9.34, 9.3, 9.3, 9.28, 9.26, 9.22, 9.2, 9.19, 9.18, 9.17, 9.15, 9.15, 9.1, 9.09, 9.09, 9.09, 9.08, 9.06, 9.05, 9.04, 9.01, 8.99, 8.99, 8.98, 8.96, 8.95, 8.95, 8.94, 8.94, 8.92, 8.91, 8.9, 8.9, 8.89, 8.85, 8.85, 8.83, 8.82, 8.81, 8.76, 8.76, 8.76, 8.76, 8.73, 8.71, 8.71, 8.7, 8.7, 8.69, 8.69, 8.69, 8.66, 8.66, 8.64, 8.64, 8.64, 8.61, 8.6, 8.55, 8.55, 8.54, 8.53, 8.51, 8.5, 8.5, 8.5, 8.47, 8.47, 8.46, 8.43, 8.42, 8.42, 8.4, 8.38, 8.38, 8.38, 8.37, 8.37, 8.35, 8.34, 8.34, 8.34]}],\n",
              "                        {\"legend\": {\"xanchor\": \"center\"}, \"template\": {\"data\": {\"bar\": [{\"error_x\": {\"color\": \"#2a3f5f\"}, \"error_y\": {\"color\": \"#2a3f5f\"}, \"marker\": {\"line\": {\"color\": \"#E5ECF6\", \"width\": 0.5}}, \"type\": \"bar\"}], \"barpolar\": [{\"marker\": {\"line\": {\"color\": \"#E5ECF6\", \"width\": 0.5}}, \"type\": \"barpolar\"}], \"carpet\": [{\"aaxis\": {\"endlinecolor\": \"#2a3f5f\", \"gridcolor\": \"white\", \"linecolor\": \"white\", \"minorgridcolor\": \"white\", \"startlinecolor\": \"#2a3f5f\"}, \"baxis\": {\"endlinecolor\": \"#2a3f5f\", \"gridcolor\": \"white\", \"linecolor\": \"white\", \"minorgridcolor\": \"white\", \"startlinecolor\": \"#2a3f5f\"}, \"type\": \"carpet\"}], \"choropleth\": [{\"colorbar\": {\"outlinewidth\": 0, \"ticks\": \"\"}, \"type\": \"choropleth\"}], \"contour\": [{\"colorbar\": {\"outlinewidth\": 0, \"ticks\": \"\"}, \"colorscale\": [[0.0, \"#0d0887\"], [0.1111111111111111, \"#46039f\"], [0.2222222222222222, \"#7201a8\"], [0.3333333333333333, \"#9c179e\"], [0.4444444444444444, \"#bd3786\"], [0.5555555555555556, \"#d8576b\"], [0.6666666666666666, \"#ed7953\"], [0.7777777777777778, \"#fb9f3a\"], [0.8888888888888888, \"#fdca26\"], [1.0, \"#f0f921\"]], \"type\": \"contour\"}], \"contourcarpet\": [{\"colorbar\": {\"outlinewidth\": 0, \"ticks\": \"\"}, \"type\": \"contourcarpet\"}], \"heatmap\": [{\"colorbar\": {\"outlinewidth\": 0, \"ticks\": \"\"}, \"colorscale\": [[0.0, \"#0d0887\"], [0.1111111111111111, \"#46039f\"], [0.2222222222222222, \"#7201a8\"], [0.3333333333333333, \"#9c179e\"], [0.4444444444444444, \"#bd3786\"], [0.5555555555555556, \"#d8576b\"], [0.6666666666666666, \"#ed7953\"], [0.7777777777777778, \"#fb9f3a\"], [0.8888888888888888, \"#fdca26\"], [1.0, \"#f0f921\"]], \"type\": \"heatmap\"}], \"heatmapgl\": [{\"colorbar\": {\"outlinewidth\": 0, \"ticks\": \"\"}, \"colorscale\": [[0.0, \"#0d0887\"], [0.1111111111111111, \"#46039f\"], [0.2222222222222222, \"#7201a8\"], [0.3333333333333333, \"#9c179e\"], [0.4444444444444444, \"#bd3786\"], [0.5555555555555556, \"#d8576b\"], [0.6666666666666666, \"#ed7953\"], [0.7777777777777778, \"#fb9f3a\"], [0.8888888888888888, \"#fdca26\"], [1.0, \"#f0f921\"]], \"type\": \"heatmapgl\"}], \"histogram\": [{\"marker\": {\"colorbar\": {\"outlinewidth\": 0, \"ticks\": \"\"}}, \"type\": \"histogram\"}], \"histogram2d\": [{\"colorbar\": {\"outlinewidth\": 0, \"ticks\": \"\"}, \"colorscale\": [[0.0, \"#0d0887\"], [0.1111111111111111, \"#46039f\"], [0.2222222222222222, \"#7201a8\"], [0.3333333333333333, \"#9c179e\"], [0.4444444444444444, \"#bd3786\"], [0.5555555555555556, \"#d8576b\"], [0.6666666666666666, \"#ed7953\"], [0.7777777777777778, \"#fb9f3a\"], [0.8888888888888888, \"#fdca26\"], [1.0, \"#f0f921\"]], \"type\": \"histogram2d\"}], \"histogram2dcontour\": [{\"colorbar\": {\"outlinewidth\": 0, \"ticks\": \"\"}, \"colorscale\": [[0.0, \"#0d0887\"], [0.1111111111111111, \"#46039f\"], [0.2222222222222222, \"#7201a8\"], [0.3333333333333333, \"#9c179e\"], [0.4444444444444444, \"#bd3786\"], [0.5555555555555556, \"#d8576b\"], [0.6666666666666666, \"#ed7953\"], [0.7777777777777778, \"#fb9f3a\"], [0.8888888888888888, \"#fdca26\"], [1.0, \"#f0f921\"]], \"type\": \"histogram2dcontour\"}], \"mesh3d\": [{\"colorbar\": {\"outlinewidth\": 0, \"ticks\": \"\"}, \"type\": \"mesh3d\"}], \"parcoords\": [{\"line\": {\"colorbar\": {\"outlinewidth\": 0, \"ticks\": \"\"}}, \"type\": \"parcoords\"}], \"pie\": [{\"automargin\": true, \"type\": \"pie\"}], \"scatter\": [{\"marker\": {\"colorbar\": {\"outlinewidth\": 0, \"ticks\": \"\"}}, \"type\": \"scatter\"}], \"scatter3d\": [{\"line\": {\"colorbar\": {\"outlinewidth\": 0, \"ticks\": \"\"}}, \"marker\": {\"colorbar\": {\"outlinewidth\": 0, \"ticks\": \"\"}}, \"type\": \"scatter3d\"}], \"scattercarpet\": [{\"marker\": {\"colorbar\": {\"outlinewidth\": 0, \"ticks\": \"\"}}, \"type\": \"scattercarpet\"}], \"scattergeo\": [{\"marker\": {\"colorbar\": {\"outlinewidth\": 0, \"ticks\": \"\"}}, \"type\": \"scattergeo\"}], \"scattergl\": [{\"marker\": {\"colorbar\": {\"outlinewidth\": 0, \"ticks\": \"\"}}, \"type\": \"scattergl\"}], \"scattermapbox\": [{\"marker\": {\"colorbar\": {\"outlinewidth\": 0, \"ticks\": \"\"}}, \"type\": \"scattermapbox\"}], \"scatterpolar\": [{\"marker\": {\"colorbar\": {\"outlinewidth\": 0, \"ticks\": \"\"}}, \"type\": \"scatterpolar\"}], \"scatterpolargl\": [{\"marker\": {\"colorbar\": {\"outlinewidth\": 0, \"ticks\": \"\"}}, \"type\": \"scatterpolargl\"}], \"scatterternary\": [{\"marker\": {\"colorbar\": {\"outlinewidth\": 0, \"ticks\": \"\"}}, \"type\": \"scatterternary\"}], \"surface\": [{\"colorbar\": {\"outlinewidth\": 0, \"ticks\": \"\"}, \"colorscale\": [[0.0, \"#0d0887\"], [0.1111111111111111, \"#46039f\"], [0.2222222222222222, \"#7201a8\"], [0.3333333333333333, \"#9c179e\"], [0.4444444444444444, \"#bd3786\"], [0.5555555555555556, \"#d8576b\"], [0.6666666666666666, \"#ed7953\"], [0.7777777777777778, \"#fb9f3a\"], [0.8888888888888888, \"#fdca26\"], [1.0, \"#f0f921\"]], \"type\": \"surface\"}], \"table\": [{\"cells\": {\"fill\": {\"color\": \"#EBF0F8\"}, \"line\": {\"color\": \"white\"}}, \"header\": {\"fill\": {\"color\": \"#C8D4E3\"}, \"line\": {\"color\": \"white\"}}, \"type\": \"table\"}]}, \"layout\": {\"annotationdefaults\": {\"arrowcolor\": \"#2a3f5f\", \"arrowhead\": 0, \"arrowwidth\": 1}, \"coloraxis\": {\"colorbar\": {\"outlinewidth\": 0, \"ticks\": \"\"}}, \"colorscale\": {\"diverging\": [[0, \"#8e0152\"], [0.1, \"#c51b7d\"], [0.2, \"#de77ae\"], [0.3, \"#f1b6da\"], [0.4, \"#fde0ef\"], [0.5, \"#f7f7f7\"], [0.6, \"#e6f5d0\"], [0.7, \"#b8e186\"], [0.8, \"#7fbc41\"], [0.9, \"#4d9221\"], [1, \"#276419\"]], \"sequential\": [[0.0, \"#0d0887\"], [0.1111111111111111, \"#46039f\"], [0.2222222222222222, \"#7201a8\"], [0.3333333333333333, \"#9c179e\"], [0.4444444444444444, \"#bd3786\"], [0.5555555555555556, \"#d8576b\"], [0.6666666666666666, \"#ed7953\"], [0.7777777777777778, \"#fb9f3a\"], [0.8888888888888888, \"#fdca26\"], [1.0, \"#f0f921\"]], \"sequentialminus\": [[0.0, \"#0d0887\"], [0.1111111111111111, \"#46039f\"], [0.2222222222222222, \"#7201a8\"], [0.3333333333333333, \"#9c179e\"], [0.4444444444444444, \"#bd3786\"], [0.5555555555555556, \"#d8576b\"], [0.6666666666666666, \"#ed7953\"], [0.7777777777777778, \"#fb9f3a\"], [0.8888888888888888, \"#fdca26\"], [1.0, \"#f0f921\"]]}, \"colorway\": [\"#636efa\", \"#EF553B\", \"#00cc96\", \"#ab63fa\", \"#FFA15A\", \"#19d3f3\", \"#FF6692\", \"#B6E880\", \"#FF97FF\", \"#FECB52\"], \"font\": {\"color\": \"#2a3f5f\"}, \"geo\": {\"bgcolor\": \"white\", \"lakecolor\": \"white\", \"landcolor\": \"#E5ECF6\", \"showlakes\": true, \"showland\": true, \"subunitcolor\": \"white\"}, \"hoverlabel\": {\"align\": \"left\"}, \"hovermode\": \"closest\", \"mapbox\": {\"style\": \"light\"}, \"paper_bgcolor\": \"white\", \"plot_bgcolor\": \"#E5ECF6\", \"polar\": {\"angularaxis\": {\"gridcolor\": \"white\", \"linecolor\": \"white\", \"ticks\": \"\"}, \"bgcolor\": \"#E5ECF6\", \"radialaxis\": {\"gridcolor\": \"white\", \"linecolor\": \"white\", \"ticks\": \"\"}}, \"scene\": {\"xaxis\": {\"backgroundcolor\": \"#E5ECF6\", \"gridcolor\": \"white\", \"gridwidth\": 2, \"linecolor\": \"white\", \"showbackground\": true, \"ticks\": \"\", \"zerolinecolor\": \"white\"}, \"yaxis\": {\"backgroundcolor\": \"#E5ECF6\", \"gridcolor\": \"white\", \"gridwidth\": 2, \"linecolor\": \"white\", \"showbackground\": true, \"ticks\": \"\", \"zerolinecolor\": \"white\"}, \"zaxis\": {\"backgroundcolor\": \"#E5ECF6\", \"gridcolor\": \"white\", \"gridwidth\": 2, \"linecolor\": \"white\", \"showbackground\": true, \"ticks\": \"\", \"zerolinecolor\": \"white\"}}, \"shapedefaults\": {\"line\": {\"color\": \"#2a3f5f\"}}, \"ternary\": {\"aaxis\": {\"gridcolor\": \"white\", \"linecolor\": \"white\", \"ticks\": \"\"}, \"baxis\": {\"gridcolor\": \"white\", \"linecolor\": \"white\", \"ticks\": \"\"}, \"bgcolor\": \"#E5ECF6\", \"caxis\": {\"gridcolor\": \"white\", \"linecolor\": \"white\", \"ticks\": \"\"}}, \"title\": {\"x\": 0.05}, \"xaxis\": {\"automargin\": true, \"gridcolor\": \"white\", \"linecolor\": \"white\", \"ticks\": \"\", \"title\": {\"standoff\": 15}, \"zerolinecolor\": \"white\", \"zerolinewidth\": 2}, \"yaxis\": {\"automargin\": true, \"gridcolor\": \"white\", \"linecolor\": \"white\", \"ticks\": \"\", \"title\": {\"standoff\": 15}, \"zerolinecolor\": \"white\", \"zerolinewidth\": 2}}}, \"title\": {\"text\": \"\\u0412\\u044b\\u0440\\u0443\\u0447\\u043a\\u0430\"}, \"xaxis\": {\"title\": {\"text\": \"\\u0412\\u044b\\u0440\\u0443\\u0447\\u043a\\u0430, \\u043c\\u043b\\u043d.\\u0440\\u0443\\u0431.\"}}, \"yaxis\": {\"title\": {\"text\": \"\\u2116 \\u043a\\u043e\\u043c\\u043f\\u0430\\u043d\\u0438\\u0438\"}}},\n",
              "                        {\"responsive\": true}\n",
              "                    ).then(function(){\n",
              "                            \n",
              "var gd = document.getElementById('c331eab2-c7eb-43b7-852c-cb010325a880');\n",
              "var x = new MutationObserver(function (mutations, observer) {{\n",
              "        var display = window.getComputedStyle(gd).display;\n",
              "        if (!display || display === 'none') {{\n",
              "            console.log([gd, 'removed!']);\n",
              "            Plotly.purge(gd);\n",
              "            observer.disconnect();\n",
              "        }}\n",
              "}});\n",
              "\n",
              "// Listen for the removal of the full notebook cells\n",
              "var notebookContainer = gd.closest('#notebook-container');\n",
              "if (notebookContainer) {{\n",
              "    x.observe(notebookContainer, {childList: true});\n",
              "}}\n",
              "\n",
              "// Listen for the clearing of the current output cell\n",
              "var outputEl = gd.closest('.output');\n",
              "if (outputEl) {{\n",
              "    x.observe(outputEl, {childList: true});\n",
              "}}\n",
              "\n",
              "                        })\n",
              "                };\n",
              "                \n",
              "            </script>\n",
              "        </div>\n",
              "</body>\n",
              "</html>"
            ]
          },
          "metadata": {
            "tags": []
          }
        }
      ]
    },
    {
      "cell_type": "markdown",
      "metadata": {
        "id": "5RglGcH0A7EY"
      },
      "source": [
        "### AKTIV / рассмотрим активы компаний "
      ]
    },
    {
      "cell_type": "code",
      "metadata": {
        "id": "kQT0kP09Po4E",
        "colab": {
          "base_uri": "https://localhost:8080/",
          "height": 367
        },
        "outputId": "2608c455-0d19-4635-d33f-6c3a756eb952"
      },
      "source": [
        "# распределение активов компаний\n",
        "akt_1 = data_1.AKTIV.hist(bins= 60, figsize=[15, 5]) # более 1750 компаний имеют выручку менее 5 000 млн.руб.\n",
        "#akt_1.set_xlim(0, 50000)\n",
        "akt_1.set_title('Распределение активов по объему')\n",
        "akt_1.set_xlabel('Активы, млн.руб.')\n",
        "akt_1.set_ylabel('Кол-во компаний')"
      ],
      "execution_count": 18,
      "outputs": [
        {
          "output_type": "execute_result",
          "data": {
            "text/plain": [
              "Text(0, 0.5, 'Кол-во компаний')"
            ]
          },
          "metadata": {
            "tags": []
          },
          "execution_count": 18
        },
        {
          "output_type": "display_data",
          "data": {
            "image/png": "[encoded data removed]",
            "text/plain": [
              "<Figure size 1080x360 with 1 Axes>"
            ]
          },
          "metadata": {
            "tags": [],
            "needs_background": "light"
          }
        }
      ]
    },
    {
      "cell_type": "code",
      "metadata": {
        "id": "2YpQVXQQ7lKb",
        "colab": {
          "base_uri": "https://localhost:8080/",
          "height": 282
        },
        "outputId": "ec8be9c5-57db-4498-cb3a-c37a452dde53"
      },
      "source": [
        "# график распределения активов компаний\n",
        "data_1.AKTIV.plot()"
      ],
      "execution_count": 19,
      "outputs": [
        {
          "output_type": "execute_result",
          "data": {
            "text/plain": [
              "<matplotlib.axes._subplots.AxesSubplot at 0x7f07b75b5dd8>"
            ]
          },
          "metadata": {
            "tags": []
          },
          "execution_count": 19
        },
        {
          "output_type": "display_data",
          "data": {
            "image/png": "[encoded data removed]",
            "text/plain": [
              "<Figure size 432x288 with 1 Axes>"
            ]
          },
          "metadata": {
            "tags": [],
            "needs_background": "light"
          }
        }
      ]
    },
    {
      "cell_type": "code",
      "metadata": {
        "id": "lPnSEmYn7lFf",
        "colab": {
          "base_uri": "https://localhost:8080/",
          "height": 136
        },
        "outputId": "d73d750e-48de-4790-f70b-cf84d9283e83"
      },
      "source": [
        "data_1.head(3)"
      ],
      "execution_count": 44,
      "outputs": [
        {
          "output_type": "execute_result",
          "data": {
            "text/html": [
              "<div>\n",
              "<style scoped>\n",
              "    .dataframe tbody tr th:only-of-type {\n",
              "        vertical-align: middle;\n",
              "    }\n",
              "\n",
              "    .dataframe tbody tr th {\n",
              "        vertical-align: top;\n",
              "    }\n",
              "\n",
              "    .dataframe thead th {\n",
              "        text-align: right;\n",
              "    }\n",
              "</style>\n",
              "<table border=\"1\" class=\"dataframe\">\n",
              "  <thead>\n",
              "    <tr style=\"text-align: right;\">\n",
              "      <th></th>\n",
              "      <th>name</th>\n",
              "      <th>inn</th>\n",
              "      <th>staff</th>\n",
              "      <th>income</th>\n",
              "      <th>expenses</th>\n",
              "      <th>nalog</th>\n",
              "      <th>AKTIV</th>\n",
              "      <th>SALE</th>\n",
              "      <th>groups</th>\n",
              "    </tr>\n",
              "  </thead>\n",
              "  <tbody>\n",
              "    <tr>\n",
              "      <th>0</th>\n",
              "      <td>\"Сибирская Интернет Компания\"</td>\n",
              "      <td>7708119944</td>\n",
              "      <td>0</td>\n",
              "      <td>0.0</td>\n",
              "      <td>0.0</td>\n",
              "      <td>0.0</td>\n",
              "      <td>47403.0</td>\n",
              "      <td>52074.0</td>\n",
              "      <td>&gt;_10000</td>\n",
              "    </tr>\n",
              "    <tr>\n",
              "      <th>1</th>\n",
              "      <td>\"МЭЙЛ РУ\"</td>\n",
              "      <td>7743001840</td>\n",
              "      <td>0</td>\n",
              "      <td>0.0</td>\n",
              "      <td>0.0</td>\n",
              "      <td>0.0</td>\n",
              "      <td>198742.0</td>\n",
              "      <td>45582.0</td>\n",
              "      <td>&gt;_10000</td>\n",
              "    </tr>\n",
              "    <tr>\n",
              "      <th>2</th>\n",
              "      <td>\"Центр программ лояльности\"</td>\n",
              "      <td>7702770003</td>\n",
              "      <td>166</td>\n",
              "      <td>33174.0</td>\n",
              "      <td>30617.0</td>\n",
              "      <td>1680.0</td>\n",
              "      <td>8723.0</td>\n",
              "      <td>32778.0</td>\n",
              "      <td>&gt;_10000</td>\n",
              "    </tr>\n",
              "  </tbody>\n",
              "</table>\n",
              "</div>"
            ],
            "text/plain": [
              "                            name         inn  staff  ...     AKTIV     SALE   groups\n",
              "0  \"Сибирская Интернет Компания\"  7708119944      0  ...   47403.0  52074.0  >_10000\n",
              "1                      \"МЭЙЛ РУ\"  7743001840      0  ...  198742.0  45582.0  >_10000\n",
              "2    \"Центр программ лояльности\"  7702770003    166  ...    8723.0  32778.0  >_10000\n",
              "\n",
              "[3 rows x 9 columns]"
            ]
          },
          "metadata": {
            "tags": []
          },
          "execution_count": 44
        }
      ]
    },
    {
      "cell_type": "code",
      "metadata": {
        "id": "8hRJAS6yM1Mx",
        "colab": {
          "base_uri": "https://localhost:8080/",
          "height": 136
        },
        "outputId": "218fa331-c8a9-4de4-93ef-9f3194034628"
      },
      "source": [
        "# разобьем все компании на группы / до 1млн / от 1млн до 10млн / от 10млн до 100млн / от 100млн до 1000 / больше 1000\n",
        "def grup(x):\n",
        "    \"\"\" ф. для разделения значений по группам в зависимости от объема выручки, например до 1 млн.руб. \n",
        "        или от 1 до 100 млн.руб. и др.\n",
        "    \"\"\"\n",
        "    if x < 1:\n",
        "        return '<_1' # group E\n",
        "    elif x >= 1 and x < 99:\n",
        "        return '1_100' # group D\n",
        "    elif x > 100 and x < 999:\n",
        "        return '100_1000' # group C\n",
        "    elif x >1000 and x < 9999:\n",
        "        return '1000_10000' # group B\n",
        "    else:\n",
        "        return '>_10000' # group A\n",
        "\n",
        "data_1['groups'] = data_1['SALE'].apply(grup)\n",
        "data_1.head(3)"
      ],
      "execution_count": 21,
      "outputs": [
        {
          "output_type": "execute_result",
          "data": {
            "text/html": [
              "<div>\n",
              "<style scoped>\n",
              "    .dataframe tbody tr th:only-of-type {\n",
              "        vertical-align: middle;\n",
              "    }\n",
              "\n",
              "    .dataframe tbody tr th {\n",
              "        vertical-align: top;\n",
              "    }\n",
              "\n",
              "    .dataframe thead th {\n",
              "        text-align: right;\n",
              "    }\n",
              "</style>\n",
              "<table border=\"1\" class=\"dataframe\">\n",
              "  <thead>\n",
              "    <tr style=\"text-align: right;\">\n",
              "      <th></th>\n",
              "      <th>name</th>\n",
              "      <th>inn</th>\n",
              "      <th>staff</th>\n",
              "      <th>income</th>\n",
              "      <th>expenses</th>\n",
              "      <th>nalog</th>\n",
              "      <th>AKTIV</th>\n",
              "      <th>SALE</th>\n",
              "      <th>groups</th>\n",
              "    </tr>\n",
              "  </thead>\n",
              "  <tbody>\n",
              "    <tr>\n",
              "      <th>0</th>\n",
              "      <td>\"Сибирская Интернет Компания\"</td>\n",
              "      <td>7708119944</td>\n",
              "      <td>0</td>\n",
              "      <td>0.0</td>\n",
              "      <td>0.0</td>\n",
              "      <td>0.0</td>\n",
              "      <td>47403.0</td>\n",
              "      <td>52074.0</td>\n",
              "      <td>&gt;_10000</td>\n",
              "    </tr>\n",
              "    <tr>\n",
              "      <th>1</th>\n",
              "      <td>\"МЭЙЛ РУ\"</td>\n",
              "      <td>7743001840</td>\n",
              "      <td>0</td>\n",
              "      <td>0.0</td>\n",
              "      <td>0.0</td>\n",
              "      <td>0.0</td>\n",
              "      <td>198742.0</td>\n",
              "      <td>45582.0</td>\n",
              "      <td>&gt;_10000</td>\n",
              "    </tr>\n",
              "    <tr>\n",
              "      <th>2</th>\n",
              "      <td>\"Центр программ лояльности\"</td>\n",
              "      <td>7702770003</td>\n",
              "      <td>166</td>\n",
              "      <td>33174.0</td>\n",
              "      <td>30617.0</td>\n",
              "      <td>1680.0</td>\n",
              "      <td>8723.0</td>\n",
              "      <td>32778.0</td>\n",
              "      <td>&gt;_10000</td>\n",
              "    </tr>\n",
              "  </tbody>\n",
              "</table>\n",
              "</div>"
            ],
            "text/plain": [
              "                            name         inn  staff  ...     AKTIV     SALE   groups\n",
              "0  \"Сибирская Интернет Компания\"  7708119944      0  ...   47403.0  52074.0  >_10000\n",
              "1                      \"МЭЙЛ РУ\"  7743001840      0  ...  198742.0  45582.0  >_10000\n",
              "2    \"Центр программ лояльности\"  7702770003    166  ...    8723.0  32778.0  >_10000\n",
              "\n",
              "[3 rows x 9 columns]"
            ]
          },
          "metadata": {
            "tags": []
          },
          "execution_count": 21
        }
      ]
    },
    {
      "cell_type": "code",
      "metadata": {
        "id": "R1sZ-vrCSEgS",
        "colab": {
          "base_uri": "https://localhost:8080/",
          "height": 166
        },
        "outputId": "cb23c233-f1c6-42c6-b9fc-b1aab2d24083"
      },
      "source": [
        "# кол-во компаний в каждой группе\n",
        "data_2 = data_1.groupby('groups', as_index=False).agg({'SALE':'count'}).rename(columns={'groups':'группа','SALE':'компаний в группе'})\n",
        "data_2"
      ],
      "execution_count": 45,
      "outputs": [
        {
          "output_type": "execute_result",
          "data": {
            "text/html": [
              "<div>\n",
              "<style scoped>\n",
              "    .dataframe tbody tr th:only-of-type {\n",
              "        vertical-align: middle;\n",
              "    }\n",
              "\n",
              "    .dataframe tbody tr th {\n",
              "        vertical-align: top;\n",
              "    }\n",
              "\n",
              "    .dataframe thead th {\n",
              "        text-align: right;\n",
              "    }\n",
              "</style>\n",
              "<table border=\"1\" class=\"dataframe\">\n",
              "  <thead>\n",
              "    <tr style=\"text-align: right;\">\n",
              "      <th></th>\n",
              "      <th>группа</th>\n",
              "      <th>компаний в группе</th>\n",
              "    </tr>\n",
              "  </thead>\n",
              "  <tbody>\n",
              "    <tr>\n",
              "      <th>0</th>\n",
              "      <td>1000_10000</td>\n",
              "      <td>42</td>\n",
              "    </tr>\n",
              "    <tr>\n",
              "      <th>1</th>\n",
              "      <td>100_1000</td>\n",
              "      <td>305</td>\n",
              "    </tr>\n",
              "    <tr>\n",
              "      <th>2</th>\n",
              "      <td>1_100</td>\n",
              "      <td>1490</td>\n",
              "    </tr>\n",
              "    <tr>\n",
              "      <th>3</th>\n",
              "      <td>&gt;_10000</td>\n",
              "      <td>6</td>\n",
              "    </tr>\n",
              "  </tbody>\n",
              "</table>\n",
              "</div>"
            ],
            "text/plain": [
              "       группа  компаний в группе\n",
              "0  1000_10000                 42\n",
              "1    100_1000                305\n",
              "2       1_100               1490\n",
              "3     >_10000                  6"
            ]
          },
          "metadata": {
            "tags": []
          },
          "execution_count": 45
        }
      ]
    },
    {
      "cell_type": "code",
      "metadata": {
        "id": "S1tbS2vafIXb"
      },
      "source": [
        ""
      ],
      "execution_count": 46,
      "outputs": []
    },
    {
      "cell_type": "code",
      "metadata": {
        "id": "UYqipQCvSSZd",
        "colab": {
          "base_uri": "https://localhost:8080/",
          "height": 313
        },
        "outputId": "d77b1fec-13dc-4b47-b36c-fb26d95f7a56"
      },
      "source": [
        "groups1 = data_1.groups.hist() # кол-во значений по группам\n",
        "groups1.set_title('Кол-во значений по группам')\n",
        "groups1.set_xlabel('Группы')\n",
        "groups1.set_ylabel('Кол-во компаний в группе')"
      ],
      "execution_count": 47,
      "outputs": [
        {
          "output_type": "execute_result",
          "data": {
            "text/plain": [
              "Text(0, 0.5, 'Кол-во компаний в группе')"
            ]
          },
          "metadata": {
            "tags": []
          },
          "execution_count": 47
        },
        {
          "output_type": "display_data",
          "data": {
            "image/png": "[encoded data removed]",
            "text/plain": [
              "<Figure size 432x288 with 1 Axes>"
            ]
          },
          "metadata": {
            "tags": [],
            "needs_background": "light"
          }
        }
      ]
    },
    {
      "cell_type": "code",
      "metadata": {
        "id": "kxSmZxaXSSVB",
        "colab": {
          "base_uri": "https://localhost:8080/",
          "height": 585
        },
        "outputId": "6960fc81-5f40-4745-df00-b5dc4235f31b"
      },
      "source": [
        "# \n",
        "for i in data_1['groups'].unique():\n",
        "    sns.distplot(data_1['groups'] == i, label= i) # распределение уникальных значений по группам \n",
        "plt.legend()"
      ],
      "execution_count": 50,
      "outputs": [
        {
          "output_type": "stream",
          "text": [
            "/usr/local/lib/python3.6/dist-packages/seaborn/distributions.py:2551: FutureWarning:\n",
            "\n",
            "`distplot` is a deprecated function and will be removed in a future version. Please adapt your code to use either `displot` (a figure-level function with similar flexibility) or `histplot` (an axes-level function for histograms).\n",
            "\n",
            "/usr/local/lib/python3.6/dist-packages/seaborn/distributions.py:2551: FutureWarning:\n",
            "\n",
            "`distplot` is a deprecated function and will be removed in a future version. Please adapt your code to use either `displot` (a figure-level function with similar flexibility) or `histplot` (an axes-level function for histograms).\n",
            "\n",
            "/usr/local/lib/python3.6/dist-packages/seaborn/distributions.py:2551: FutureWarning:\n",
            "\n",
            "`distplot` is a deprecated function and will be removed in a future version. Please adapt your code to use either `displot` (a figure-level function with similar flexibility) or `histplot` (an axes-level function for histograms).\n",
            "\n",
            "/usr/local/lib/python3.6/dist-packages/seaborn/distributions.py:2551: FutureWarning:\n",
            "\n",
            "`distplot` is a deprecated function and will be removed in a future version. Please adapt your code to use either `displot` (a figure-level function with similar flexibility) or `histplot` (an axes-level function for histograms).\n",
            "\n"
          ],
          "name": "stderr"
        },
        {
          "output_type": "execute_result",
          "data": {
            "text/plain": [
              "<matplotlib.legend.Legend at 0x7f07b6e04b00>"
            ]
          },
          "metadata": {
            "tags": []
          },
          "execution_count": 50
        },
        {
          "output_type": "display_data",
          "data": {
            "image/png": "[encoded data removed]",
            "text/plain": [
              "<Figure size 432x288 with 1 Axes>"
            ]
          },
          "metadata": {
            "tags": [],
            "needs_background": "light"
          }
        }
      ]
    },
    {
      "cell_type": "code",
      "metadata": {
        "colab": {
          "base_uri": "https://localhost:8080/"
        },
        "id": "D5BnmZQijiC0",
        "outputId": "9687ef64-90a1-4d67-a24c-d3443bd92b01"
      },
      "source": [
        "data_1.groupby('groups', as_index=False)\\\n",
        "      .agg({'AKTIV':'count', 'SALE':'mean'})\\\n",
        "      .rename(columns={'groups':'группа','AKTIV':'кол-во компаний', 'SALE':'Среднее по выручке, млн.руб.'})\\\n",
        "      .value_counts(['Среднее по выручке, млн.руб.', 'группа', 'кол-во компаний'])\n",
        "# это среднее по выручке среди групп"
      ],
      "execution_count": 104,
      "outputs": [
        {
          "output_type": "execute_result",
          "data": {
            "text/plain": [
              "Среднее по выручке, млн.руб.  группа      кол-во компаний\n",
              "23787.650000                  >_10000     6                  1\n",
              "2622.238095                   1000_10000  42                 1\n",
              "273.118033                    100_1000    305                1\n",
              "32.099443                     1_100       1490               1\n",
              "dtype: int64"
            ]
          },
          "metadata": {
            "tags": []
          },
          "execution_count": 104
        }
      ]
    },
    {
      "cell_type": "markdown",
      "metadata": {
        "id": "isUnl_Z6jjvj"
      },
      "source": [
        "## Анализ по группам"
      ]
    },
    {
      "cell_type": "markdown",
      "metadata": {
        "id": "pT2OTq06VPcy"
      },
      "source": [
        "### - группа компаний с выручкой более 10000 млн."
      ]
    },
    {
      "cell_type": "code",
      "metadata": {
        "id": "ztpVzqkv2uiw",
        "colab": {
          "base_uri": "https://localhost:8080/"
        },
        "outputId": "7cfee41b-504b-4d93-cd82-8ca62822206e"
      },
      "source": [
        "data_groups_1 = data_1.query(\"groups == '>_10000'\")\n",
        "print('Количество компаний с выручкой более 10 000 млн.руб. - ', data_groups_1.shape[0])"
      ],
      "execution_count": 25,
      "outputs": [
        {
          "output_type": "stream",
          "text": [
            "Количество компаний с выручкой более 10 000 млн.руб. -  6\n"
          ],
          "name": "stdout"
        }
      ]
    },
    {
      "cell_type": "code",
      "metadata": {
        "id": "7acGC2uwSSQs",
        "colab": {
          "base_uri": "https://localhost:8080/",
          "height": 282
        },
        "outputId": "9decb7b3-1f4b-42a5-efd5-b3d3f711ce20"
      },
      "source": [
        "# \n",
        "data_groups_1.SALE.hist(bins= 15) # распределение компаний в группе с выручкой более 10000 млн.руб."
      ],
      "execution_count": 26,
      "outputs": [
        {
          "output_type": "execute_result",
          "data": {
            "text/plain": [
              "<matplotlib.axes._subplots.AxesSubplot at 0x7f07b7298828>"
            ]
          },
          "metadata": {
            "tags": []
          },
          "execution_count": 26
        },
        {
          "output_type": "display_data",
          "data": {
            "image/png": "[encoded data removed]",
            "text/plain": [
              "<Figure size 432x288 with 1 Axes>"
            ]
          },
          "metadata": {
            "tags": [],
            "needs_background": "light"
          }
        }
      ]
    },
    {
      "cell_type": "code",
      "metadata": {
        "id": "z8QYplZqH6P4",
        "colab": {
          "base_uri": "https://localhost:8080/",
          "height": 284
        },
        "outputId": "83f999c3-64fa-49a7-a608-a24944e656ef"
      },
      "source": [
        "# среднее, минимальное и максимальное значеие в группе\n",
        "data_groups_1.describe()"
      ],
      "execution_count": 51,
      "outputs": [
        {
          "output_type": "execute_result",
          "data": {
            "text/html": [
              "<div>\n",
              "<style scoped>\n",
              "    .dataframe tbody tr th:only-of-type {\n",
              "        vertical-align: middle;\n",
              "    }\n",
              "\n",
              "    .dataframe tbody tr th {\n",
              "        vertical-align: top;\n",
              "    }\n",
              "\n",
              "    .dataframe thead th {\n",
              "        text-align: right;\n",
              "    }\n",
              "</style>\n",
              "<table border=\"1\" class=\"dataframe\">\n",
              "  <thead>\n",
              "    <tr style=\"text-align: right;\">\n",
              "      <th></th>\n",
              "      <th>inn</th>\n",
              "      <th>staff</th>\n",
              "      <th>income</th>\n",
              "      <th>expenses</th>\n",
              "      <th>nalog</th>\n",
              "      <th>AKTIV</th>\n",
              "      <th>SALE</th>\n",
              "    </tr>\n",
              "  </thead>\n",
              "  <tbody>\n",
              "    <tr>\n",
              "      <th>count</th>\n",
              "      <td>6.000000e+00</td>\n",
              "      <td>6.000000</td>\n",
              "      <td>6.000000</td>\n",
              "      <td>6.000000</td>\n",
              "      <td>6.000000</td>\n",
              "      <td>6.000000</td>\n",
              "      <td>6.000000</td>\n",
              "    </tr>\n",
              "    <tr>\n",
              "      <th>mean</th>\n",
              "      <td>7.718017e+09</td>\n",
              "      <td>393.333333</td>\n",
              "      <td>7585.833333</td>\n",
              "      <td>7100.600000</td>\n",
              "      <td>595.005000</td>\n",
              "      <td>43845.100000</td>\n",
              "      <td>23787.650000</td>\n",
              "    </tr>\n",
              "    <tr>\n",
              "      <th>std</th>\n",
              "      <td>1.641772e+07</td>\n",
              "      <td>855.525492</td>\n",
              "      <td>13435.748768</td>\n",
              "      <td>12446.629243</td>\n",
              "      <td>916.010379</td>\n",
              "      <td>77912.538356</td>\n",
              "      <td>22869.036529</td>\n",
              "    </tr>\n",
              "    <tr>\n",
              "      <th>min</th>\n",
              "      <td>7.701987e+09</td>\n",
              "      <td>0.000000</td>\n",
              "      <td>0.000000</td>\n",
              "      <td>0.000000</td>\n",
              "      <td>0.000000</td>\n",
              "      <td>46.600000</td>\n",
              "      <td>99.000000</td>\n",
              "    </tr>\n",
              "    <tr>\n",
              "      <th>25%</th>\n",
              "      <td>7.704107e+09</td>\n",
              "      <td>4.000000</td>\n",
              "      <td>25.000000</td>\n",
              "      <td>16.900000</td>\n",
              "      <td>1.132500</td>\n",
              "      <td>2097.000000</td>\n",
              "      <td>3098.175000</td>\n",
              "    </tr>\n",
              "    <tr>\n",
              "      <th>50%</th>\n",
              "      <td>7.716324e+09</td>\n",
              "      <td>29.500000</td>\n",
              "      <td>101.500000</td>\n",
              "      <td>83.800000</td>\n",
              "      <td>10.015000</td>\n",
              "      <td>8381.500000</td>\n",
              "      <td>22435.500000</td>\n",
              "    </tr>\n",
              "    <tr>\n",
              "      <th>75%</th>\n",
              "      <td>7.726904e+09</td>\n",
              "      <td>135.250000</td>\n",
              "      <td>9129.250000</td>\n",
              "      <td>8889.250000</td>\n",
              "      <td>1263.875000</td>\n",
              "      <td>37733.000000</td>\n",
              "      <td>42381.000000</td>\n",
              "    </tr>\n",
              "    <tr>\n",
              "      <th>max</th>\n",
              "      <td>7.743002e+09</td>\n",
              "      <td>2135.000000</td>\n",
              "      <td>33174.000000</td>\n",
              "      <td>30617.000000</td>\n",
              "      <td>1870.000000</td>\n",
              "      <td>198742.000000</td>\n",
              "      <td>52074.000000</td>\n",
              "    </tr>\n",
              "  </tbody>\n",
              "</table>\n",
              "</div>"
            ],
            "text/plain": [
              "                inn        staff  ...          AKTIV          SALE\n",
              "count  6.000000e+00     6.000000  ...       6.000000      6.000000\n",
              "mean   7.718017e+09   393.333333  ...   43845.100000  23787.650000\n",
              "std    1.641772e+07   855.525492  ...   77912.538356  22869.036529\n",
              "min    7.701987e+09     0.000000  ...      46.600000     99.000000\n",
              "25%    7.704107e+09     4.000000  ...    2097.000000   3098.175000\n",
              "50%    7.716324e+09    29.500000  ...    8381.500000  22435.500000\n",
              "75%    7.726904e+09   135.250000  ...   37733.000000  42381.000000\n",
              "max    7.743002e+09  2135.000000  ...  198742.000000  52074.000000\n",
              "\n",
              "[8 rows x 7 columns]"
            ]
          },
          "metadata": {
            "tags": []
          },
          "execution_count": 51
        }
      ]
    },
    {
      "cell_type": "markdown",
      "metadata": {
        "id": "uDxuAJSRVZEl"
      },
      "source": [
        "### - группа компаний с выручкой от 1000 до  10000 млн."
      ]
    },
    {
      "cell_type": "code",
      "metadata": {
        "id": "nh-JrldY2bTl",
        "colab": {
          "base_uri": "https://localhost:8080/"
        },
        "outputId": "fa0b45eb-f818-4e87-de4c-70b24fb73470"
      },
      "source": [
        "data_groups_2 = data_1.query(\"groups == '1000_10000'\")\n",
        "# кол-во компаний \n",
        "print('Количество компаний с выручкой от 1 000 до  10 000 млн.руб. - ', data_groups_2.shape[0])"
      ],
      "execution_count": 28,
      "outputs": [
        {
          "output_type": "stream",
          "text": [
            "Количество компаний с выручкой от 1 000 до  10 000 млн.руб. -  42\n"
          ],
          "name": "stdout"
        }
      ]
    },
    {
      "cell_type": "code",
      "metadata": {
        "id": "bo1iBfykSSNX",
        "colab": {
          "base_uri": "https://localhost:8080/",
          "height": 282
        },
        "outputId": "5550078f-d6be-45ee-f8a0-20d2b4626f9d"
      },
      "source": [
        "# распределений выручки у этой группы компаний\n",
        "data_groups_2.SALE.hist(bins=20)"
      ],
      "execution_count": 106,
      "outputs": [
        {
          "output_type": "execute_result",
          "data": {
            "text/plain": [
              "<matplotlib.axes._subplots.AxesSubplot at 0x7f07abc01208>"
            ]
          },
          "metadata": {
            "tags": []
          },
          "execution_count": 106
        },
        {
          "output_type": "display_data",
          "data": {
            "image/png": "[encoded data removed]",
            "text/plain": [
              "<Figure size 432x288 with 1 Axes>"
            ]
          },
          "metadata": {
            "tags": [],
            "needs_background": "light"
          }
        }
      ]
    },
    {
      "cell_type": "code",
      "metadata": {
        "id": "iSNuS-tk3-wv",
        "colab": {
          "base_uri": "https://localhost:8080/",
          "height": 313
        },
        "outputId": "ee49d874-f640-413e-c79a-93355936696a"
      },
      "source": [
        "data_groups_2.loc[:,['SALE', 'staff']].hist()\n",
        "plt.text(-5000, 36, 'Распределение значений выручки и персонала в этой группе')"
      ],
      "execution_count": 110,
      "outputs": [
        {
          "output_type": "execute_result",
          "data": {
            "text/plain": [
              "Text(-5000, 36, 'Распределение значений выручки и персонала в этой группе')"
            ]
          },
          "metadata": {
            "tags": []
          },
          "execution_count": 110
        },
        {
          "output_type": "display_data",
          "data": {
            "image/png": "[encoded data removed]",
            "text/plain": [
              "<Figure size 432x288 with 2 Axes>"
            ]
          },
          "metadata": {
            "tags": [],
            "needs_background": "light"
          }
        }
      ]
    },
    {
      "cell_type": "code",
      "metadata": {
        "id": "7F348PC3H5pO",
        "colab": {
          "base_uri": "https://localhost:8080/",
          "height": 542
        },
        "outputId": "3a84522f-b063-4c4a-85c2-03da1ce7cefc"
      },
      "source": [
        "fig = go.Figure() # создадим интерактивный график\n",
        "\n",
        "fig.add_trace(go.Scatter(x=data_groups_2.SALE, y= data_groups_2.index, name = 'SALE'))\n",
        "fig.add_trace(go.Scatter(x=data_groups_2.staff, y= data_groups_2.index, name= 'staff'))\n",
        "fig.update_layout(title=\"Выручка и количество персонала компании\",\\\n",
        "                  xaxis_title=\"Выручка, млн.руб. / Персонал, чел.\",\\\n",
        "                  yaxis_title=\"№ компании\")\n",
        "fig.show(renderer=\"colab\")"
      ],
      "execution_count": 72,
      "outputs": [
        {
          "output_type": "display_data",
          "data": {
            "text/html": [
              "<html>\n",
              "<head><meta charset=\"utf-8\" /></head>\n",
              "<body>\n",
              "    <div>\n",
              "            <script src=\"https://cdnjs.cloudflare.com/ajax/libs/mathjax/2.7.5/MathJax.js?config=TeX-AMS-MML_SVG\"></script><script type=\"text/javascript\">if (window.MathJax) {MathJax.Hub.Config({SVG: {font: \"STIX-Web\"}});}</script>\n",
              "                <script type=\"text/javascript\">window.PlotlyConfig = {MathJaxConfig: 'local'};</script>\n",
              "        <script src=\"https://cdn.plot.ly/plotly-latest.min.js\"></script>    \n",
              "            <div id=\"53648876-a37e-4e75-8fde-95fab8f6b11a\" class=\"plotly-graph-div\" style=\"height:525px; width:100%;\"></div>\n",
              "            <script type=\"text/javascript\">\n",
              "                \n",
              "                    window.PLOTLYENV=window.PLOTLYENV || {};\n",
              "                    \n",
              "                if (document.getElementById(\"53648876-a37e-4e75-8fde-95fab8f6b11a\")) {\n",
              "                    Plotly.newPlot(\n",
              "                        '53648876-a37e-4e75-8fde-95fab8f6b11a',\n",
              "                        [{\"name\": \"SALE\", \"type\": \"scatter\", \"x\": [8141.0, 8120.0, 7329.0, 5944.0, 5555.0, 5077.0, 4131.0, 3637.0, 3606.0, 3429.0, 3180.0, 2995.0, 2894.0, 2722.0, 2476.0, 2425.0, 2281.0, 2258.0, 2003.0, 1993.0, 1990.0, 1973.0, 1783.0, 1731.0, 1638.0, 1590.0, 1562.0, 1421.0, 1323.0, 1269.0, 1264.0, 1187.0, 1179.0, 1150.0, 1141.0, 1138.0, 1132.0, 1119.0, 1099.0, 1095.0, 1091.0, 1063.0], \"y\": [4, 5, 6, 7, 8, 9, 10, 11, 12, 13, 14, 15, 16, 17, 18, 19, 20, 21, 22, 23, 24, 25, 26, 27, 28, 29, 30, 31, 32, 33, 34, 35, 36, 37, 38, 39, 40, 41, 42, 43, 44, 45]}, {\"name\": \"staff\", \"type\": \"scatter\", \"x\": [0, 3689, 15, 216, 408, 0, 586, 326, 0, 34, 0, 126, 566, 188, 146, 1011, 2297, 181, 220, 65, 296, 7, 639, 54, 0, 744, 937, 117, 337, 0, 168, 50, 5, 77, 0, 243, 92, 337, 220, 459, 0, 685], \"y\": [4, 5, 6, 7, 8, 9, 10, 11, 12, 13, 14, 15, 16, 17, 18, 19, 20, 21, 22, 23, 24, 25, 26, 27, 28, 29, 30, 31, 32, 33, 34, 35, 36, 37, 38, 39, 40, 41, 42, 43, 44, 45]}],\n",
              "                        {\"template\": {\"data\": {\"bar\": [{\"error_x\": {\"color\": \"#2a3f5f\"}, \"error_y\": {\"color\": \"#2a3f5f\"}, \"marker\": {\"line\": {\"color\": \"#E5ECF6\", \"width\": 0.5}}, \"type\": \"bar\"}], \"barpolar\": [{\"marker\": {\"line\": {\"color\": \"#E5ECF6\", \"width\": 0.5}}, \"type\": \"barpolar\"}], \"carpet\": [{\"aaxis\": {\"endlinecolor\": \"#2a3f5f\", \"gridcolor\": \"white\", \"linecolor\": \"white\", \"minorgridcolor\": \"white\", \"startlinecolor\": \"#2a3f5f\"}, \"baxis\": {\"endlinecolor\": \"#2a3f5f\", \"gridcolor\": \"white\", \"linecolor\": \"white\", \"minorgridcolor\": \"white\", \"startlinecolor\": \"#2a3f5f\"}, \"type\": \"carpet\"}], \"choropleth\": [{\"colorbar\": {\"outlinewidth\": 0, \"ticks\": \"\"}, \"type\": \"choropleth\"}], \"contour\": [{\"colorbar\": {\"outlinewidth\": 0, \"ticks\": \"\"}, \"colorscale\": [[0.0, \"#0d0887\"], [0.1111111111111111, \"#46039f\"], [0.2222222222222222, \"#7201a8\"], [0.3333333333333333, \"#9c179e\"], [0.4444444444444444, \"#bd3786\"], [0.5555555555555556, \"#d8576b\"], [0.6666666666666666, \"#ed7953\"], [0.7777777777777778, \"#fb9f3a\"], [0.8888888888888888, \"#fdca26\"], [1.0, \"#f0f921\"]], \"type\": \"contour\"}], \"contourcarpet\": [{\"colorbar\": {\"outlinewidth\": 0, \"ticks\": \"\"}, \"type\": \"contourcarpet\"}], \"heatmap\": [{\"colorbar\": {\"outlinewidth\": 0, \"ticks\": \"\"}, \"colorscale\": [[0.0, \"#0d0887\"], [0.1111111111111111, \"#46039f\"], [0.2222222222222222, \"#7201a8\"], [0.3333333333333333, \"#9c179e\"], [0.4444444444444444, \"#bd3786\"], [0.5555555555555556, \"#d8576b\"], [0.6666666666666666, \"#ed7953\"], [0.7777777777777778, \"#fb9f3a\"], [0.8888888888888888, \"#fdca26\"], [1.0, \"#f0f921\"]], \"type\": \"heatmap\"}], \"heatmapgl\": [{\"colorbar\": {\"outlinewidth\": 0, \"ticks\": \"\"}, \"colorscale\": [[0.0, \"#0d0887\"], [0.1111111111111111, \"#46039f\"], [0.2222222222222222, \"#7201a8\"], [0.3333333333333333, \"#9c179e\"], [0.4444444444444444, \"#bd3786\"], [0.5555555555555556, \"#d8576b\"], [0.6666666666666666, \"#ed7953\"], [0.7777777777777778, \"#fb9f3a\"], [0.8888888888888888, \"#fdca26\"], [1.0, \"#f0f921\"]], \"type\": \"heatmapgl\"}], \"histogram\": [{\"marker\": {\"colorbar\": {\"outlinewidth\": 0, \"ticks\": \"\"}}, \"type\": \"histogram\"}], \"histogram2d\": [{\"colorbar\": {\"outlinewidth\": 0, \"ticks\": \"\"}, \"colorscale\": [[0.0, \"#0d0887\"], [0.1111111111111111, \"#46039f\"], [0.2222222222222222, \"#7201a8\"], [0.3333333333333333, \"#9c179e\"], [0.4444444444444444, \"#bd3786\"], [0.5555555555555556, \"#d8576b\"], [0.6666666666666666, \"#ed7953\"], [0.7777777777777778, \"#fb9f3a\"], [0.8888888888888888, \"#fdca26\"], [1.0, \"#f0f921\"]], \"type\": \"histogram2d\"}], \"histogram2dcontour\": [{\"colorbar\": {\"outlinewidth\": 0, \"ticks\": \"\"}, \"colorscale\": [[0.0, \"#0d0887\"], [0.1111111111111111, \"#46039f\"], [0.2222222222222222, \"#7201a8\"], [0.3333333333333333, \"#9c179e\"], [0.4444444444444444, \"#bd3786\"], [0.5555555555555556, \"#d8576b\"], [0.6666666666666666, \"#ed7953\"], [0.7777777777777778, \"#fb9f3a\"], [0.8888888888888888, \"#fdca26\"], [1.0, \"#f0f921\"]], \"type\": \"histogram2dcontour\"}], \"mesh3d\": [{\"colorbar\": {\"outlinewidth\": 0, \"ticks\": \"\"}, \"type\": \"mesh3d\"}], \"parcoords\": [{\"line\": {\"colorbar\": {\"outlinewidth\": 0, \"ticks\": \"\"}}, \"type\": \"parcoords\"}], \"pie\": [{\"automargin\": true, \"type\": \"pie\"}], \"scatter\": [{\"marker\": {\"colorbar\": {\"outlinewidth\": 0, \"ticks\": \"\"}}, \"type\": \"scatter\"}], \"scatter3d\": [{\"line\": {\"colorbar\": {\"outlinewidth\": 0, \"ticks\": \"\"}}, \"marker\": {\"colorbar\": {\"outlinewidth\": 0, \"ticks\": \"\"}}, \"type\": \"scatter3d\"}], \"scattercarpet\": [{\"marker\": {\"colorbar\": {\"outlinewidth\": 0, \"ticks\": \"\"}}, \"type\": \"scattercarpet\"}], \"scattergeo\": [{\"marker\": {\"colorbar\": {\"outlinewidth\": 0, \"ticks\": \"\"}}, \"type\": \"scattergeo\"}], \"scattergl\": [{\"marker\": {\"colorbar\": {\"outlinewidth\": 0, \"ticks\": \"\"}}, \"type\": \"scattergl\"}], \"scattermapbox\": [{\"marker\": {\"colorbar\": {\"outlinewidth\": 0, \"ticks\": \"\"}}, \"type\": \"scattermapbox\"}], \"scatterpolar\": [{\"marker\": {\"colorbar\": {\"outlinewidth\": 0, \"ticks\": \"\"}}, \"type\": \"scatterpolar\"}], \"scatterpolargl\": [{\"marker\": {\"colorbar\": {\"outlinewidth\": 0, \"ticks\": \"\"}}, \"type\": \"scatterpolargl\"}], \"scatterternary\": [{\"marker\": {\"colorbar\": {\"outlinewidth\": 0, \"ticks\": \"\"}}, \"type\": \"scatterternary\"}], \"surface\": [{\"colorbar\": {\"outlinewidth\": 0, \"ticks\": \"\"}, \"colorscale\": [[0.0, \"#0d0887\"], [0.1111111111111111, \"#46039f\"], [0.2222222222222222, \"#7201a8\"], [0.3333333333333333, \"#9c179e\"], [0.4444444444444444, \"#bd3786\"], [0.5555555555555556, \"#d8576b\"], [0.6666666666666666, \"#ed7953\"], [0.7777777777777778, \"#fb9f3a\"], [0.8888888888888888, \"#fdca26\"], [1.0, \"#f0f921\"]], \"type\": \"surface\"}], \"table\": [{\"cells\": {\"fill\": {\"color\": \"#EBF0F8\"}, \"line\": {\"color\": \"white\"}}, \"header\": {\"fill\": {\"color\": \"#C8D4E3\"}, \"line\": {\"color\": \"white\"}}, \"type\": \"table\"}]}, \"layout\": {\"annotationdefaults\": {\"arrowcolor\": \"#2a3f5f\", \"arrowhead\": 0, \"arrowwidth\": 1}, \"coloraxis\": {\"colorbar\": {\"outlinewidth\": 0, \"ticks\": \"\"}}, \"colorscale\": {\"diverging\": [[0, \"#8e0152\"], [0.1, \"#c51b7d\"], [0.2, \"#de77ae\"], [0.3, \"#f1b6da\"], [0.4, \"#fde0ef\"], [0.5, \"#f7f7f7\"], [0.6, \"#e6f5d0\"], [0.7, \"#b8e186\"], [0.8, \"#7fbc41\"], [0.9, \"#4d9221\"], [1, \"#276419\"]], \"sequential\": [[0.0, \"#0d0887\"], [0.1111111111111111, \"#46039f\"], [0.2222222222222222, \"#7201a8\"], [0.3333333333333333, \"#9c179e\"], [0.4444444444444444, \"#bd3786\"], [0.5555555555555556, \"#d8576b\"], [0.6666666666666666, \"#ed7953\"], [0.7777777777777778, \"#fb9f3a\"], [0.8888888888888888, \"#fdca26\"], [1.0, \"#f0f921\"]], \"sequentialminus\": [[0.0, \"#0d0887\"], [0.1111111111111111, \"#46039f\"], [0.2222222222222222, \"#7201a8\"], [0.3333333333333333, \"#9c179e\"], [0.4444444444444444, \"#bd3786\"], [0.5555555555555556, \"#d8576b\"], [0.6666666666666666, \"#ed7953\"], [0.7777777777777778, \"#fb9f3a\"], [0.8888888888888888, \"#fdca26\"], [1.0, \"#f0f921\"]]}, \"colorway\": [\"#636efa\", \"#EF553B\", \"#00cc96\", \"#ab63fa\", \"#FFA15A\", \"#19d3f3\", \"#FF6692\", \"#B6E880\", \"#FF97FF\", \"#FECB52\"], \"font\": {\"color\": \"#2a3f5f\"}, \"geo\": {\"bgcolor\": \"white\", \"lakecolor\": \"white\", \"landcolor\": \"#E5ECF6\", \"showlakes\": true, \"showland\": true, \"subunitcolor\": \"white\"}, \"hoverlabel\": {\"align\": \"left\"}, \"hovermode\": \"closest\", \"mapbox\": {\"style\": \"light\"}, \"paper_bgcolor\": \"white\", \"plot_bgcolor\": \"#E5ECF6\", \"polar\": {\"angularaxis\": {\"gridcolor\": \"white\", \"linecolor\": \"white\", \"ticks\": \"\"}, \"bgcolor\": \"#E5ECF6\", \"radialaxis\": {\"gridcolor\": \"white\", \"linecolor\": \"white\", \"ticks\": \"\"}}, \"scene\": {\"xaxis\": {\"backgroundcolor\": \"#E5ECF6\", \"gridcolor\": \"white\", \"gridwidth\": 2, \"linecolor\": \"white\", \"showbackground\": true, \"ticks\": \"\", \"zerolinecolor\": \"white\"}, \"yaxis\": {\"backgroundcolor\": \"#E5ECF6\", \"gridcolor\": \"white\", \"gridwidth\": 2, \"linecolor\": \"white\", \"showbackground\": true, \"ticks\": \"\", \"zerolinecolor\": \"white\"}, \"zaxis\": {\"backgroundcolor\": \"#E5ECF6\", \"gridcolor\": \"white\", \"gridwidth\": 2, \"linecolor\": \"white\", \"showbackground\": true, \"ticks\": \"\", \"zerolinecolor\": \"white\"}}, \"shapedefaults\": {\"line\": {\"color\": \"#2a3f5f\"}}, \"ternary\": {\"aaxis\": {\"gridcolor\": \"white\", \"linecolor\": \"white\", \"ticks\": \"\"}, \"baxis\": {\"gridcolor\": \"white\", \"linecolor\": \"white\", \"ticks\": \"\"}, \"bgcolor\": \"#E5ECF6\", \"caxis\": {\"gridcolor\": \"white\", \"linecolor\": \"white\", \"ticks\": \"\"}}, \"title\": {\"x\": 0.05}, \"xaxis\": {\"automargin\": true, \"gridcolor\": \"white\", \"linecolor\": \"white\", \"ticks\": \"\", \"title\": {\"standoff\": 15}, \"zerolinecolor\": \"white\", \"zerolinewidth\": 2}, \"yaxis\": {\"automargin\": true, \"gridcolor\": \"white\", \"linecolor\": \"white\", \"ticks\": \"\", \"title\": {\"standoff\": 15}, \"zerolinecolor\": \"white\", \"zerolinewidth\": 2}}}, \"title\": {\"text\": \"\\u0412\\u044b\\u0440\\u0443\\u0447\\u043a\\u0430 \\u0438 \\u043a\\u043e\\u043b\\u0438\\u0447\\u0435\\u0441\\u0442\\u0432\\u043e \\u043f\\u0435\\u0440\\u0441\\u043e\\u043d\\u0430\\u043b\\u0430 \\u043a\\u043e\\u043c\\u043f\\u0430\\u043d\\u0438\\u0438\"}, \"xaxis\": {\"title\": {\"text\": \"\\u0412\\u044b\\u0440\\u0443\\u0447\\u043a\\u0430, \\u043c\\u043b\\u043d.\\u0440\\u0443\\u0431. / \\u041f\\u0435\\u0440\\u0441\\u043e\\u043d\\u0430\\u043b, \\u0447\\u0435\\u043b.\"}}, \"yaxis\": {\"title\": {\"text\": \"\\u2116 \\u043a\\u043e\\u043c\\u043f\\u0430\\u043d\\u0438\\u0438\"}}},\n",
              "                        {\"responsive\": true}\n",
              "                    ).then(function(){\n",
              "                            \n",
              "var gd = document.getElementById('53648876-a37e-4e75-8fde-95fab8f6b11a');\n",
              "var x = new MutationObserver(function (mutations, observer) {{\n",
              "        var display = window.getComputedStyle(gd).display;\n",
              "        if (!display || display === 'none') {{\n",
              "            console.log([gd, 'removed!']);\n",
              "            Plotly.purge(gd);\n",
              "            observer.disconnect();\n",
              "        }}\n",
              "}});\n",
              "\n",
              "// Listen for the removal of the full notebook cells\n",
              "var notebookContainer = gd.closest('#notebook-container');\n",
              "if (notebookContainer) {{\n",
              "    x.observe(notebookContainer, {childList: true});\n",
              "}}\n",
              "\n",
              "// Listen for the clearing of the current output cell\n",
              "var outputEl = gd.closest('.output');\n",
              "if (outputEl) {{\n",
              "    x.observe(outputEl, {childList: true});\n",
              "}}\n",
              "\n",
              "                        })\n",
              "                };\n",
              "                \n",
              "            </script>\n",
              "        </div>\n",
              "</body>\n",
              "</html>"
            ]
          },
          "metadata": {
            "tags": []
          }
        }
      ]
    },
    {
      "cell_type": "code",
      "metadata": {
        "colab": {
          "base_uri": "https://localhost:8080/",
          "height": 284
        },
        "id": "i5rCYczLgJ4G",
        "outputId": "26365df5-ba3f-4930-dd18-c4d04c87c78f"
      },
      "source": [
        "# среднее, минимальное и максимальное значение в группе\n",
        "data_groups_2.describe()"
      ],
      "execution_count": 52,
      "outputs": [
        {
          "output_type": "execute_result",
          "data": {
            "text/html": [
              "<div>\n",
              "<style scoped>\n",
              "    .dataframe tbody tr th:only-of-type {\n",
              "        vertical-align: middle;\n",
              "    }\n",
              "\n",
              "    .dataframe tbody tr th {\n",
              "        vertical-align: top;\n",
              "    }\n",
              "\n",
              "    .dataframe thead th {\n",
              "        text-align: right;\n",
              "    }\n",
              "</style>\n",
              "<table border=\"1\" class=\"dataframe\">\n",
              "  <thead>\n",
              "    <tr style=\"text-align: right;\">\n",
              "      <th></th>\n",
              "      <th>inn</th>\n",
              "      <th>staff</th>\n",
              "      <th>income</th>\n",
              "      <th>expenses</th>\n",
              "      <th>nalog</th>\n",
              "      <th>AKTIV</th>\n",
              "      <th>SALE</th>\n",
              "    </tr>\n",
              "  </thead>\n",
              "  <tbody>\n",
              "    <tr>\n",
              "      <th>count</th>\n",
              "      <td>4.200000e+01</td>\n",
              "      <td>42.000000</td>\n",
              "      <td>42.000000</td>\n",
              "      <td>42.000000</td>\n",
              "      <td>42.000000</td>\n",
              "      <td>42.000000</td>\n",
              "      <td>42.000000</td>\n",
              "    </tr>\n",
              "    <tr>\n",
              "      <th>mean</th>\n",
              "      <td>7.621730e+09</td>\n",
              "      <td>370.023810</td>\n",
              "      <td>2171.619048</td>\n",
              "      <td>2132.095238</td>\n",
              "      <td>239.187619</td>\n",
              "      <td>3440.714286</td>\n",
              "      <td>2622.238095</td>\n",
              "    </tr>\n",
              "    <tr>\n",
              "      <th>std</th>\n",
              "      <td>1.094515e+09</td>\n",
              "      <td>668.137071</td>\n",
              "      <td>1990.918037</td>\n",
              "      <td>2207.196454</td>\n",
              "      <td>278.839199</td>\n",
              "      <td>7814.149874</td>\n",
              "      <td>1925.097195</td>\n",
              "    </tr>\n",
              "    <tr>\n",
              "      <th>min</th>\n",
              "      <td>3.123305e+09</td>\n",
              "      <td>0.000000</td>\n",
              "      <td>0.000000</td>\n",
              "      <td>0.000000</td>\n",
              "      <td>0.000000</td>\n",
              "      <td>105.000000</td>\n",
              "      <td>1063.000000</td>\n",
              "    </tr>\n",
              "    <tr>\n",
              "      <th>25%</th>\n",
              "      <td>7.706636e+09</td>\n",
              "      <td>19.750000</td>\n",
              "      <td>1128.750000</td>\n",
              "      <td>1081.750000</td>\n",
              "      <td>71.050000</td>\n",
              "      <td>480.000000</td>\n",
              "      <td>1206.250000</td>\n",
              "    </tr>\n",
              "    <tr>\n",
              "      <th>50%</th>\n",
              "      <td>7.723570e+09</td>\n",
              "      <td>174.500000</td>\n",
              "      <td>1688.000000</td>\n",
              "      <td>1496.000000</td>\n",
              "      <td>166.500000</td>\n",
              "      <td>1408.000000</td>\n",
              "      <td>1981.500000</td>\n",
              "    </tr>\n",
              "    <tr>\n",
              "      <th>75%</th>\n",
              "      <td>7.735578e+09</td>\n",
              "      <td>390.250000</td>\n",
              "      <td>2664.000000</td>\n",
              "      <td>2528.000000</td>\n",
              "      <td>314.750000</td>\n",
              "      <td>2758.000000</td>\n",
              "      <td>3133.750000</td>\n",
              "    </tr>\n",
              "    <tr>\n",
              "      <th>max</th>\n",
              "      <td>9.710053e+09</td>\n",
              "      <td>3689.000000</td>\n",
              "      <td>8296.000000</td>\n",
              "      <td>10351.000000</td>\n",
              "      <td>1407.000000</td>\n",
              "      <td>48950.000000</td>\n",
              "      <td>8141.000000</td>\n",
              "    </tr>\n",
              "  </tbody>\n",
              "</table>\n",
              "</div>"
            ],
            "text/plain": [
              "                inn        staff  ...         AKTIV         SALE\n",
              "count  4.200000e+01    42.000000  ...     42.000000    42.000000\n",
              "mean   7.621730e+09   370.023810  ...   3440.714286  2622.238095\n",
              "std    1.094515e+09   668.137071  ...   7814.149874  1925.097195\n",
              "min    3.123305e+09     0.000000  ...    105.000000  1063.000000\n",
              "25%    7.706636e+09    19.750000  ...    480.000000  1206.250000\n",
              "50%    7.723570e+09   174.500000  ...   1408.000000  1981.500000\n",
              "75%    7.735578e+09   390.250000  ...   2758.000000  3133.750000\n",
              "max    9.710053e+09  3689.000000  ...  48950.000000  8141.000000\n",
              "\n",
              "[8 rows x 7 columns]"
            ]
          },
          "metadata": {
            "tags": []
          },
          "execution_count": 52
        }
      ]
    },
    {
      "cell_type": "markdown",
      "metadata": {
        "id": "kQ3pbU4iVe5p"
      },
      "source": [
        "### - группа компаний с выручкой от 100 до  1000 млн."
      ]
    },
    {
      "cell_type": "code",
      "metadata": {
        "id": "KcL3-jvKVeFY",
        "colab": {
          "base_uri": "https://localhost:8080/"
        },
        "outputId": "c41203bd-7185-4001-fc3b-3758a7a1f1fc"
      },
      "source": [
        "data_groups_3 = data_1.query(\"groups == '100_1000'\")\n",
        "print('Количество компаний с выручкой от 100 до  1 000 млн.руб. - ', data_groups_3.shape[0], '\\n\\n')"
      ],
      "execution_count": 32,
      "outputs": [
        {
          "output_type": "stream",
          "text": [
            "Количество компаний с выручкой от 100 до  1 000 млн.руб. -  305 \n",
            "\n",
            "\n"
          ],
          "name": "stdout"
        }
      ]
    },
    {
      "cell_type": "code",
      "metadata": {
        "id": "fw2PtZIu3bVu",
        "colab": {
          "base_uri": "https://localhost:8080/",
          "height": 282
        },
        "outputId": "431fae29-3984-4785-905a-437a523efdd1"
      },
      "source": [
        "# распределение значений выручки у компаний этой группы\n",
        "data_groups_3.SALE.hist(bins= 25)"
      ],
      "execution_count": 80,
      "outputs": [
        {
          "output_type": "execute_result",
          "data": {
            "text/plain": [
              "<matplotlib.axes._subplots.AxesSubplot at 0x7f07abe21c50>"
            ]
          },
          "metadata": {
            "tags": []
          },
          "execution_count": 80
        },
        {
          "output_type": "display_data",
          "data": {
            "image/png": "[encoded data removed]",
            "text/plain": [
              "<Figure size 432x288 with 1 Axes>"
            ]
          },
          "metadata": {
            "tags": [],
            "needs_background": "light"
          }
        }
      ]
    },
    {
      "cell_type": "code",
      "metadata": {
        "id": "-dcH-8s54EB_",
        "colab": {
          "base_uri": "https://localhost:8080/",
          "height": 383
        },
        "outputId": "461462b2-978c-491a-e826-4f98e10ffd92"
      },
      "source": [
        "# то же самое в seaborn\n",
        "sns.countplot(data_groups_3.SALE)"
      ],
      "execution_count": 74,
      "outputs": [
        {
          "output_type": "stream",
          "text": [
            "/usr/local/lib/python3.6/dist-packages/seaborn/_decorators.py:43: FutureWarning:\n",
            "\n",
            "Pass the following variable as a keyword arg: x. From version 0.12, the only valid positional argument will be `data`, and passing other arguments without an explicit keyword will result in an error or misinterpretation.\n",
            "\n"
          ],
          "name": "stderr"
        },
        {
          "output_type": "execute_result",
          "data": {
            "text/plain": [
              "<matplotlib.axes._subplots.AxesSubplot at 0x7f07b3ccc780>"
            ]
          },
          "metadata": {
            "tags": []
          },
          "execution_count": 74
        },
        {
          "output_type": "display_data",
          "data": {
            "image/png": "[encoded data removed]",
            "text/plain": [
              "<Figure size 432x288 with 1 Axes>"
            ]
          },
          "metadata": {
            "tags": [],
            "needs_background": "light"
          }
        }
      ]
    },
    {
      "cell_type": "code",
      "metadata": {
        "colab": {
          "base_uri": "https://localhost:8080/",
          "height": 284
        },
        "id": "lcp89Av3iKyb",
        "outputId": "e448bd4e-60c6-41ad-af87-688131d2b400"
      },
      "source": [
        "# среднее, минимальное и максимальное значение в группе\n",
        "data_groups_3.describe()"
      ],
      "execution_count": 81,
      "outputs": [
        {
          "output_type": "execute_result",
          "data": {
            "text/html": [
              "<div>\n",
              "<style scoped>\n",
              "    .dataframe tbody tr th:only-of-type {\n",
              "        vertical-align: middle;\n",
              "    }\n",
              "\n",
              "    .dataframe tbody tr th {\n",
              "        vertical-align: top;\n",
              "    }\n",
              "\n",
              "    .dataframe thead th {\n",
              "        text-align: right;\n",
              "    }\n",
              "</style>\n",
              "<table border=\"1\" class=\"dataframe\">\n",
              "  <thead>\n",
              "    <tr style=\"text-align: right;\">\n",
              "      <th></th>\n",
              "      <th>inn</th>\n",
              "      <th>staff</th>\n",
              "      <th>income</th>\n",
              "      <th>expenses</th>\n",
              "      <th>nalog</th>\n",
              "      <th>AKTIV</th>\n",
              "      <th>SALE</th>\n",
              "    </tr>\n",
              "  </thead>\n",
              "  <tbody>\n",
              "    <tr>\n",
              "      <th>count</th>\n",
              "      <td>3.050000e+02</td>\n",
              "      <td>305.000000</td>\n",
              "      <td>305.000000</td>\n",
              "      <td>305.000000</td>\n",
              "      <td>305.000000</td>\n",
              "      <td>305.000000</td>\n",
              "      <td>305.000000</td>\n",
              "    </tr>\n",
              "    <tr>\n",
              "      <th>mean</th>\n",
              "      <td>6.877253e+09</td>\n",
              "      <td>59.701639</td>\n",
              "      <td>290.770492</td>\n",
              "      <td>265.888721</td>\n",
              "      <td>40.369180</td>\n",
              "      <td>150.471207</td>\n",
              "      <td>273.118033</td>\n",
              "    </tr>\n",
              "    <tr>\n",
              "      <th>std</th>\n",
              "      <td>1.854065e+09</td>\n",
              "      <td>81.680375</td>\n",
              "      <td>249.579725</td>\n",
              "      <td>265.750616</td>\n",
              "      <td>64.077362</td>\n",
              "      <td>207.536630</td>\n",
              "      <td>224.329599</td>\n",
              "    </tr>\n",
              "    <tr>\n",
              "      <th>min</th>\n",
              "      <td>8.160287e+08</td>\n",
              "      <td>0.000000</td>\n",
              "      <td>0.000000</td>\n",
              "      <td>0.000000</td>\n",
              "      <td>0.000000</td>\n",
              "      <td>0.458000</td>\n",
              "      <td>101.000000</td>\n",
              "    </tr>\n",
              "    <tr>\n",
              "      <th>25%</th>\n",
              "      <td>6.670021e+09</td>\n",
              "      <td>14.000000</td>\n",
              "      <td>133.000000</td>\n",
              "      <td>114.000000</td>\n",
              "      <td>8.760000</td>\n",
              "      <td>37.600000</td>\n",
              "      <td>131.000000</td>\n",
              "    </tr>\n",
              "    <tr>\n",
              "      <th>50%</th>\n",
              "      <td>7.710606e+09</td>\n",
              "      <td>34.000000</td>\n",
              "      <td>182.000000</td>\n",
              "      <td>160.000000</td>\n",
              "      <td>21.200000</td>\n",
              "      <td>73.500000</td>\n",
              "      <td>167.000000</td>\n",
              "    </tr>\n",
              "    <tr>\n",
              "      <th>75%</th>\n",
              "      <td>7.729679e+09</td>\n",
              "      <td>71.000000</td>\n",
              "      <td>352.000000</td>\n",
              "      <td>330.000000</td>\n",
              "      <td>46.500000</td>\n",
              "      <td>170.000000</td>\n",
              "      <td>322.000000</td>\n",
              "    </tr>\n",
              "    <tr>\n",
              "      <th>max</th>\n",
              "      <td>9.731001e+09</td>\n",
              "      <td>793.000000</td>\n",
              "      <td>1393.000000</td>\n",
              "      <td>2267.000000</td>\n",
              "      <td>787.000000</td>\n",
              "      <td>1606.000000</td>\n",
              "      <td>998.000000</td>\n",
              "    </tr>\n",
              "  </tbody>\n",
              "</table>\n",
              "</div>"
            ],
            "text/plain": [
              "                inn       staff  ...        AKTIV        SALE\n",
              "count  3.050000e+02  305.000000  ...   305.000000  305.000000\n",
              "mean   6.877253e+09   59.701639  ...   150.471207  273.118033\n",
              "std    1.854065e+09   81.680375  ...   207.536630  224.329599\n",
              "min    8.160287e+08    0.000000  ...     0.458000  101.000000\n",
              "25%    6.670021e+09   14.000000  ...    37.600000  131.000000\n",
              "50%    7.710606e+09   34.000000  ...    73.500000  167.000000\n",
              "75%    7.729679e+09   71.000000  ...   170.000000  322.000000\n",
              "max    9.731001e+09  793.000000  ...  1606.000000  998.000000\n",
              "\n",
              "[8 rows x 7 columns]"
            ]
          },
          "metadata": {
            "tags": []
          },
          "execution_count": 81
        }
      ]
    },
    {
      "cell_type": "code",
      "metadata": {
        "colab": {
          "base_uri": "https://localhost:8080/",
          "height": 542
        },
        "id": "X4sJx6lamqu3",
        "outputId": "7203bbed-4efe-4a53-e6d6-fee74020ef13"
      },
      "source": [
        "fig = go.Figure() # создадим интерактивный график\n",
        "\n",
        "fig.add_trace(go.Scatter(x=data_groups_3.SALE, y= data_groups_3.index, name = 'SALE'))\n",
        "fig.add_trace(go.Scatter(x=data_groups_3.staff, y= data_groups_3.index, name= 'staff'))\n",
        "fig.update_layout(title=\"Выручка и количество персонала компании\",\\\n",
        "                  xaxis_title=\"Выручка, млн.руб. / Персонал, чел.\",\\\n",
        "                  yaxis_title=\"№ компании\")\n",
        "fig.show(renderer=\"colab\")"
      ],
      "execution_count": 111,
      "outputs": [
        {
          "output_type": "display_data",
          "data": {
            "text/html": [
              "<html>\n",
              "<head><meta charset=\"utf-8\" /></head>\n",
              "<body>\n",
              "    <div>\n",
              "            <script src=\"https://cdnjs.cloudflare.com/ajax/libs/mathjax/2.7.5/MathJax.js?config=TeX-AMS-MML_SVG\"></script><script type=\"text/javascript\">if (window.MathJax) {MathJax.Hub.Config({SVG: {font: \"STIX-Web\"}});}</script>\n",
              "                <script type=\"text/javascript\">window.PlotlyConfig = {MathJaxConfig: 'local'};</script>\n",
              "        <script src=\"https://cdn.plot.ly/plotly-latest.min.js\"></script>    \n",
              "            <div id=\"22c645c5-ce0c-47e8-a39a-3365a92dbd3d\" class=\"plotly-graph-div\" style=\"height:525px; width:100%;\"></div>\n",
              "            <script type=\"text/javascript\">\n",
              "                \n",
              "                    window.PLOTLYENV=window.PLOTLYENV || {};\n",
              "                    \n",
              "                if (document.getElementById(\"22c645c5-ce0c-47e8-a39a-3365a92dbd3d\")) {\n",
              "                    Plotly.newPlot(\n",
              "                        '22c645c5-ce0c-47e8-a39a-3365a92dbd3d',\n",
              "                        [{\"name\": \"SALE\", \"type\": \"scatter\", \"x\": [998.0, 959.0, 954.0, 945.0, 938.0, 922.0, 919.0, 917.0, 911.0, 869.0, 866.0, 862.0, 857.0, 853.0, 850.0, 842.0, 833.0, 819.0, 813.0, 810.0, 810.0, 782.0, 774.0, 757.0, 738.0, 696.0, 695.0, 691.0, 678.0, 662.0, 656.0, 655.0, 630.0, 628.0, 606.0, 595.0, 575.0, 564.0, 563.0, 554.0, 547.0, 532.0, 531.0, 524.0, 523.0, 519.0, 519.0, 484.0, 478.0, 474.0, 472.0, 463.0, 462.0, 444.0, 440.0, 433.0, 431.0, 430.0, 414.0, 401.0, 399.0, 399.0, 396.0, 390.0, 382.0, 377.0, 367.0, 364.0, 360.0, 357.0, 352.0, 351.0, 347.0, 341.0, 337.0, 335.0, 322.0, 320.0, 313.0, 312.0, 308.0, 307.0, 293.0, 280.0, 279.0, 278.0, 274.0, 272.0, 267.0, 261.0, 259.0, 258.0, 258.0, 257.0, 257.0, 250.0, 249.0, 247.0, 247.0, 246.0, 245.0, 244.0, 240.0, 235.0, 234.0, 231.0, 228.0, 223.0, 223.0, 219.0, 218.0, 218.0, 218.0, 218.0, 216.0, 213.0, 211.0, 210.0, 208.0, 207.0, 207.0, 206.0, 206.0, 205.0, 202.0, 200.0, 199.0, 198.0, 197.0, 192.0, 192.0, 191.0, 190.0, 189.0, 187.0, 186.0, 184.0, 183.0, 182.0, 181.0, 179.0, 179.0, 179.0, 176.0, 175.0, 174.0, 172.0, 171.0, 170.0, 169.0, 169.0, 167.0, 167.0, 166.0, 162.0, 162.0, 162.0, 161.0, 160.0, 160.0, 159.0, 157.0, 157.0, 157.0, 156.0, 156.0, 156.0, 156.0, 154.0, 154.0, 153.0, 153.0, 151.0, 151.0, 151.0, 151.0, 150.0, 150.0, 149.0, 149.0, 149.0, 148.0, 148.0, 147.0, 146.0, 146.0, 146.0, 145.0, 144.0, 143.0, 143.0, 141.0, 141.0, 141.0, 141.0, 141.0, 140.0, 139.0, 139.0, 138.0, 137.0, 137.0, 137.0, 137.0, 136.0, 136.0, 135.0, 134.0, 134.0, 134.0, 134.0, 134.0, 134.0, 133.0, 133.0, 133.0, 133.0, 133.0, 133.0, 133.0, 133.0, 132.0, 132.0, 132.0, 132.0, 132.0, 131.0, 131.0, 131.0, 130.0, 130.0, 130.0, 130.0, 127.0, 127.0, 127.0, 127.0, 127.0, 126.0, 126.0, 126.0, 126.0, 126.0, 125.0, 125.0, 125.0, 125.0, 124.0, 123.0, 123.0, 121.0, 121.0, 121.0, 121.0, 120.0, 119.0, 118.0, 118.0, 118.0, 118.0, 117.0, 117.0, 117.0, 117.0, 117.0, 116.0, 116.0, 115.0, 115.0, 115.0, 114.0, 114.0, 114.0, 113.0, 112.0, 112.0, 111.0, 110.0, 110.0, 109.0, 109.0, 108.0, 108.0, 108.0, 108.0, 107.0, 106.0, 106.0, 104.0, 104.0, 104.0, 104.0, 104.0, 104.0, 103.0, 103.0, 103.0, 103.0, 103.0, 102.0, 102.0, 101.0, 101.0, 101.0, 101.0], \"y\": [46, 47, 48, 49, 50, 51, 52, 53, 54, 55, 56, 57, 58, 59, 60, 61, 62, 63, 64, 65, 66, 67, 68, 69, 70, 71, 72, 73, 74, 75, 76, 77, 78, 79, 80, 81, 82, 83, 84, 85, 86, 87, 88, 89, 90, 91, 92, 93, 94, 95, 96, 97, 98, 99, 100, 101, 102, 103, 104, 105, 106, 107, 108, 109, 110, 111, 112, 113, 114, 115, 116, 117, 118, 119, 120, 121, 122, 123, 124, 125, 126, 127, 128, 129, 130, 131, 132, 133, 134, 135, 136, 137, 138, 139, 140, 141, 142, 143, 144, 145, 146, 147, 148, 149, 150, 151, 152, 153, 154, 155, 156, 157, 158, 159, 160, 161, 162, 163, 164, 165, 166, 167, 168, 169, 170, 171, 172, 173, 174, 175, 176, 177, 178, 179, 180, 181, 182, 183, 184, 185, 186, 187, 188, 189, 190, 191, 192, 193, 194, 195, 196, 197, 198, 199, 200, 201, 202, 203, 204, 205, 206, 207, 208, 209, 210, 211, 212, 213, 214, 215, 216, 217, 218, 219, 220, 221, 222, 223, 224, 225, 226, 227, 228, 229, 230, 231, 232, 233, 234, 235, 236, 237, 238, 239, 240, 241, 242, 243, 244, 245, 246, 247, 248, 249, 250, 251, 252, 253, 254, 255, 256, 257, 258, 259, 260, 261, 262, 263, 264, 265, 266, 267, 268, 269, 270, 271, 272, 273, 274, 275, 276, 277, 278, 279, 280, 281, 282, 283, 284, 285, 286, 287, 288, 289, 290, 291, 292, 293, 294, 295, 296, 297, 298, 299, 300, 301, 302, 303, 304, 305, 306, 307, 308, 309, 310, 311, 312, 313, 314, 315, 316, 317, 318, 319, 320, 321, 322, 323, 324, 325, 326, 327, 328, 329, 330, 331, 332, 333, 334, 335, 336, 337, 338, 339, 340, 341, 342, 343, 344, 345, 346, 347, 348, 349, 350]}, {\"name\": \"staff\", \"type\": \"scatter\", \"x\": [145, 51, 143, 59, 108, 41, 47, 245, 166, 48, 56, 187, 231, 256, 212, 34, 25, 257, 24, 46, 793, 223, 245, 13, 78, 139, 6, 99, 353, 7, 18, 15, 30, 176, 252, 257, 4, 17, 5, 94, 125, 29, 59, 116, 14, 35, 316, 37, 518, 0, 240, 34, 95, 318, 49, 75, 39, 16, 71, 15, 6, 2, 0, 103, 177, 5, 229, 161, 282, 106, 17, 52, 17, 309, 95, 93, 126, 28, 71, 250, 64, 1, 8, 21, 1, 4, 83, 88, 30, 4, 32, 29, 46, 0, 101, 21, 6, 15, 0, 131, 92, 14, 160, 7, 84, 67, 32, 11, 102, 25, 2, 19, 138, 28, 35, 54, 31, 66, 52, 8, 16, 134, 20, 10, 97, 118, 2, 61, 223, 125, 108, 12, 3, 1, 45, 122, 30, 65, 37, 16, 30, 17, 14, 47, 20, 19, 26, 78, 22, 62, 15, 15, 10, 12, 26, 26, 27, 68, 114, 15, 69, 0, 56, 77, 13, 137, 41, 24, 25, 28, 9, 47, 87, 8, 21, 18, 18, 50, 21, 9, 7, 5, 14, 76, 63, 53, 56, 12, 51, 9, 24, 52, 0, 0, 55, 11, 2, 41, 39, 60, 30, 2, 79, 45, 36, 37, 79, 59, 65, 27, 91, 46, 1, 2, 37, 4, 8, 50, 28, 18, 43, 61, 81, 41, 8, 59, 3, 20, 21, 6, 47, 78, 18, 32, 82, 53, 2, 6, 70, 55, 20, 7, 8, 10, 70, 51, 77, 30, 27, 38, 2, 30, 13, 6, 1, 48, 14, 78, 25, 11, 43, 2, 49, 23, 28, 81, 29, 4, 9, 2, 58, 24, 20, 7, 23, 1, 17, 9, 44, 4, 114, 144, 46, 7, 23, 75, 63, 16, 57, 16, 2, 47, 12, 45, 34, 89, 45, 60, 26, 7, 42, 40, 3, 21, 59], \"y\": [46, 47, 48, 49, 50, 51, 52, 53, 54, 55, 56, 57, 58, 59, 60, 61, 62, 63, 64, 65, 66, 67, 68, 69, 70, 71, 72, 73, 74, 75, 76, 77, 78, 79, 80, 81, 82, 83, 84, 85, 86, 87, 88, 89, 90, 91, 92, 93, 94, 95, 96, 97, 98, 99, 100, 101, 102, 103, 104, 105, 106, 107, 108, 109, 110, 111, 112, 113, 114, 115, 116, 117, 118, 119, 120, 121, 122, 123, 124, 125, 126, 127, 128, 129, 130, 131, 132, 133, 134, 135, 136, 137, 138, 139, 140, 141, 142, 143, 144, 145, 146, 147, 148, 149, 150, 151, 152, 153, 154, 155, 156, 157, 158, 159, 160, 161, 162, 163, 164, 165, 166, 167, 168, 169, 170, 171, 172, 173, 174, 175, 176, 177, 178, 179, 180, 181, 182, 183, 184, 185, 186, 187, 188, 189, 190, 191, 192, 193, 194, 195, 196, 197, 198, 199, 200, 201, 202, 203, 204, 205, 206, 207, 208, 209, 210, 211, 212, 213, 214, 215, 216, 217, 218, 219, 220, 221, 222, 223, 224, 225, 226, 227, 228, 229, 230, 231, 232, 233, 234, 235, 236, 237, 238, 239, 240, 241, 242, 243, 244, 245, 246, 247, 248, 249, 250, 251, 252, 253, 254, 255, 256, 257, 258, 259, 260, 261, 262, 263, 264, 265, 266, 267, 268, 269, 270, 271, 272, 273, 274, 275, 276, 277, 278, 279, 280, 281, 282, 283, 284, 285, 286, 287, 288, 289, 290, 291, 292, 293, 294, 295, 296, 297, 298, 299, 300, 301, 302, 303, 304, 305, 306, 307, 308, 309, 310, 311, 312, 313, 314, 315, 316, 317, 318, 319, 320, 321, 322, 323, 324, 325, 326, 327, 328, 329, 330, 331, 332, 333, 334, 335, 336, 337, 338, 339, 340, 341, 342, 343, 344, 345, 346, 347, 348, 349, 350]}],\n",
              "                        {\"template\": {\"data\": {\"bar\": [{\"error_x\": {\"color\": \"#2a3f5f\"}, \"error_y\": {\"color\": \"#2a3f5f\"}, \"marker\": {\"line\": {\"color\": \"#E5ECF6\", \"width\": 0.5}}, \"type\": \"bar\"}], \"barpolar\": [{\"marker\": {\"line\": {\"color\": \"#E5ECF6\", \"width\": 0.5}}, \"type\": \"barpolar\"}], \"carpet\": [{\"aaxis\": {\"endlinecolor\": \"#2a3f5f\", \"gridcolor\": \"white\", \"linecolor\": \"white\", \"minorgridcolor\": \"white\", \"startlinecolor\": \"#2a3f5f\"}, \"baxis\": {\"endlinecolor\": \"#2a3f5f\", \"gridcolor\": \"white\", \"linecolor\": \"white\", \"minorgridcolor\": \"white\", \"startlinecolor\": \"#2a3f5f\"}, \"type\": \"carpet\"}], \"choropleth\": [{\"colorbar\": {\"outlinewidth\": 0, \"ticks\": \"\"}, \"type\": \"choropleth\"}], \"contour\": [{\"colorbar\": {\"outlinewidth\": 0, \"ticks\": \"\"}, \"colorscale\": [[0.0, \"#0d0887\"], [0.1111111111111111, \"#46039f\"], [0.2222222222222222, \"#7201a8\"], [0.3333333333333333, \"#9c179e\"], [0.4444444444444444, \"#bd3786\"], [0.5555555555555556, \"#d8576b\"], [0.6666666666666666, \"#ed7953\"], [0.7777777777777778, \"#fb9f3a\"], [0.8888888888888888, \"#fdca26\"], [1.0, \"#f0f921\"]], \"type\": \"contour\"}], \"contourcarpet\": [{\"colorbar\": {\"outlinewidth\": 0, \"ticks\": \"\"}, \"type\": \"contourcarpet\"}], \"heatmap\": [{\"colorbar\": {\"outlinewidth\": 0, \"ticks\": \"\"}, \"colorscale\": [[0.0, \"#0d0887\"], [0.1111111111111111, \"#46039f\"], [0.2222222222222222, \"#7201a8\"], [0.3333333333333333, \"#9c179e\"], [0.4444444444444444, \"#bd3786\"], [0.5555555555555556, \"#d8576b\"], [0.6666666666666666, \"#ed7953\"], [0.7777777777777778, \"#fb9f3a\"], [0.8888888888888888, \"#fdca26\"], [1.0, \"#f0f921\"]], \"type\": \"heatmap\"}], \"heatmapgl\": [{\"colorbar\": {\"outlinewidth\": 0, \"ticks\": \"\"}, \"colorscale\": [[0.0, \"#0d0887\"], [0.1111111111111111, \"#46039f\"], [0.2222222222222222, \"#7201a8\"], [0.3333333333333333, \"#9c179e\"], [0.4444444444444444, \"#bd3786\"], [0.5555555555555556, \"#d8576b\"], [0.6666666666666666, \"#ed7953\"], [0.7777777777777778, \"#fb9f3a\"], [0.8888888888888888, \"#fdca26\"], [1.0, \"#f0f921\"]], \"type\": \"heatmapgl\"}], \"histogram\": [{\"marker\": {\"colorbar\": {\"outlinewidth\": 0, \"ticks\": \"\"}}, \"type\": \"histogram\"}], \"histogram2d\": [{\"colorbar\": {\"outlinewidth\": 0, \"ticks\": \"\"}, \"colorscale\": [[0.0, \"#0d0887\"], [0.1111111111111111, \"#46039f\"], [0.2222222222222222, \"#7201a8\"], [0.3333333333333333, \"#9c179e\"], [0.4444444444444444, \"#bd3786\"], [0.5555555555555556, \"#d8576b\"], [0.6666666666666666, \"#ed7953\"], [0.7777777777777778, \"#fb9f3a\"], [0.8888888888888888, \"#fdca26\"], [1.0, \"#f0f921\"]], \"type\": \"histogram2d\"}], \"histogram2dcontour\": [{\"colorbar\": {\"outlinewidth\": 0, \"ticks\": \"\"}, \"colorscale\": [[0.0, \"#0d0887\"], [0.1111111111111111, \"#46039f\"], [0.2222222222222222, \"#7201a8\"], [0.3333333333333333, \"#9c179e\"], [0.4444444444444444, \"#bd3786\"], [0.5555555555555556, \"#d8576b\"], [0.6666666666666666, \"#ed7953\"], [0.7777777777777778, \"#fb9f3a\"], [0.8888888888888888, \"#fdca26\"], [1.0, \"#f0f921\"]], \"type\": \"histogram2dcontour\"}], \"mesh3d\": [{\"colorbar\": {\"outlinewidth\": 0, \"ticks\": \"\"}, \"type\": \"mesh3d\"}], \"parcoords\": [{\"line\": {\"colorbar\": {\"outlinewidth\": 0, \"ticks\": \"\"}}, \"type\": \"parcoords\"}], \"pie\": [{\"automargin\": true, \"type\": \"pie\"}], \"scatter\": [{\"marker\": {\"colorbar\": {\"outlinewidth\": 0, \"ticks\": \"\"}}, \"type\": \"scatter\"}], \"scatter3d\": [{\"line\": {\"colorbar\": {\"outlinewidth\": 0, \"ticks\": \"\"}}, \"marker\": {\"colorbar\": {\"outlinewidth\": 0, \"ticks\": \"\"}}, \"type\": \"scatter3d\"}], \"scattercarpet\": [{\"marker\": {\"colorbar\": {\"outlinewidth\": 0, \"ticks\": \"\"}}, \"type\": \"scattercarpet\"}], \"scattergeo\": [{\"marker\": {\"colorbar\": {\"outlinewidth\": 0, \"ticks\": \"\"}}, \"type\": \"scattergeo\"}], \"scattergl\": [{\"marker\": {\"colorbar\": {\"outlinewidth\": 0, \"ticks\": \"\"}}, \"type\": \"scattergl\"}], \"scattermapbox\": [{\"marker\": {\"colorbar\": {\"outlinewidth\": 0, \"ticks\": \"\"}}, \"type\": \"scattermapbox\"}], \"scatterpolar\": [{\"marker\": {\"colorbar\": {\"outlinewidth\": 0, \"ticks\": \"\"}}, \"type\": \"scatterpolar\"}], \"scatterpolargl\": [{\"marker\": {\"colorbar\": {\"outlinewidth\": 0, \"ticks\": \"\"}}, \"type\": \"scatterpolargl\"}], \"scatterternary\": [{\"marker\": {\"colorbar\": {\"outlinewidth\": 0, \"ticks\": \"\"}}, \"type\": \"scatterternary\"}], \"surface\": [{\"colorbar\": {\"outlinewidth\": 0, \"ticks\": \"\"}, \"colorscale\": [[0.0, \"#0d0887\"], [0.1111111111111111, \"#46039f\"], [0.2222222222222222, \"#7201a8\"], [0.3333333333333333, \"#9c179e\"], [0.4444444444444444, \"#bd3786\"], [0.5555555555555556, \"#d8576b\"], [0.6666666666666666, \"#ed7953\"], [0.7777777777777778, \"#fb9f3a\"], [0.8888888888888888, \"#fdca26\"], [1.0, \"#f0f921\"]], \"type\": \"surface\"}], \"table\": [{\"cells\": {\"fill\": {\"color\": \"#EBF0F8\"}, \"line\": {\"color\": \"white\"}}, \"header\": {\"fill\": {\"color\": \"#C8D4E3\"}, \"line\": {\"color\": \"white\"}}, \"type\": \"table\"}]}, \"layout\": {\"annotationdefaults\": {\"arrowcolor\": \"#2a3f5f\", \"arrowhead\": 0, \"arrowwidth\": 1}, \"coloraxis\": {\"colorbar\": {\"outlinewidth\": 0, \"ticks\": \"\"}}, \"colorscale\": {\"diverging\": [[0, \"#8e0152\"], [0.1, \"#c51b7d\"], [0.2, \"#de77ae\"], [0.3, \"#f1b6da\"], [0.4, \"#fde0ef\"], [0.5, \"#f7f7f7\"], [0.6, \"#e6f5d0\"], [0.7, \"#b8e186\"], [0.8, \"#7fbc41\"], [0.9, \"#4d9221\"], [1, \"#276419\"]], \"sequential\": [[0.0, \"#0d0887\"], [0.1111111111111111, \"#46039f\"], [0.2222222222222222, \"#7201a8\"], [0.3333333333333333, \"#9c179e\"], [0.4444444444444444, \"#bd3786\"], [0.5555555555555556, \"#d8576b\"], [0.6666666666666666, \"#ed7953\"], [0.7777777777777778, \"#fb9f3a\"], [0.8888888888888888, \"#fdca26\"], [1.0, \"#f0f921\"]], \"sequentialminus\": [[0.0, \"#0d0887\"], [0.1111111111111111, \"#46039f\"], [0.2222222222222222, \"#7201a8\"], [0.3333333333333333, \"#9c179e\"], [0.4444444444444444, \"#bd3786\"], [0.5555555555555556, \"#d8576b\"], [0.6666666666666666, \"#ed7953\"], [0.7777777777777778, \"#fb9f3a\"], [0.8888888888888888, \"#fdca26\"], [1.0, \"#f0f921\"]]}, \"colorway\": [\"#636efa\", \"#EF553B\", \"#00cc96\", \"#ab63fa\", \"#FFA15A\", \"#19d3f3\", \"#FF6692\", \"#B6E880\", \"#FF97FF\", \"#FECB52\"], \"font\": {\"color\": \"#2a3f5f\"}, \"geo\": {\"bgcolor\": \"white\", \"lakecolor\": \"white\", \"landcolor\": \"#E5ECF6\", \"showlakes\": true, \"showland\": true, \"subunitcolor\": \"white\"}, \"hoverlabel\": {\"align\": \"left\"}, \"hovermode\": \"closest\", \"mapbox\": {\"style\": \"light\"}, \"paper_bgcolor\": \"white\", \"plot_bgcolor\": \"#E5ECF6\", \"polar\": {\"angularaxis\": {\"gridcolor\": \"white\", \"linecolor\": \"white\", \"ticks\": \"\"}, \"bgcolor\": \"#E5ECF6\", \"radialaxis\": {\"gridcolor\": \"white\", \"linecolor\": \"white\", \"ticks\": \"\"}}, \"scene\": {\"xaxis\": {\"backgroundcolor\": \"#E5ECF6\", \"gridcolor\": \"white\", \"gridwidth\": 2, \"linecolor\": \"white\", \"showbackground\": true, \"ticks\": \"\", \"zerolinecolor\": \"white\"}, \"yaxis\": {\"backgroundcolor\": \"#E5ECF6\", \"gridcolor\": \"white\", \"gridwidth\": 2, \"linecolor\": \"white\", \"showbackground\": true, \"ticks\": \"\", \"zerolinecolor\": \"white\"}, \"zaxis\": {\"backgroundcolor\": \"#E5ECF6\", \"gridcolor\": \"white\", \"gridwidth\": 2, \"linecolor\": \"white\", \"showbackground\": true, \"ticks\": \"\", \"zerolinecolor\": \"white\"}}, \"shapedefaults\": {\"line\": {\"color\": \"#2a3f5f\"}}, \"ternary\": {\"aaxis\": {\"gridcolor\": \"white\", \"linecolor\": \"white\", \"ticks\": \"\"}, \"baxis\": {\"gridcolor\": \"white\", \"linecolor\": \"white\", \"ticks\": \"\"}, \"bgcolor\": \"#E5ECF6\", \"caxis\": {\"gridcolor\": \"white\", \"linecolor\": \"white\", \"ticks\": \"\"}}, \"title\": {\"x\": 0.05}, \"xaxis\": {\"automargin\": true, \"gridcolor\": \"white\", \"linecolor\": \"white\", \"ticks\": \"\", \"title\": {\"standoff\": 15}, \"zerolinecolor\": \"white\", \"zerolinewidth\": 2}, \"yaxis\": {\"automargin\": true, \"gridcolor\": \"white\", \"linecolor\": \"white\", \"ticks\": \"\", \"title\": {\"standoff\": 15}, \"zerolinecolor\": \"white\", \"zerolinewidth\": 2}}}, \"title\": {\"text\": \"\\u0412\\u044b\\u0440\\u0443\\u0447\\u043a\\u0430 \\u0438 \\u043a\\u043e\\u043b\\u0438\\u0447\\u0435\\u0441\\u0442\\u0432\\u043e \\u043f\\u0435\\u0440\\u0441\\u043e\\u043d\\u0430\\u043b\\u0430 \\u043a\\u043e\\u043c\\u043f\\u0430\\u043d\\u0438\\u0438\"}, \"xaxis\": {\"title\": {\"text\": \"\\u0412\\u044b\\u0440\\u0443\\u0447\\u043a\\u0430, \\u043c\\u043b\\u043d.\\u0440\\u0443\\u0431. / \\u041f\\u0435\\u0440\\u0441\\u043e\\u043d\\u0430\\u043b, \\u0447\\u0435\\u043b.\"}}, \"yaxis\": {\"title\": {\"text\": \"\\u2116 \\u043a\\u043e\\u043c\\u043f\\u0430\\u043d\\u0438\\u0438\"}}},\n",
              "                        {\"responsive\": true}\n",
              "                    ).then(function(){\n",
              "                            \n",
              "var gd = document.getElementById('22c645c5-ce0c-47e8-a39a-3365a92dbd3d');\n",
              "var x = new MutationObserver(function (mutations, observer) {{\n",
              "        var display = window.getComputedStyle(gd).display;\n",
              "        if (!display || display === 'none') {{\n",
              "            console.log([gd, 'removed!']);\n",
              "            Plotly.purge(gd);\n",
              "            observer.disconnect();\n",
              "        }}\n",
              "}});\n",
              "\n",
              "// Listen for the removal of the full notebook cells\n",
              "var notebookContainer = gd.closest('#notebook-container');\n",
              "if (notebookContainer) {{\n",
              "    x.observe(notebookContainer, {childList: true});\n",
              "}}\n",
              "\n",
              "// Listen for the clearing of the current output cell\n",
              "var outputEl = gd.closest('.output');\n",
              "if (outputEl) {{\n",
              "    x.observe(outputEl, {childList: true});\n",
              "}}\n",
              "\n",
              "                        })\n",
              "                };\n",
              "                \n",
              "            </script>\n",
              "        </div>\n",
              "</body>\n",
              "</html>"
            ]
          },
          "metadata": {
            "tags": []
          }
        }
      ]
    },
    {
      "cell_type": "markdown",
      "metadata": {
        "id": "Hh-4IqUSVib0"
      },
      "source": [
        "### - группа компаний с выручкой от 1 до  100 млн."
      ]
    },
    {
      "cell_type": "code",
      "metadata": {
        "id": "773FlJdaVeC1",
        "colab": {
          "base_uri": "https://localhost:8080/"
        },
        "outputId": "99716f13-2adf-4c89-bab5-05d0085459da"
      },
      "source": [
        "data_groups_4 = data_1.query(\"groups == '1_100'\")\n",
        "print('Количество компаний с выручкой от 1 до  100 млн.руб. - ', data_groups_4.shape[0])"
      ],
      "execution_count": 34,
      "outputs": [
        {
          "output_type": "stream",
          "text": [
            "Количество компаний с выручкой от 1 до  100 млн.руб. -  1490\n"
          ],
          "name": "stdout"
        }
      ]
    },
    {
      "cell_type": "code",
      "metadata": {
        "id": "jkQk-cW1Vd_T",
        "colab": {
          "base_uri": "https://localhost:8080/",
          "height": 282
        },
        "outputId": "6d680784-ea1a-46ce-cb5c-ce0826e24237"
      },
      "source": [
        "data_groups_4.SALE.hist(bins=20) # распределение выручки в этой группе"
      ],
      "execution_count": 82,
      "outputs": [
        {
          "output_type": "execute_result",
          "data": {
            "text/plain": [
              "<matplotlib.axes._subplots.AxesSubplot at 0x7f07abdb7a20>"
            ]
          },
          "metadata": {
            "tags": []
          },
          "execution_count": 82
        },
        {
          "output_type": "display_data",
          "data": {
            "image/png": "[encoded data removed]",
            "text/plain": [
              "<Figure size 432x288 with 1 Axes>"
            ]
          },
          "metadata": {
            "tags": [],
            "needs_background": "light"
          }
        }
      ]
    },
    {
      "cell_type": "code",
      "metadata": {
        "id": "eeMXP5dkVd8W",
        "colab": {
          "base_uri": "https://localhost:8080/",
          "height": 284
        },
        "outputId": "a6660c64-8503-4a82-d2d7-d64e8840e8ee"
      },
      "source": [
        "# среднее, минимальное и максимальное значение в группе\n",
        "data_groups_4.describe()"
      ],
      "execution_count": 83,
      "outputs": [
        {
          "output_type": "execute_result",
          "data": {
            "text/html": [
              "<div>\n",
              "<style scoped>\n",
              "    .dataframe tbody tr th:only-of-type {\n",
              "        vertical-align: middle;\n",
              "    }\n",
              "\n",
              "    .dataframe tbody tr th {\n",
              "        vertical-align: top;\n",
              "    }\n",
              "\n",
              "    .dataframe thead th {\n",
              "        text-align: right;\n",
              "    }\n",
              "</style>\n",
              "<table border=\"1\" class=\"dataframe\">\n",
              "  <thead>\n",
              "    <tr style=\"text-align: right;\">\n",
              "      <th></th>\n",
              "      <th>inn</th>\n",
              "      <th>staff</th>\n",
              "      <th>income</th>\n",
              "      <th>expenses</th>\n",
              "      <th>nalog</th>\n",
              "      <th>AKTIV</th>\n",
              "      <th>SALE</th>\n",
              "    </tr>\n",
              "  </thead>\n",
              "  <tbody>\n",
              "    <tr>\n",
              "      <th>count</th>\n",
              "      <td>1.490000e+03</td>\n",
              "      <td>1490.000000</td>\n",
              "      <td>1490.000000</td>\n",
              "      <td>1490.000000</td>\n",
              "      <td>1490.000000</td>\n",
              "      <td>1490.000000</td>\n",
              "      <td>1490.000000</td>\n",
              "    </tr>\n",
              "    <tr>\n",
              "      <th>mean</th>\n",
              "      <td>6.155837e+09</td>\n",
              "      <td>14.780537</td>\n",
              "      <td>33.075819</td>\n",
              "      <td>30.481020</td>\n",
              "      <td>172.673248</td>\n",
              "      <td>21.079799</td>\n",
              "      <td>32.099443</td>\n",
              "    </tr>\n",
              "    <tr>\n",
              "      <th>std</th>\n",
              "      <td>2.200691e+09</td>\n",
              "      <td>16.242480</td>\n",
              "      <td>25.597765</td>\n",
              "      <td>30.603334</td>\n",
              "      <td>289.631134</td>\n",
              "      <td>49.418822</td>\n",
              "      <td>22.649462</td>\n",
              "    </tr>\n",
              "    <tr>\n",
              "      <th>min</th>\n",
              "      <td>2.450215e+08</td>\n",
              "      <td>0.000000</td>\n",
              "      <td>0.000000</td>\n",
              "      <td>0.000000</td>\n",
              "      <td>0.000000</td>\n",
              "      <td>0.000000</td>\n",
              "      <td>8.340000</td>\n",
              "    </tr>\n",
              "    <tr>\n",
              "      <th>25%</th>\n",
              "      <td>5.018148e+09</td>\n",
              "      <td>4.000000</td>\n",
              "      <td>13.625000</td>\n",
              "      <td>12.000000</td>\n",
              "      <td>2.100000</td>\n",
              "      <td>4.230000</td>\n",
              "      <td>13.825000</td>\n",
              "    </tr>\n",
              "    <tr>\n",
              "      <th>50%</th>\n",
              "      <td>7.325072e+09</td>\n",
              "      <td>9.000000</td>\n",
              "      <td>24.000000</td>\n",
              "      <td>21.450000</td>\n",
              "      <td>4.870000</td>\n",
              "      <td>9.700000</td>\n",
              "      <td>23.650000</td>\n",
              "    </tr>\n",
              "    <tr>\n",
              "      <th>75%</th>\n",
              "      <td>7.725553e+09</td>\n",
              "      <td>19.750000</td>\n",
              "      <td>46.650000</td>\n",
              "      <td>41.675000</td>\n",
              "      <td>276.000000</td>\n",
              "      <td>21.950000</td>\n",
              "      <td>45.425000</td>\n",
              "    </tr>\n",
              "    <tr>\n",
              "      <th>max</th>\n",
              "      <td>9.731028e+09</td>\n",
              "      <td>103.000000</td>\n",
              "      <td>281.000000</td>\n",
              "      <td>572.000000</td>\n",
              "      <td>998.000000</td>\n",
              "      <td>1273.000000</td>\n",
              "      <td>98.800000</td>\n",
              "    </tr>\n",
              "  </tbody>\n",
              "</table>\n",
              "</div>"
            ],
            "text/plain": [
              "                inn        staff  ...        AKTIV         SALE\n",
              "count  1.490000e+03  1490.000000  ...  1490.000000  1490.000000\n",
              "mean   6.155837e+09    14.780537  ...    21.079799    32.099443\n",
              "std    2.200691e+09    16.242480  ...    49.418822    22.649462\n",
              "min    2.450215e+08     0.000000  ...     0.000000     8.340000\n",
              "25%    5.018148e+09     4.000000  ...     4.230000    13.825000\n",
              "50%    7.325072e+09     9.000000  ...     9.700000    23.650000\n",
              "75%    7.725553e+09    19.750000  ...    21.950000    45.425000\n",
              "max    9.731028e+09   103.000000  ...  1273.000000    98.800000\n",
              "\n",
              "[8 rows x 7 columns]"
            ]
          },
          "metadata": {
            "tags": []
          },
          "execution_count": 83
        }
      ]
    },
    {
      "cell_type": "code",
      "metadata": {
        "id": "Qk89pTxsM1Ke",
        "colab": {
          "base_uri": "https://localhost:8080/",
          "height": 530
        },
        "outputId": "3732bf40-a78d-45b8-daa2-c81a83b2a9b5"
      },
      "source": [
        "# выручка и персонал\n",
        "data_pers = data_1.loc[:,['SALE', 'staff']]\n",
        "data_pers[40:].plot() # интересно почему кол-во человек нигде почти не превышает линию обьема выручки / \n",
        "data_pers[685:700].plot() # на отрезке - значения выручки и кол-ва персонала"
      ],
      "execution_count": 36,
      "outputs": [
        {
          "output_type": "execute_result",
          "data": {
            "text/plain": [
              "<matplotlib.axes._subplots.AxesSubplot at 0x7f07b6e2d278>"
            ]
          },
          "metadata": {
            "tags": []
          },
          "execution_count": 36
        },
        {
          "output_type": "display_data",
          "data": {
            "image/png": "[encoded data removed]",
            "text/plain": [
              "<Figure size 432x288 with 1 Axes>"
            ]
          },
          "metadata": {
            "tags": [],
            "needs_background": "light"
          }
        },
        {
          "output_type": "display_data",
          "data": {
            "image/png": "[encoded data removed]",
            "text/plain": [
              "<Figure size 432x288 with 1 Axes>"
            ]
          },
          "metadata": {
            "tags": [],
            "needs_background": "light"
          }
        }
      ]
    },
    {
      "cell_type": "code",
      "metadata": {
        "id": "VC0lTTfMM1IO"
      },
      "source": [
        ""
      ],
      "execution_count": 36,
      "outputs": []
    },
    {
      "cell_type": "code",
      "metadata": {
        "id": "cHyJJVHnM1Fy"
      },
      "source": [
        "# анализ продолжится дальше"
      ],
      "execution_count": 37,
      "outputs": []
    },
    {
      "cell_type": "code",
      "metadata": {
        "id": "necJjIaZM1Cv"
      },
      "source": [
        ""
      ],
      "execution_count": 37,
      "outputs": []
    }
  ]
}