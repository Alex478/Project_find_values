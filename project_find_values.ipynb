{
  "nbformat": 4,
  "nbformat_minor": 0,
  "metadata": {
    "colab": {
      "name": "project_find_values.ipynb",
      "provenance": [],
      "collapsed_sections": [
        "XvboWt9hEZ1n",
        "tq7XP4797Usu",
        "rxDrlR817gUq"
      ]
    },
    "kernelspec": {
      "name": "python3",
      "display_name": "Python 3"
    }
  },
  "cells": [
    {
      "cell_type": "markdown",
      "metadata": {
        "id": "A90Ud1gl5QU1"
      },
      "source": [
        "Цель  - анализ финансовых показателей компаний среди разработчиков информационных технологий. \n",
        "- собираем информацию по компаниям с ресурса - https://www.testfirm.ru\n",
        "- проводим анализ по этой информации"
      ]
    },
    {
      "cell_type": "code",
      "metadata": {
        "id": "cTlGKi8xEnk6"
      },
      "source": [
        "import requests\n",
        "import pandas as pd\n",
        "import seaborn as sns\n",
        "import numpy as np\n",
        "import re\n",
        "import time\n",
        "from google.colab import files # импорт/экспорт файлов\n",
        "import matplotlib.pyplot as plt\n"
      ],
      "execution_count": 1,
      "outputs": []
    },
    {
      "cell_type": "markdown",
      "metadata": {
        "id": "BfIUm3ND0-Zs"
      },
      "source": [
        "# Создание списка компаний"
      ]
    },
    {
      "cell_type": "code",
      "metadata": {
        "id": "hQzrDjgGk1xf"
      },
      "source": [
        "url1 = 'https://www.testfirm.ru/' # сайт\n",
        "url2 = 'https://www.testfirm.ru/rating/63_11_1/' # стр. с рейтингом выручки/ или начало адреса стр. с рейтингом выручки\n",
        "url3 = 'https://www.testfirm.ru/rating-assets/63_11_1/' # стр. с рейтингом активов\n",
        "url4 = 'https://www.testfirm.ru/result/' # начало адреса стр с инф. о  компании"
      ],
      "execution_count": 2,
      "outputs": []
    },
    {
      "cell_type": "markdown",
      "metadata": {
        "id": "XvboWt9hEZ1n"
      },
      "source": [
        "## 1 вариант - Сбор информации со списка из первых 50 фирм - с первой страницы фильтра. Минус варианта в том, что в список попадет только 50 компаний. Хотя в рейтинге намного больше фирм. "
      ]
    },
    {
      "cell_type": "code",
      "metadata": {
        "id": "XnUOD1py1HDx",
        "outputId": "121c7913-5383-46c2-e2f4-b4d253b28cfd",
        "colab": {
          "base_uri": "https://localhost:8080/"
        }
      },
      "source": [
        "url_list = 'https://www.testfirm.ru/rating' # рейтинг по всем предприятиям \n",
        "k_1 = 63   #код деятельности\n",
        "k_2 = \"sverdlovskaya-oblast\"  #область\n",
        "url_list_copm = url_list + '/' + str(k_1) + '/' + k_2 + '/'\n",
        "text = requests.get(url_list_copm) # \n",
        "try:\n",
        "  text.status_code == 200\n",
        "  print('Список загружен нормально')\n",
        "except:\n",
        "  print('ОШИБКА! Проверяй!')"
      ],
      "execution_count": null,
      "outputs": [
        {
          "output_type": "stream",
          "text": [
            "Список загружен нормально\n"
          ],
          "name": "stdout"
        }
      ]
    },
    {
      "cell_type": "code",
      "metadata": {
        "id": "RNJ_QyVL9anl"
      },
      "source": [
        "# поиск названия компании\n",
        "text_write = text.text\n",
        "\n",
        "def find_komp(text_write, N):\n",
        "    \"\"\"ф. для поиска ИНН и названия по каждой компании - для формирования url-ссылки на информацию по этой компании\n",
        "    \"\"\"\n",
        "    firma_list = text_write.split('org-link\" href=\"/result/')\n",
        "    return firma_list[N].split('\"')[0]\n",
        "\n",
        "def find_komp_re(text_write, N):\n",
        "  \"\"\"  ф. для поиска ИНН и названия по каждой компании - с помощью регулярных выражений\n",
        "  \"\"\"\n",
        "  pass    "
      ],
      "execution_count": null,
      "outputs": []
    },
    {
      "cell_type": "markdown",
      "metadata": {
        "id": "y7237t6fEpQC"
      },
      "source": [
        "## 2 вариант - Сбор информации со списка из всех фирм фильтра. Попытка собрать данные со всех компаний рейтинга - без ограничений"
      ]
    },
    {
      "cell_type": "markdown",
      "metadata": {
        "id": "xCmFtZ94TdvE"
      },
      "source": [
        "### - загрузим страницу с рейтингом компаний"
      ]
    },
    {
      "cell_type": "code",
      "metadata": {
        "id": "dGTS0FzF4XEp",
        "outputId": "578bc7be-5ecb-403e-a94f-9e0639a56b88",
        "colab": {
          "base_uri": "https://localhost:8080/"
        }
      },
      "source": [
        "# Рейтинг организаций по выручке - Вид деятельности: 63 \"Деятельность в области информационных технологий\"\n",
        "url_list_all = url1 + 'rating/63/' # адрес страницы с рейтингом\n",
        "text_list_all = requests.get(url_list_all) # \n",
        "try:\n",
        "  text_list_all.status_code == 200\n",
        "  print('Список загружен нормально')\n",
        "except:\n",
        "  print('ОШИБКА! Проверяй!')"
      ],
      "execution_count": 3,
      "outputs": [
        {
          "output_type": "stream",
          "text": [
            "Список загружен нормально\n"
          ],
          "name": "stdout"
        }
      ]
    },
    {
      "cell_type": "markdown",
      "metadata": {
        "id": "uYBMeVnX7GoP"
      },
      "source": [
        "### - функции необходимые для кода"
      ]
    },
    {
      "cell_type": "code",
      "metadata": {
        "id": "lornttG3lMUW"
      },
      "source": [
        "def find_name(url):\n",
        "    \"\"\" ф. находит инфу для url страницы с информацией по компании - состоит из ИНН и названия Компании\n",
        "    -  inn_firma \n",
        "    \"\"\"\n",
        "    text = requests.get(url)\n",
        "    text_find = text.text \n",
        "    text_find = text_find.split('class=\"org-link\"')[1].split('result/')[1].split('\">')[0]\n",
        "    return text_find\n",
        "\n",
        "def find_name_next(url, koef = 1):\n",
        "    \"\"\" ф. находит инфу для url страницы с информацией по следующей компании\n",
        "    \"\"\"\n",
        "    text = requests.get(url)\n",
        "    text_find = text.text \n",
        "    text_find = text_find.split('class=\"org-link\"')[koef].split('result/')[1].split('\">')[0]\n",
        "    return text_find  "
      ],
      "execution_count": 4,
      "outputs": []
    },
    {
      "cell_type": "code",
      "metadata": {
        "id": "uAqjWmzPE3y7"
      },
      "source": [
        "#url_one = 'https://www.testfirm.ru/result/' + name #   https://www.testfirm.ru/result/7708119944_ooo-sibirskaya-internet-kompaniya\n",
        "def find_info_comp(url_one):\n",
        "    \"\"\" ф.собирает информацию по каждой компании и сохраняет данные в строку\n",
        "    \"\"\"\n",
        "    stroka = [] # собираем информацию сюда\n",
        "    text_one = requests.get(url_one)\n",
        "    text_write = text_one.text\n",
        "    a1 = text_write.split('Организация: ')[1]\n",
        "    if text_write.split('id=\"searchText\" name=\"s\" value=')[1].split('placeholder')[0]: # название\n",
        "        stroka.append(text_write.split('id=\"searchText\" name=\"s\" value=')[1].split('placeholder')[0])\n",
        "    else:\n",
        "        stroka.append(0)\n",
        "    stroka.append(a1.split('ИНН: ')[1][:10]) # ИНН\n",
        "    stroka.append(float(a1.split('<b>')[2].split('<')[0].rstrip())) # активы\n",
        "    mln = a1.split('Активы на ')[1].split('/b>')[1][:5].rstrip() # млн или тыс\n",
        "    if mln in 'млн.':\n",
        "        stroka.append(1)\n",
        "    elif mln in 'тыс.':\n",
        "        stroka.append(0.001)\n",
        "    stroka.append(float(a1.split('Выручка')[1].split('b>')[1].split('<')[0].rstrip())) # выручка\n",
        "    mln = a1.split('Выручка')[1].split('b>')[2].split('руб')[0].rstrip() # млн ии тыс\n",
        "    if mln in 'млн.':\n",
        "        stroka.append(1)\n",
        "    elif mln in 'тыс.':\n",
        "        stroka.append(0.001)\n",
        "    if 'численности ' in text_write:\n",
        "        stroka.append(int(a1.split('численности ')[1].split('b>')[1].split('<')[0])) # численность человек\n",
        "    else:\n",
        "        stroka.append(0) \n",
        "    if 'Дополнительные данные ФНС' in text_write:\n",
        "        stroka.append(float(a1.split('Дополнительные данные ФНС')[1].split('padding-left:12px\"><b>')[1].split('<')[0].rstrip())) # доходы \n",
        "        stroka.append(float(a1.split('Дополнительные данные ФНС')[1].split('padding-left:12px\"><b>')[2].split('<')[0].rstrip())) # расходы\n",
        "    else:\n",
        "        stroka.append(0)\n",
        "        stroka.append(0)\n",
        "    if \"Уплачено налогов\" in text_write:\n",
        "        stroka.append(float(text_write.split(\"Уплачено налогов\")[1].split('b>')[1].split('<')[0].rstrip())) # налоги уплаченные\n",
        "    else:\n",
        "        stroka.append(0)\n",
        "    return stroka\n",
        "\n",
        "# эта функция - по-быстрее\n",
        "def find_info_comp_primer(url_one):\n",
        "    \"\"\" ф.собирает информацию по каждой компании и сохраняет данные в строку\n",
        "    \"\"\"\n",
        "    stroka = [] # собираем информацию сюда\n",
        "\n",
        "    text_one = requests.get(url_one)\n",
        "    text_write = text_one.text\n",
        "    a1 = text_write.split('id=\"searchText\" name=\"s\" value=')[1]\n",
        "    a2 = a1.split(' placeholder')[0] # name\n",
        "    stroka.append(a2)\n",
        "#    print(a2)\n",
        "    a2 = a1.split('ИНН: ')[1].split(' ')[0] # INN\n",
        "    stroka.append(a2)\n",
        "#    print(a2)\n",
        "    if 'Активы на ' in text_write:\n",
        "        a2 = a1.split('Активы на ')[1].split('<b>')[1].split('</b>') # aktiv\n",
        "        a2[0] # aktiv\n",
        "        stroka.append(float(a2[0].replace(' ', '').replace(',','.')))\n",
        "        mln = a2[1].split(' (')[0] # млн.\n",
        "        if 'млн.' in mln:\n",
        "            stroka.append(1)\n",
        "        elif 'тыс.' in mln:\n",
        "            stroka.append(0.001)\n",
        "    else:\n",
        "        stroka.append(0)\n",
        "        stroka.append(0)\n",
        "#    print(a2)\n",
        "    if 'Выручка за ' in text_write:\n",
        "        a2 = a1.split('Выручка за ')[1].split('<b>')[1].split(' </b>') # выручка\n",
        "        stroka.append(float(a2[0].replace(' ', '').replace(',','.')))\n",
        "        mln = a2[1].split(' (')[0] # млн.\n",
        "        if 'млн.' in mln:\n",
        "            stroka.append(1)\n",
        "        elif 'тыс.' in mln:\n",
        "            stroka.append(0.001)\n",
        "    else:\n",
        "        stroka.append(0)\n",
        "        stroka.append(0)        \n",
        "#    print(a2)\n",
        "    if 'численности ' in text_write:\n",
        "        stroka.append(int(a1.split('численности ')[1].split('b>')[1].split('<')[0])) # численность человек\n",
        "    else:\n",
        "        stroka.append(0) \n",
        "#    print(a2)\n",
        "    if 'Дополнительные данные ФНС' in text_write:\n",
        "        a2 = a1.split('Дополнительные данные ФНС')[1].split('padding-left:12px\"><b>')[1].split('<')[0].rstrip().replace(' ', '')\n",
        "        stroka.append(float(a2.replace(' ', '').replace(',','.'))) # доходы \n",
        "        a2 = a1.split('Дополнительные данные ФНС')[1].split('padding-left:12px\"><b>')[2].split('<')[0].rstrip().replace(' ', '')\n",
        "        stroka.append(float(a2.replace(' ', '').replace(',','.'))) # расходы\n",
        "    else:\n",
        "        stroka.append(0)\n",
        "        stroka.append(0)\n",
        "#    print(a2)\n",
        "    if \"Уплачено налогов\" in text_write:\n",
        "        stroka.append(float(text_write.split(\"Уплачено налогов\")[1].split('b>')[1].split('<')[0].rstrip().replace(' ', '').replace(',','.'))) # налоги уплаченные\n",
        "    else:\n",
        "        stroka.append(0)\n",
        "#    print(a2) \n",
        "    print(stroka)   \n",
        "    return stroka\n",
        "\n",
        "# надо бы дописать эту функцию\n",
        "def find_info_comp_re(List_all_komp, n_comp):\n",
        "    \"\"\" ф.собирает информацию по каждой компании и сохраняет данные в строку с помощью регулярных выражений\n",
        "    \"\"\"\n",
        "    pass"
      ],
      "execution_count": 5,
      "outputs": []
    },
    {
      "cell_type": "code",
      "metadata": {
        "id": "B19XE9xsfT0U"
      },
      "source": [
        "def info_p(value):\n",
        "  \"\"\" ф. чистит каждое значение - переводит его в int\n",
        "  \"\"\"\n",
        "  pass"
      ],
      "execution_count": null,
      "outputs": []
    },
    {
      "cell_type": "markdown",
      "metadata": {
        "id": "tq7XP4797Usu"
      },
      "source": [
        "### - соберем данные. В этом варианте сбор заканчивается на 553 компании(планирую до 6500), дальше идет дублирование информации - 2 последних компании начинают дублироваться в списке"
      ]
    },
    {
      "cell_type": "code",
      "metadata": {
        "id": "4Mxy2TNE7ey7"
      },
      "source": [
        "t0 = time.time()\n",
        "Table_find_values = [] \n",
        "\n",
        "name = find_name(url_list_all)      # ф. найдет определитель компании - inn_firma\n",
        "url_one = url1 + 'result/' + name   # url страницы с информацией о компании\n",
        "text_one = requests.get(url_one)    # создат объект Response\n",
        "a = find_info_comp_primer(url_one)             # ф. покажет инф. о компании\n",
        "#print(a)\n",
        "Table_find_values.append(a)\n",
        "inn = name.split('_')[0]            # выделить инн\n",
        "url_1 = url1 + 'rating/63_11_1/' + inn + '/' # url страницы с местом в рейтинге  / вернутся в рейтинг фирм\n",
        "print('\\t \\t 1')\n",
        "\n",
        "name_next_1 = requests.get(url_1).text.split(name)[1].split('href=\"/result/')[1].split('\">')[0] # найти name следующей компании\n",
        "inn_next = name_next_1.split('_')[0]\n",
        "url_next_company = url1 + 'result/' + name_next_1\n",
        "a = find_info_comp_primer(url_next_company) #  ф. покажет инф. о компании\n",
        "#print(a)\n",
        "Table_find_values.append(a)\n",
        "url_1 = url1 + 'rating/63_11_1/' + inn_next + '/' # url страницы с местом в рейтинге  / вернутся в рейтинг фирм\n",
        "print('\\t \\t 2')\n",
        "\n",
        "for i in range(550):\n",
        "    name_next_1 = requests.get(url_1).text.split(name_next_1)[1].split('href=\"/result/')[1].split('\">')[0] # найти name следующей компании\n",
        "    inn_next = name_next_1.split('_')[0]\n",
        "    url_next_company = url1 + 'result/' + name_next_1\n",
        "    a = find_info_comp_primer(url_next_company) #  ф. покажет инф. о компании\n",
        " #   print(a)\n",
        "    Table_find_values.append(a)\n",
        "    url_1 = url1 + 'rating/63_11_1/' + inn_next + '/' # url страницы с местом в рейтинге  / вернутся в рейтинг фирм \n",
        "    print('\\t \\t', i + 3)"
      ],
      "execution_count": null,
      "outputs": []
    },
    {
      "cell_type": "markdown",
      "metadata": {
        "id": "rxDrlR817gUq"
      },
      "source": [
        "### - соберем данные. В этом варианте сбор информации опять заканчивается на 553 компании. А дальше идет дублирование информации с последней компании"
      ]
    },
    {
      "cell_type": "code",
      "metadata": {
        "id": "9bL5TkcbWQ1J"
      },
      "source": [
        "#\n",
        "t0 = time.time()\n",
        "Table_find_values = [] \n",
        "#\n",
        "t2 = requests.get(url2).text                 # самая первая стр с рейтингом\n",
        "#t2 = requests.get('https://www.testfirm.ru/rating/63_11_1/7736536731/').text    # https://www.testfirm.ru/rating/63_11_1/7736536731/\n",
        "t2 = t2.split('org-link\" href=\"/result/') # инф о самой первой стр с рейтингом\n",
        "INN_name = t2[1].split('\">')[0]                 # INN_name первой компании / t2[1]\n",
        "INN_name_next_1 = t2[2].split('\">')[0] ## INN_name второй компании /  t2[2]\n",
        "INN_name_next_2 = t2[3].split('\">')[0] ## INN_name третьей компании /  t2[2]\n",
        "Table_find_values.append(find_info_comp_primer(url4 + INN_name))\n",
        "Table_find_values.append(find_info_comp_primer(url4 + INN_name_next_1))\n",
        "Table_find_values.append(find_info_comp_primer(url4 + INN_name_next_2))\n",
        "#\n",
        "\n",
        "for i in range(554):\n",
        "    INN_next_1 = INN_name_next_1.split('_')[0] # инн следующей следующей компании\n",
        "    url = url2 + INN_next_1 + '/'\n",
        "    t2 = requests.get(url).text                 #  стр с рейтингом \n",
        "    t3 = t2.split(INN_name_next_1)[1].split('org-link\" href=\"/result/') #стр с рейтингом после компании, разбивка по компаниям\n",
        "    INN_name_next_1 = t3[1].split('\">')[0]\n",
        "    INN_name_next_2 = t3[2].split('\">')[0]\n",
        "    Table_find_values.append(find_info_comp_primer(url4 + INN_name_next_2))\n",
        "#\n",
        "t1 = time.time() - t0\n",
        "t1\n",
        "# возможно ли оптимизировать время, если подправить функцию сбора данных по странице\n",
        "# остановилось на 7736536731  ГС СЕРВИС   место 554 - потом только дублировалось"
      ],
      "execution_count": null,
      "outputs": []
    },
    {
      "cell_type": "markdown",
      "metadata": {
        "id": "-bxSxgfW8YPA"
      },
      "source": [
        "### - соберем данные. В этом варианте сбор информации доходит до 1842 компании и обрывается. Буду проверять."
      ]
    },
    {
      "cell_type": "code",
      "metadata": {
        "id": "E3gMPns18dXi"
      },
      "source": [
        "# попробуем обойти ограничение\n",
        "t0 = time.time()\n",
        "Table_find_values = [] \n",
        "LIST_komp = []\n",
        "\n",
        "t2 = requests.get(url2).text                 # самая первая стр с рейтингом\n",
        "t2 = t2.split('org-link\" href=\"/result/') # инф о самой первой стр с рейтингом\n",
        "INN_name = t2[1].split('\">')[0]                 # INN_name первой компании / t2[1]\n",
        "INN_name_next_1 = t2[2].split('\">')[0] ## INN_name второй компании /  t2[2]\n",
        "INN_name_next_2 = t2[3].split('\">')[0] ## INN_name третьей компании /  t2[2]\n",
        "#print(1)\n",
        "Table_find_values.append(find_info_comp_primer(url4 + INN_name))\n",
        "#print(2)\n",
        "Table_find_values.append(find_info_comp_primer(url4 + INN_name_next_1))\n",
        "#print(3)\n",
        "Table_find_values.append(find_info_comp_primer(url4 + INN_name_next_2))\n",
        "\n",
        "for i in range(4185):\n",
        "#    print(i + 4)\n",
        "    INN_name_0 = INN_name_next_2\n",
        "#    print('INN_name_0 - ', INN_name_0)\n",
        "    INN_next_0 = INN_name_next_2.split('_')[0] # инн следующей следующей компании\n",
        "    url = url2 + INN_next_0 + '/' \n",
        "#    print('url - ', url)\n",
        "    t2 = requests.get(url).text                 #  стр с рейтингом \n",
        "    t3 = t2.split(INN_name_next_2)[1].split('org-link\" href=\"/result/') #стр с рейтингом после компании, разбивка по компаниям\n",
        "    INN_name_next_1 = t3[1].split('\">')[0]\n",
        "#    print('INN_name_next_1 - ', INN_name_next_1)\n",
        "    INN_name_next_2 = t3[2].split('\">')[0]\n",
        "#    print('INN_name_next_2 - ', INN_name_next_2)\n",
        "    url_next_1 = url4 + INN_name_next_1\n",
        "#    print('url_next_1 - ', url_next_1)\n",
        "    url_next_2 = url4 + INN_name_next_2\n",
        "#    print('url_next_2 - ', url_next_2)\n",
        "    if INN_name_next_1 not in LIST_komp:           # если нет в списке такого имени, то соберем инфу о компании\n",
        "        Table_find_values.append(find_info_comp_primer(url_next_1)) \n",
        "        LIST_komp.append(INN_name_next_1) # добавим имя в список имен\n",
        "    else:\n",
        "        print('все пропало))')\n",
        "    if INN_name_next_2 not in LIST_komp:           # если нет в списке такого имени, то соберем инфу о компании\n",
        "        Table_find_values.append(find_info_comp_primer(url_next_2))    \n",
        "        LIST_komp.append(INN_name_next_2) # добавим имя в список имен\n",
        "    else:\n",
        "        print('все пропало))')\n",
        "      #  else:\n",
        "      #      print('Все пропало!!!')\n",
        "    if len(LIST_komp) > 10:\n",
        "        LIST_komp.pop() # удалить элемент с индексом 0 - пусть в списке останется всего 10 позиций (LIST_komp будет у нас стеком)\n",
        "    if i % 100 == 0:\n",
        "        print(i + 4) \n",
        "t1 = time.time() - t0\n",
        "t1\n"
      ],
      "execution_count": null,
      "outputs": []
    },
    {
      "cell_type": "code",
      "metadata": {
        "id": "XbbJV1-hJgjl",
        "outputId": "2413ce55-e73d-4a74-bbc1-c9fc76e23dc0",
        "colab": {
          "base_uri": "https://localhost:8080/"
        }
      },
      "source": [
        "len(LIST_komp) # 918 \n",
        "# надо проверить почему длина увеличивается более 10"
      ],
      "execution_count": null,
      "outputs": [
        {
          "output_type": "execute_result",
          "data": {
            "text/plain": [
              "918"
            ]
          },
          "metadata": {
            "tags": []
          },
          "execution_count": 57
        }
      ]
    },
    {
      "cell_type": "markdown",
      "metadata": {
        "id": "pUsX-y-F8huA"
      },
      "source": [
        "### - посмотрим время затраченное на сбор инфы"
      ]
    },
    {
      "cell_type": "code",
      "metadata": {
        "id": "1dRoaF13q4kQ",
        "outputId": "8bf971e5-5637-4348-c2e9-51c445f5274d",
        "colab": {
          "base_uri": "https://localhost:8080/"
        }
      },
      "source": [
        "print('время сбора данных для 6500 компаний- \\t{} мин.'.format(round( t1 / 60, 2))) # 217.5 мин./ 177.87 мин. после корректировки функции\n",
        "# 183.09 мин. по 1 варианту\n",
        "# для 560 комп - 15.62 мин. 1 вариант сбора\n",
        "# для 550 комп - \t21.33 мин. 2 вариант сбора\n",
        "# для 2800 - 29,45мин"
      ],
      "execution_count": null,
      "outputs": [
        {
          "output_type": "stream",
          "text": [
            "время сбора данных для 6500 компаний- \t29.45 мин.\n"
          ],
          "name": "stdout"
        }
      ]
    },
    {
      "cell_type": "code",
      "metadata": {
        "id": "zKdGiLvHpt6z",
        "outputId": "09e09d97-d550-432a-99eb-0fca53998020",
        "colab": {
          "base_uri": "https://localhost:8080/"
        }
      },
      "source": [
        "177.87 / 60 # сколько часов для сбора данных для 6500 позиций / 2.9645"
      ],
      "execution_count": null,
      "outputs": [
        {
          "output_type": "execute_result",
          "data": {
            "text/plain": [
              "2.9645"
            ]
          },
          "metadata": {
            "tags": []
          },
          "execution_count": 135
        }
      ]
    },
    {
      "cell_type": "markdown",
      "metadata": {
        "id": "2vGpTrm71JV8"
      },
      "source": [
        "### Сбор данных по каждой компании - тут только тестирование, проверяю код"
      ]
    },
    {
      "cell_type": "code",
      "metadata": {
        "id": "zCYuqp2-1G2K",
        "outputId": "8d5a5658-67a4-4f25-9f45-31318c1e836a",
        "colab": {
          "base_uri": "https://localhost:8080/"
        }
      },
      "source": [
        "#url2 # 'https://www.testfirm.ru/rating/63_11_1/'\n",
        "\n",
        "inn = '9721060588'\n",
        "url_komp = url2 + inn + '/'        # 'https://www.testfirm.ru/rating/63_11_1/' + inn + '/'\n",
        "t2 = requests.get(url_komp)\n",
        "t3 = t2.text\n",
        "\n",
        "mesto = t3.split('success selected')[1].split('pos=\"')[1].split('\"')[0]  # № места\n",
        "INN = t3.split('success selected')[1].split('pos=\"')[1].split('\"')[2] # INN\n",
        "INN_name = t3.split('success selected')[1].split('result/')[1].split('\">')[0] # INN_name\n",
        "INN_name_next_1 = t3.split('success selected')[1].split('class=\"org-link\" href=\"/result/')[2].split('\">')[0]\n",
        "INN_name_next_2 = t3.split('success selected')[1].split('class=\"org-link\" href=\"/result/')[3].split('\">')[0]\n",
        "\n",
        "print(mesto)\n",
        "print(INN)\n",
        "print(INN_name) # проверяемое INN_name\n",
        "print(INN_name_next_1) # следующее INN_name\n",
        "print(INN_name_next_2) # следующе следующее INN_name \n",
        "\n",
        "stroka = [] # собираем информацию сюда\n",
        "url_comp_test = 'https://www.testfirm.ru/result/' + INN_name # ссылка на стр. с инф. о компании\n",
        "find_info_comp_primer(url_comp_test) # ф. об инф. компании \n",
        "\n",
        "print('готово')"
      ],
      "execution_count": null,
      "outputs": [
        {
          "output_type": "stream",
          "text": [
            "551\n",
            "9721060588\n",
            "9721060588_ooo-platforma-servis\n",
            "7743808295_ooo-tekhnologii-xxi-vek\n",
            "7743869121_ooo-it-prof\n",
            "['\"ПЛАТФОРМА СЕРВИС\"', '9721060588', 19.1, 1, 62.8, 1, 36, 62.8, 79.8, 9.7]\n",
            "готово\n"
          ],
          "name": "stdout"
        }
      ]
    },
    {
      "cell_type": "code",
      "metadata": {
        "id": "hQ5lAhJwi5ZA"
      },
      "source": [
        ""
      ],
      "execution_count": null,
      "outputs": []
    },
    {
      "cell_type": "markdown",
      "metadata": {
        "id": "U1ZmhjNB1iKV"
      },
      "source": [
        "# Анализ данных. Тут пробую анализ данных собранных по списку компаний"
      ]
    },
    {
      "cell_type": "code",
      "metadata": {
        "id": "FIIkelTHNCAl"
      },
      "source": [
        "len(Table_find_values) # 2804"
      ],
      "execution_count": null,
      "outputs": []
    },
    {
      "cell_type": "markdown",
      "metadata": {
        "id": "TZA26i28GesB"
      },
      "source": [
        "### - загрузим данные "
      ]
    },
    {
      "cell_type": "code",
      "metadata": {
        "id": "iMQhIFRP1l30"
      },
      "source": [
        "data = pd.DataFrame(Table_find_values)\n",
        "data.columns = ['name', 'inn', 'aktiv','e_a' , 'revenue', 'e_v', 'staff', 'income', 'expenses', 'nalog'] \n",
        "# name, inn, aktiv/активы, revenue/выручка, персонал/staff,   доходы/income,    расходы/expenses, налоги/tax\n",
        "data = data[:1845]\n",
        "data.tail(5)"
      ],
      "execution_count": null,
      "outputs": []
    },
    {
      "cell_type": "code",
      "metadata": {
        "id": "HSIAO4G36MKV"
      },
      "source": [
        "#загрузить файл на лок.машину\n",
        "data.to_csv('data_find_values.csv')  # запишем в файл"
      ],
      "execution_count": null,
      "outputs": []
    },
    {
      "cell_type": "code",
      "metadata": {
        "id": "zNOznVj26MH5",
        "outputId": "14acd2ff-468b-4332-8400-0475e3509666",
        "colab": {
          "resources": {
            "http://localhost:8080/nbextensions/google.colab/files.js": {
              "data": "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",
              "ok": true,
              "headers": [
                [
                  "content-type",
                  "application/javascript"
                ]
              ],
              "status": 200,
              "status_text": ""
            }
          },
          "base_uri": "https://localhost:8080/",
          "height": 73
        }
      },
      "source": [
        "# загрузим файл с лок.машины на колаб\n",
        "uploaded = files.upload()"
      ],
      "execution_count": 6,
      "outputs": [
        {
          "output_type": "display_data",
          "data": {
            "text/html": [
              "\n",
              "     <input type=\"file\" id=\"files-24e82214-61ca-4a34-9e31-fa3d71a69b36\" name=\"files[]\" multiple disabled\n",
              "        style=\"border:none\" />\n",
              "     <output id=\"result-24e82214-61ca-4a34-9e31-fa3d71a69b36\">\n",
              "      Upload widget is only available when the cell has been executed in the\n",
              "      current browser session. Please rerun this cell to enable.\n",
              "      </output>\n",
              "      <script src=\"/nbextensions/google.colab/files.js\"></script> "
            ],
            "text/plain": [
              "<IPython.core.display.HTML object>"
            ]
          },
          "metadata": {
            "tags": []
          }
        },
        {
          "output_type": "stream",
          "text": [
            "Saving data_find_valus.csv to data_find_valus.csv\n"
          ],
          "name": "stdout"
        }
      ]
    },
    {
      "cell_type": "code",
      "metadata": {
        "id": "RVcbNLNi6d4E"
      },
      "source": [
        "data = pd.read_csv('data_find_valus.csv', index_col= 'Unnamed: 0') # определить загруженный файл в таблицу"
      ],
      "execution_count": 8,
      "outputs": []
    },
    {
      "cell_type": "markdown",
      "metadata": {
        "id": "BE-zN-eXGUwY"
      },
      "source": [
        "### - посмотрим на данные"
      ]
    },
    {
      "cell_type": "code",
      "metadata": {
        "id": "4iNkH7_qd-f7",
        "outputId": "d5b9e905-ed47-45c9-d97d-6d15244289cc",
        "colab": {
          "base_uri": "https://localhost:8080/",
          "height": 136
        }
      },
      "source": [
        "data.head(3)"
      ],
      "execution_count": 9,
      "outputs": [
        {
          "output_type": "execute_result",
          "data": {
            "text/html": [
              "<div>\n",
              "<style scoped>\n",
              "    .dataframe tbody tr th:only-of-type {\n",
              "        vertical-align: middle;\n",
              "    }\n",
              "\n",
              "    .dataframe tbody tr th {\n",
              "        vertical-align: top;\n",
              "    }\n",
              "\n",
              "    .dataframe thead th {\n",
              "        text-align: right;\n",
              "    }\n",
              "</style>\n",
              "<table border=\"1\" class=\"dataframe\">\n",
              "  <thead>\n",
              "    <tr style=\"text-align: right;\">\n",
              "      <th></th>\n",
              "      <th>name</th>\n",
              "      <th>inn</th>\n",
              "      <th>aktiv</th>\n",
              "      <th>e_a</th>\n",
              "      <th>revenue</th>\n",
              "      <th>e_v</th>\n",
              "      <th>staff</th>\n",
              "      <th>income</th>\n",
              "      <th>expenses</th>\n",
              "      <th>nalog</th>\n",
              "    </tr>\n",
              "  </thead>\n",
              "  <tbody>\n",
              "    <tr>\n",
              "      <th>0</th>\n",
              "      <td>\"Сибирская Интернет Компания\"</td>\n",
              "      <td>7708119944</td>\n",
              "      <td>47403.0</td>\n",
              "      <td>1.0</td>\n",
              "      <td>52074.0</td>\n",
              "      <td>1</td>\n",
              "      <td>0</td>\n",
              "      <td>0.0</td>\n",
              "      <td>0.0</td>\n",
              "      <td>0.0</td>\n",
              "    </tr>\n",
              "    <tr>\n",
              "      <th>1</th>\n",
              "      <td>\"МЭЙЛ РУ\"</td>\n",
              "      <td>7743001840</td>\n",
              "      <td>198742.0</td>\n",
              "      <td>1.0</td>\n",
              "      <td>45582.0</td>\n",
              "      <td>1</td>\n",
              "      <td>0</td>\n",
              "      <td>0.0</td>\n",
              "      <td>0.0</td>\n",
              "      <td>0.0</td>\n",
              "    </tr>\n",
              "    <tr>\n",
              "      <th>2</th>\n",
              "      <td>\"Центр программ лояльности\"</td>\n",
              "      <td>7702770003</td>\n",
              "      <td>8723.0</td>\n",
              "      <td>1.0</td>\n",
              "      <td>32778.0</td>\n",
              "      <td>1</td>\n",
              "      <td>166</td>\n",
              "      <td>33174.0</td>\n",
              "      <td>30617.0</td>\n",
              "      <td>1680.0</td>\n",
              "    </tr>\n",
              "  </tbody>\n",
              "</table>\n",
              "</div>"
            ],
            "text/plain": [
              "                            name         inn  ...  expenses   nalog\n",
              "0  \"Сибирская Интернет Компания\"  7708119944  ...       0.0     0.0\n",
              "1                      \"МЭЙЛ РУ\"  7743001840  ...       0.0     0.0\n",
              "2    \"Центр программ лояльности\"  7702770003  ...   30617.0  1680.0\n",
              "\n",
              "[3 rows x 10 columns]"
            ]
          },
          "metadata": {
            "tags": []
          },
          "execution_count": 9
        }
      ]
    },
    {
      "cell_type": "code",
      "metadata": {
        "id": "zF7pjzwQDN--",
        "outputId": "b0a3c2f5-bb20-4938-d307-29b210d490a4",
        "colab": {
          "base_uri": "https://localhost:8080/",
          "height": 136
        }
      },
      "source": [
        "data.tail(3)"
      ],
      "execution_count": 10,
      "outputs": [
        {
          "output_type": "execute_result",
          "data": {
            "text/html": [
              "<div>\n",
              "<style scoped>\n",
              "    .dataframe tbody tr th:only-of-type {\n",
              "        vertical-align: middle;\n",
              "    }\n",
              "\n",
              "    .dataframe tbody tr th {\n",
              "        vertical-align: top;\n",
              "    }\n",
              "\n",
              "    .dataframe thead th {\n",
              "        text-align: right;\n",
              "    }\n",
              "</style>\n",
              "<table border=\"1\" class=\"dataframe\">\n",
              "  <thead>\n",
              "    <tr style=\"text-align: right;\">\n",
              "      <th></th>\n",
              "      <th>name</th>\n",
              "      <th>inn</th>\n",
              "      <th>aktiv</th>\n",
              "      <th>e_a</th>\n",
              "      <th>revenue</th>\n",
              "      <th>e_v</th>\n",
              "      <th>staff</th>\n",
              "      <th>income</th>\n",
              "      <th>expenses</th>\n",
              "      <th>nalog</th>\n",
              "    </tr>\n",
              "  </thead>\n",
              "  <tbody>\n",
              "    <tr>\n",
              "      <th>1840</th>\n",
              "      <td>\"УКС\"</td>\n",
              "      <td>6670036839</td>\n",
              "      <td>1.34</td>\n",
              "      <td>1.0</td>\n",
              "      <td>8.34</td>\n",
              "      <td>1</td>\n",
              "      <td>6</td>\n",
              "      <td>8.35</td>\n",
              "      <td>8.20</td>\n",
              "      <td>370.0</td>\n",
              "    </tr>\n",
              "    <tr>\n",
              "      <th>1841</th>\n",
              "      <td>\"БИГПАУЭР НЬЮС\"</td>\n",
              "      <td>7703818321</td>\n",
              "      <td>1.87</td>\n",
              "      <td>1.0</td>\n",
              "      <td>8.34</td>\n",
              "      <td>1</td>\n",
              "      <td>2</td>\n",
              "      <td>8.40</td>\n",
              "      <td>5.59</td>\n",
              "      <td>516.0</td>\n",
              "    </tr>\n",
              "    <tr>\n",
              "      <th>1842</th>\n",
              "      <td>\"ТОП СПОТ\"</td>\n",
              "      <td>7735574389</td>\n",
              "      <td>16.10</td>\n",
              "      <td>1.0</td>\n",
              "      <td>8.34</td>\n",
              "      <td>1</td>\n",
              "      <td>4</td>\n",
              "      <td>8.36</td>\n",
              "      <td>7.21</td>\n",
              "      <td>817.0</td>\n",
              "    </tr>\n",
              "  </tbody>\n",
              "</table>\n",
              "</div>"
            ],
            "text/plain": [
              "                 name         inn  aktiv  e_a  ...  staff  income  expenses  nalog\n",
              "1840            \"УКС\"  6670036839   1.34  1.0  ...      6    8.35      8.20  370.0\n",
              "1841  \"БИГПАУЭР НЬЮС\"  7703818321   1.87  1.0  ...      2    8.40      5.59  516.0\n",
              "1842       \"ТОП СПОТ\"  7735574389  16.10  1.0  ...      4    8.36      7.21  817.0\n",
              "\n",
              "[3 rows x 10 columns]"
            ]
          },
          "metadata": {
            "tags": []
          },
          "execution_count": 10
        }
      ]
    },
    {
      "cell_type": "markdown",
      "metadata": {
        "id": "pvNsGIYUGoW9"
      },
      "source": [
        "### - почистим данные"
      ]
    },
    {
      "cell_type": "code",
      "metadata": {
        "id": "GplTWdUCnnBV",
        "outputId": "6cfc6585-fec1-4cf1-a5e7-bd0d06cbe261",
        "colab": {
          "base_uri": "https://localhost:8080/"
        }
      },
      "source": [
        "data.e_a.value_counts() # кол-во активов больше и меньше млн. / \n",
        "#data.e_v.value_counts() # кол-во активов больше и меньше млн. /   "
      ],
      "execution_count": 12,
      "outputs": [
        {
          "output_type": "execute_result",
          "data": {
            "text/plain": [
              "1.000    1777\n",
              "0.001      65\n",
              "0.000       1\n",
              "Name: e_a, dtype: int64"
            ]
          },
          "metadata": {
            "tags": []
          },
          "execution_count": 12
        }
      ]
    },
    {
      "cell_type": "code",
      "metadata": {
        "id": "JM_iM7S7_Bwb",
        "outputId": "ccb60aee-3245-4422-d31b-34996fac566a",
        "colab": {
          "base_uri": "https://localhost:8080/"
        }
      },
      "source": [
        "data.info() # проверю тип данных в таблице, не ошибся ли где"
      ],
      "execution_count": 13,
      "outputs": [
        {
          "output_type": "stream",
          "text": [
            "<class 'pandas.core.frame.DataFrame'>\n",
            "Int64Index: 1843 entries, 0 to 1842\n",
            "Data columns (total 10 columns):\n",
            " #   Column    Non-Null Count  Dtype  \n",
            "---  ------    --------------  -----  \n",
            " 0   name      1843 non-null   object \n",
            " 1   inn       1843 non-null   int64  \n",
            " 2   aktiv     1843 non-null   float64\n",
            " 3   e_a       1843 non-null   float64\n",
            " 4   revenue   1843 non-null   float64\n",
            " 5   e_v       1843 non-null   int64  \n",
            " 6   staff     1843 non-null   int64  \n",
            " 7   income    1843 non-null   float64\n",
            " 8   expenses  1843 non-null   float64\n",
            " 9   nalog     1843 non-null   float64\n",
            "dtypes: float64(6), int64(3), object(1)\n",
            "memory usage: 158.4+ KB\n"
          ],
          "name": "stdout"
        }
      ]
    },
    {
      "cell_type": "code",
      "metadata": {
        "id": "EPjjB2h2JcOh"
      },
      "source": [
        "data_1 = data.copy() # скопируем файл , чтобы не менять даные в итоговой таблице"
      ],
      "execution_count": 14,
      "outputs": []
    },
    {
      "cell_type": "code",
      "metadata": {
        "id": "F9NCkk-cLl8x",
        "outputId": "127d2c1b-577e-4664-d473-845f7ee30d30",
        "colab": {
          "base_uri": "https://localhost:8080/",
          "height": 136
        }
      },
      "source": [
        "data_1.head(3) # проверим , что скопировалось"
      ],
      "execution_count": 15,
      "outputs": [
        {
          "output_type": "execute_result",
          "data": {
            "text/html": [
              "<div>\n",
              "<style scoped>\n",
              "    .dataframe tbody tr th:only-of-type {\n",
              "        vertical-align: middle;\n",
              "    }\n",
              "\n",
              "    .dataframe tbody tr th {\n",
              "        vertical-align: top;\n",
              "    }\n",
              "\n",
              "    .dataframe thead th {\n",
              "        text-align: right;\n",
              "    }\n",
              "</style>\n",
              "<table border=\"1\" class=\"dataframe\">\n",
              "  <thead>\n",
              "    <tr style=\"text-align: right;\">\n",
              "      <th></th>\n",
              "      <th>name</th>\n",
              "      <th>inn</th>\n",
              "      <th>aktiv</th>\n",
              "      <th>e_a</th>\n",
              "      <th>revenue</th>\n",
              "      <th>e_v</th>\n",
              "      <th>staff</th>\n",
              "      <th>income</th>\n",
              "      <th>expenses</th>\n",
              "      <th>nalog</th>\n",
              "    </tr>\n",
              "  </thead>\n",
              "  <tbody>\n",
              "    <tr>\n",
              "      <th>0</th>\n",
              "      <td>\"Сибирская Интернет Компания\"</td>\n",
              "      <td>7708119944</td>\n",
              "      <td>47403.0</td>\n",
              "      <td>1.0</td>\n",
              "      <td>52074.0</td>\n",
              "      <td>1</td>\n",
              "      <td>0</td>\n",
              "      <td>0.0</td>\n",
              "      <td>0.0</td>\n",
              "      <td>0.0</td>\n",
              "    </tr>\n",
              "    <tr>\n",
              "      <th>1</th>\n",
              "      <td>\"МЭЙЛ РУ\"</td>\n",
              "      <td>7743001840</td>\n",
              "      <td>198742.0</td>\n",
              "      <td>1.0</td>\n",
              "      <td>45582.0</td>\n",
              "      <td>1</td>\n",
              "      <td>0</td>\n",
              "      <td>0.0</td>\n",
              "      <td>0.0</td>\n",
              "      <td>0.0</td>\n",
              "    </tr>\n",
              "    <tr>\n",
              "      <th>2</th>\n",
              "      <td>\"Центр программ лояльности\"</td>\n",
              "      <td>7702770003</td>\n",
              "      <td>8723.0</td>\n",
              "      <td>1.0</td>\n",
              "      <td>32778.0</td>\n",
              "      <td>1</td>\n",
              "      <td>166</td>\n",
              "      <td>33174.0</td>\n",
              "      <td>30617.0</td>\n",
              "      <td>1680.0</td>\n",
              "    </tr>\n",
              "  </tbody>\n",
              "</table>\n",
              "</div>"
            ],
            "text/plain": [
              "                            name         inn  ...  expenses   nalog\n",
              "0  \"Сибирская Интернет Компания\"  7708119944  ...       0.0     0.0\n",
              "1                      \"МЭЙЛ РУ\"  7743001840  ...       0.0     0.0\n",
              "2    \"Центр программ лояльности\"  7702770003  ...   30617.0  1680.0\n",
              "\n",
              "[3 rows x 10 columns]"
            ]
          },
          "metadata": {
            "tags": []
          },
          "execution_count": 15
        }
      ]
    },
    {
      "cell_type": "code",
      "metadata": {
        "id": "vJFW_v9aZrbG",
        "outputId": "e697dd94-f96d-4ac9-a18a-475188beac96",
        "colab": {
          "base_uri": "https://localhost:8080/",
          "height": 136
        }
      },
      "source": [
        "# заведем новые столбцы\n",
        "data_1['AKTIV'] = data_1['aktiv'] * data_1['e_a']\n",
        "data_1['SALE'] = data_1['revenue'] * data_1['e_v']\n",
        "#\n",
        "# удалим старые столбцы\n",
        "data_1 = data_1.drop(['aktiv', 'e_a', 'revenue', 'e_v'], axis= 1)\n",
        "data_1.head(3)"
      ],
      "execution_count": 16,
      "outputs": [
        {
          "output_type": "execute_result",
          "data": {
            "text/html": [
              "<div>\n",
              "<style scoped>\n",
              "    .dataframe tbody tr th:only-of-type {\n",
              "        vertical-align: middle;\n",
              "    }\n",
              "\n",
              "    .dataframe tbody tr th {\n",
              "        vertical-align: top;\n",
              "    }\n",
              "\n",
              "    .dataframe thead th {\n",
              "        text-align: right;\n",
              "    }\n",
              "</style>\n",
              "<table border=\"1\" class=\"dataframe\">\n",
              "  <thead>\n",
              "    <tr style=\"text-align: right;\">\n",
              "      <th></th>\n",
              "      <th>name</th>\n",
              "      <th>inn</th>\n",
              "      <th>staff</th>\n",
              "      <th>income</th>\n",
              "      <th>expenses</th>\n",
              "      <th>nalog</th>\n",
              "      <th>AKTIV</th>\n",
              "      <th>SALE</th>\n",
              "    </tr>\n",
              "  </thead>\n",
              "  <tbody>\n",
              "    <tr>\n",
              "      <th>0</th>\n",
              "      <td>\"Сибирская Интернет Компания\"</td>\n",
              "      <td>7708119944</td>\n",
              "      <td>0</td>\n",
              "      <td>0.0</td>\n",
              "      <td>0.0</td>\n",
              "      <td>0.0</td>\n",
              "      <td>47403.0</td>\n",
              "      <td>52074.0</td>\n",
              "    </tr>\n",
              "    <tr>\n",
              "      <th>1</th>\n",
              "      <td>\"МЭЙЛ РУ\"</td>\n",
              "      <td>7743001840</td>\n",
              "      <td>0</td>\n",
              "      <td>0.0</td>\n",
              "      <td>0.0</td>\n",
              "      <td>0.0</td>\n",
              "      <td>198742.0</td>\n",
              "      <td>45582.0</td>\n",
              "    </tr>\n",
              "    <tr>\n",
              "      <th>2</th>\n",
              "      <td>\"Центр программ лояльности\"</td>\n",
              "      <td>7702770003</td>\n",
              "      <td>166</td>\n",
              "      <td>33174.0</td>\n",
              "      <td>30617.0</td>\n",
              "      <td>1680.0</td>\n",
              "      <td>8723.0</td>\n",
              "      <td>32778.0</td>\n",
              "    </tr>\n",
              "  </tbody>\n",
              "</table>\n",
              "</div>"
            ],
            "text/plain": [
              "                            name         inn  staff  ...   nalog     AKTIV     SALE\n",
              "0  \"Сибирская Интернет Компания\"  7708119944      0  ...     0.0   47403.0  52074.0\n",
              "1                      \"МЭЙЛ РУ\"  7743001840      0  ...     0.0  198742.0  45582.0\n",
              "2    \"Центр программ лояльности\"  7702770003    166  ...  1680.0    8723.0  32778.0\n",
              "\n",
              "[3 rows x 8 columns]"
            ]
          },
          "metadata": {
            "tags": []
          },
          "execution_count": 16
        }
      ]
    },
    {
      "cell_type": "markdown",
      "metadata": {
        "id": "mySdK3AsHnlK"
      },
      "source": [
        "### - начнем анализ"
      ]
    },
    {
      "cell_type": "code",
      "metadata": {
        "id": "WoLV2GZe-UnK",
        "outputId": "82471e4c-537b-4da2-ecdb-4ce5e24dd580",
        "colab": {
          "base_uri": "https://localhost:8080/",
          "height": 284
        }
      },
      "source": [
        "data_1.loc[:,['AKTIV', 'SALE']].describe() # найдем среднее , max, min и квантили выручки и активов"
      ],
      "execution_count": 17,
      "outputs": [
        {
          "output_type": "execute_result",
          "data": {
            "text/html": [
              "<div>\n",
              "<style scoped>\n",
              "    .dataframe tbody tr th:only-of-type {\n",
              "        vertical-align: middle;\n",
              "    }\n",
              "\n",
              "    .dataframe tbody tr th {\n",
              "        vertical-align: top;\n",
              "    }\n",
              "\n",
              "    .dataframe thead th {\n",
              "        text-align: right;\n",
              "    }\n",
              "</style>\n",
              "<table border=\"1\" class=\"dataframe\">\n",
              "  <thead>\n",
              "    <tr style=\"text-align: right;\">\n",
              "      <th></th>\n",
              "      <th>AKTIV</th>\n",
              "      <th>SALE</th>\n",
              "    </tr>\n",
              "  </thead>\n",
              "  <tbody>\n",
              "    <tr>\n",
              "      <th>count</th>\n",
              "      <td>1843.000000</td>\n",
              "      <td>1843.000000</td>\n",
              "    </tr>\n",
              "    <tr>\n",
              "      <th>mean</th>\n",
              "      <td>263.094530</td>\n",
              "      <td>208.350011</td>\n",
              "    </tr>\n",
              "    <tr>\n",
              "      <th>std</th>\n",
              "      <td>4930.770393</td>\n",
              "      <td>1865.622168</td>\n",
              "    </tr>\n",
              "    <tr>\n",
              "      <th>min</th>\n",
              "      <td>0.000000</td>\n",
              "      <td>8.340000</td>\n",
              "    </tr>\n",
              "    <tr>\n",
              "      <th>25%</th>\n",
              "      <td>5.270000</td>\n",
              "      <td>15.800000</td>\n",
              "    </tr>\n",
              "    <tr>\n",
              "      <th>50%</th>\n",
              "      <td>13.800000</td>\n",
              "      <td>31.800000</td>\n",
              "    </tr>\n",
              "    <tr>\n",
              "      <th>75%</th>\n",
              "      <td>39.150000</td>\n",
              "      <td>74.550000</td>\n",
              "    </tr>\n",
              "    <tr>\n",
              "      <th>max</th>\n",
              "      <td>198742.000000</td>\n",
              "      <td>52074.000000</td>\n",
              "    </tr>\n",
              "  </tbody>\n",
              "</table>\n",
              "</div>"
            ],
            "text/plain": [
              "               AKTIV          SALE\n",
              "count    1843.000000   1843.000000\n",
              "mean      263.094530    208.350011\n",
              "std      4930.770393   1865.622168\n",
              "min         0.000000      8.340000\n",
              "25%         5.270000     15.800000\n",
              "50%        13.800000     31.800000\n",
              "75%        39.150000     74.550000\n",
              "max    198742.000000  52074.000000"
            ]
          },
          "metadata": {
            "tags": []
          },
          "execution_count": 17
        }
      ]
    },
    {
      "cell_type": "code",
      "metadata": {
        "id": "GoDlZfN5CuQD",
        "outputId": "e3396799-f52c-4c19-da3f-4926cc889893",
        "colab": {
          "base_uri": "https://localhost:8080/",
          "height": 441
        }
      },
      "source": [
        "# совместное распределение по выручке и активам\n",
        "sns.jointplot(x='SALE', y='AKTIV', data=data_1, kind='reg');\n",
        "# с повышением выручки повышаются и активы\n",
        "#"
      ],
      "execution_count": null,
      "outputs": [
        {
          "output_type": "display_data",
          "data": {
            "image/png": "[encoded data removed]",
            "text/plain": [
              "<Figure size 432x432 with 3 Axes>"
            ]
          },
          "metadata": {
            "tags": [],
            "needs_background": "light"
          }
        }
      ]
    },
    {
      "cell_type": "markdown",
      "metadata": {
        "id": "Oqrw4LFYAz6C"
      },
      "source": [
        "### SALE / рассмотрим выручку компаний"
      ]
    },
    {
      "cell_type": "code",
      "metadata": {
        "id": "RzRmXP3gIFD2",
        "outputId": "721585fd-7b18-4da8-cd23-2aaa182f8432",
        "colab": {
          "base_uri": "https://localhost:8080/",
          "height": 367
        }
      },
      "source": [
        "# распределение выручки компаний\n",
        "sale_1 = data_1.SALE.hist(bins= 25, figsize=[15, 5]) # более 1750 компаний имеют выручку менее 5 000 млн.руб.\n",
        "\n",
        "sale_1.set_title('Распределение выручки по объему')\n",
        "sale_1.set_xlabel('Объем выручки, млн.руб.')\n",
        "sale_1.set_ylabel('Кол-во компаний')"
      ],
      "execution_count": 18,
      "outputs": [
        {
          "output_type": "execute_result",
          "data": {
            "text/plain": [
              "Text(0, 0.5, 'Кол-во компаний')"
            ]
          },
          "metadata": {
            "tags": []
          },
          "execution_count": 18
        },
        {
          "output_type": "display_data",
          "data": {
            "image/png": "[encoded data removed]",
            "text/plain": [
              "<Figure size 1080x360 with 1 Axes>"
            ]
          },
          "metadata": {
            "tags": [],
            "needs_background": "light"
          }
        }
      ]
    },
    {
      "cell_type": "code",
      "metadata": {
        "id": "Po3aNv6_BBy-",
        "outputId": "abe54457-92ef-4b8a-a7b3-4a7aca967bac",
        "colab": {
          "base_uri": "https://localhost:8080/",
          "height": 350
        }
      },
      "source": [
        "# гистограмма и график плотности распределения выручки компаний\n",
        "sns.distplot(data_1['SALE'])"
      ],
      "execution_count": 19,
      "outputs": [
        {
          "output_type": "stream",
          "text": [
            "/usr/local/lib/python3.6/dist-packages/seaborn/distributions.py:2551: FutureWarning: `distplot` is a deprecated function and will be removed in a future version. Please adapt your code to use either `displot` (a figure-level function with similar flexibility) or `histplot` (an axes-level function for histograms).\n",
            "  warnings.warn(msg, FutureWarning)\n"
          ],
          "name": "stderr"
        },
        {
          "output_type": "execute_result",
          "data": {
            "text/plain": [
              "<matplotlib.axes._subplots.AxesSubplot at 0x7f4bb788ac18>"
            ]
          },
          "metadata": {
            "tags": []
          },
          "execution_count": 19
        },
        {
          "output_type": "display_data",
          "data": {
            "image/png": "[encoded data removed]",
            "text/plain": [
              "<Figure size 432x288 with 1 Axes>"
            ]
          },
          "metadata": {
            "tags": [],
            "needs_background": "light"
          }
        }
      ]
    },
    {
      "cell_type": "code",
      "metadata": {
        "id": "rj5Wa0dPBB7W",
        "outputId": "9c162b48-7a89-4fdc-db8d-a2a7ea2736c5",
        "colab": {
          "base_uri": "https://localhost:8080/",
          "height": 441
        }
      },
      "source": [
        "# совместное распределение по выручке и персоналу\n",
        "sns.jointplot(x='SALE', y='staff', data=data_1, kind='reg');"
      ],
      "execution_count": null,
      "outputs": [
        {
          "output_type": "display_data",
          "data": {
            "image/png": "[encoded data removed]",
            "text/plain": [
              "<Figure size 432x432 with 3 Axes>"
            ]
          },
          "metadata": {
            "tags": [],
            "needs_background": "light"
          }
        }
      ]
    },
    {
      "cell_type": "code",
      "metadata": {
        "id": "-pb4JXWkBB32"
      },
      "source": [
        ""
      ],
      "execution_count": null,
      "outputs": []
    },
    {
      "cell_type": "markdown",
      "metadata": {
        "id": "5RglGcH0A7EY"
      },
      "source": [
        "### AKTIV / рассмотрим активы компаний "
      ]
    },
    {
      "cell_type": "code",
      "metadata": {
        "id": "kQT0kP09Po4E",
        "outputId": "e2dc998b-83c3-443c-caeb-23c834de9ea0",
        "colab": {
          "base_uri": "https://localhost:8080/",
          "height": 367
        }
      },
      "source": [
        "# распределение активов компаний\n",
        "akt_1 = data_1.AKTIV.hist(bins= 60, figsize=[15, 5]) # более 1750 компаний имеют выручку менее 5 000 млн.руб.\n",
        "#akt_1.set_xlim(0, 50000)\n",
        "akt_1.set_title('Распределение активов по объему')\n",
        "akt_1.set_xlabel('Активы, млн.руб.')\n",
        "akt_1.set_ylabel('Кол-во компаний')"
      ],
      "execution_count": 21,
      "outputs": [
        {
          "output_type": "execute_result",
          "data": {
            "text/plain": [
              "Text(0, 0.5, 'Кол-во компаний')"
            ]
          },
          "metadata": {
            "tags": []
          },
          "execution_count": 21
        },
        {
          "output_type": "display_data",
          "data": {
            "image/png": "[encoded data removed]",
            "text/plain": [
              "<Figure size 1080x360 with 1 Axes>"
            ]
          },
          "metadata": {
            "tags": [],
            "needs_background": "light"
          }
        }
      ]
    },
    {
      "cell_type": "code",
      "metadata": {
        "id": "2YpQVXQQ7lKb",
        "outputId": "e57b7df1-bb5a-4811-8ac1-91a8056d3579",
        "colab": {
          "base_uri": "https://localhost:8080/",
          "height": 282
        }
      },
      "source": [
        "# график распределения активов компаний\n",
        "data_1.AKTIV.plot()"
      ],
      "execution_count": 22,
      "outputs": [
        {
          "output_type": "execute_result",
          "data": {
            "text/plain": [
              "<matplotlib.axes._subplots.AxesSubplot at 0x7f4bb72471d0>"
            ]
          },
          "metadata": {
            "tags": []
          },
          "execution_count": 22
        },
        {
          "output_type": "display_data",
          "data": {
            "image/png": "[encoded data removed]",
            "text/plain": [
              "<Figure size 432x288 with 1 Axes>"
            ]
          },
          "metadata": {
            "tags": [],
            "needs_background": "light"
          }
        }
      ]
    },
    {
      "cell_type": "code",
      "metadata": {
        "id": "2PUj_yN77lQe",
        "outputId": "3f0f6e18-661c-4231-8d43-9d8649968d40",
        "colab": {
          "base_uri": "https://localhost:8080/",
          "height": 441
        }
      },
      "source": [
        "# совместное распределение по активам и персоналу\n",
        "sns.jointplot(x='AKTIV', y='staff', data=data_1, kind='reg');"
      ],
      "execution_count": 23,
      "outputs": [
        {
          "output_type": "display_data",
          "data": {
            "image/png": "[encoded data removed]",
            "text/plain": [
              "<Figure size 432x432 with 3 Axes>"
            ]
          },
          "metadata": {
            "tags": [],
            "needs_background": "light"
          }
        }
      ]
    },
    {
      "cell_type": "code",
      "metadata": {
        "id": "lPnSEmYn7lFf",
        "outputId": "97cac619-2a2a-42d9-8a61-8ede661a0905",
        "colab": {
          "base_uri": "https://localhost:8080/",
          "height": 136
        }
      },
      "source": [
        "data_1.head(3)"
      ],
      "execution_count": 27,
      "outputs": [
        {
          "output_type": "execute_result",
          "data": {
            "text/html": [
              "<div>\n",
              "<style scoped>\n",
              "    .dataframe tbody tr th:only-of-type {\n",
              "        vertical-align: middle;\n",
              "    }\n",
              "\n",
              "    .dataframe tbody tr th {\n",
              "        vertical-align: top;\n",
              "    }\n",
              "\n",
              "    .dataframe thead th {\n",
              "        text-align: right;\n",
              "    }\n",
              "</style>\n",
              "<table border=\"1\" class=\"dataframe\">\n",
              "  <thead>\n",
              "    <tr style=\"text-align: right;\">\n",
              "      <th></th>\n",
              "      <th>name</th>\n",
              "      <th>inn</th>\n",
              "      <th>staff</th>\n",
              "      <th>income</th>\n",
              "      <th>expenses</th>\n",
              "      <th>nalog</th>\n",
              "      <th>AKTIV</th>\n",
              "      <th>SALE</th>\n",
              "    </tr>\n",
              "  </thead>\n",
              "  <tbody>\n",
              "    <tr>\n",
              "      <th>0</th>\n",
              "      <td>\"Сибирская Интернет Компания\"</td>\n",
              "      <td>7708119944</td>\n",
              "      <td>0</td>\n",
              "      <td>0.0</td>\n",
              "      <td>0.0</td>\n",
              "      <td>0.0</td>\n",
              "      <td>47403.0</td>\n",
              "      <td>52074.0</td>\n",
              "    </tr>\n",
              "    <tr>\n",
              "      <th>1</th>\n",
              "      <td>\"МЭЙЛ РУ\"</td>\n",
              "      <td>7743001840</td>\n",
              "      <td>0</td>\n",
              "      <td>0.0</td>\n",
              "      <td>0.0</td>\n",
              "      <td>0.0</td>\n",
              "      <td>198742.0</td>\n",
              "      <td>45582.0</td>\n",
              "    </tr>\n",
              "    <tr>\n",
              "      <th>2</th>\n",
              "      <td>\"Центр программ лояльности\"</td>\n",
              "      <td>7702770003</td>\n",
              "      <td>166</td>\n",
              "      <td>33174.0</td>\n",
              "      <td>30617.0</td>\n",
              "      <td>1680.0</td>\n",
              "      <td>8723.0</td>\n",
              "      <td>32778.0</td>\n",
              "    </tr>\n",
              "  </tbody>\n",
              "</table>\n",
              "</div>"
            ],
            "text/plain": [
              "                            name         inn  staff  ...   nalog     AKTIV     SALE\n",
              "0  \"Сибирская Интернет Компания\"  7708119944      0  ...     0.0   47403.0  52074.0\n",
              "1                      \"МЭЙЛ РУ\"  7743001840      0  ...     0.0  198742.0  45582.0\n",
              "2    \"Центр программ лояльности\"  7702770003    166  ...  1680.0    8723.0  32778.0\n",
              "\n",
              "[3 rows x 8 columns]"
            ]
          },
          "metadata": {
            "tags": []
          },
          "execution_count": 27
        }
      ]
    },
    {
      "cell_type": "code",
      "metadata": {
        "id": "8hRJAS6yM1Mx",
        "outputId": "18a133ee-a23d-4981-b53d-48b4eebc8b87",
        "colab": {
          "base_uri": "https://localhost:8080/",
          "height": 136
        }
      },
      "source": [
        "# разобьем все компании на группы / до 1млн / от 1млн до 10млн / от 10млн до 100млн / от 100млн до 1000 / больше 1000\n",
        "def grup(x):\n",
        "    \"\"\" ф. для разделения значений по группам\n",
        "    \"\"\"\n",
        "    if x < 1:\n",
        "        return '<_1' # group E\n",
        "    elif x >= 1 and x < 99:\n",
        "        return '1_100' # group D\n",
        "    elif x > 100 and x < 999:\n",
        "        return '100_1000' # group C\n",
        "    elif x >1000 and x < 9999:\n",
        "        return '1000_10000' # group B\n",
        "    else:\n",
        "        return '>_10000' # group A\n",
        "\n",
        "data_1['groups'] = data_1['SALE'].apply(grup)\n",
        "data_1.head(3)"
      ],
      "execution_count": 68,
      "outputs": [
        {
          "output_type": "execute_result",
          "data": {
            "text/html": [
              "<div>\n",
              "<style scoped>\n",
              "    .dataframe tbody tr th:only-of-type {\n",
              "        vertical-align: middle;\n",
              "    }\n",
              "\n",
              "    .dataframe tbody tr th {\n",
              "        vertical-align: top;\n",
              "    }\n",
              "\n",
              "    .dataframe thead th {\n",
              "        text-align: right;\n",
              "    }\n",
              "</style>\n",
              "<table border=\"1\" class=\"dataframe\">\n",
              "  <thead>\n",
              "    <tr style=\"text-align: right;\">\n",
              "      <th></th>\n",
              "      <th>name</th>\n",
              "      <th>inn</th>\n",
              "      <th>staff</th>\n",
              "      <th>income</th>\n",
              "      <th>expenses</th>\n",
              "      <th>nalog</th>\n",
              "      <th>AKTIV</th>\n",
              "      <th>SALE</th>\n",
              "      <th>groups</th>\n",
              "    </tr>\n",
              "  </thead>\n",
              "  <tbody>\n",
              "    <tr>\n",
              "      <th>0</th>\n",
              "      <td>\"Сибирская Интернет Компания\"</td>\n",
              "      <td>7708119944</td>\n",
              "      <td>0</td>\n",
              "      <td>0.0</td>\n",
              "      <td>0.0</td>\n",
              "      <td>0.0</td>\n",
              "      <td>47403.0</td>\n",
              "      <td>52074.0</td>\n",
              "      <td>&gt;_10000</td>\n",
              "    </tr>\n",
              "    <tr>\n",
              "      <th>1</th>\n",
              "      <td>\"МЭЙЛ РУ\"</td>\n",
              "      <td>7743001840</td>\n",
              "      <td>0</td>\n",
              "      <td>0.0</td>\n",
              "      <td>0.0</td>\n",
              "      <td>0.0</td>\n",
              "      <td>198742.0</td>\n",
              "      <td>45582.0</td>\n",
              "      <td>&gt;_10000</td>\n",
              "    </tr>\n",
              "    <tr>\n",
              "      <th>2</th>\n",
              "      <td>\"Центр программ лояльности\"</td>\n",
              "      <td>7702770003</td>\n",
              "      <td>166</td>\n",
              "      <td>33174.0</td>\n",
              "      <td>30617.0</td>\n",
              "      <td>1680.0</td>\n",
              "      <td>8723.0</td>\n",
              "      <td>32778.0</td>\n",
              "      <td>&gt;_10000</td>\n",
              "    </tr>\n",
              "  </tbody>\n",
              "</table>\n",
              "</div>"
            ],
            "text/plain": [
              "                            name         inn  staff  ...     AKTIV     SALE   groups\n",
              "0  \"Сибирская Интернет Компания\"  7708119944      0  ...   47403.0  52074.0  >_10000\n",
              "1                      \"МЭЙЛ РУ\"  7743001840      0  ...  198742.0  45582.0  >_10000\n",
              "2    \"Центр программ лояльности\"  7702770003    166  ...    8723.0  32778.0  >_10000\n",
              "\n",
              "[3 rows x 9 columns]"
            ]
          },
          "metadata": {
            "tags": []
          },
          "execution_count": 68
        }
      ]
    },
    {
      "cell_type": "code",
      "metadata": {
        "id": "R1sZ-vrCSEgS",
        "outputId": "3fe67e80-ab6f-4269-d287-7b34a33b0e32",
        "colab": {
          "base_uri": "https://localhost:8080/",
          "height": 166
        }
      },
      "source": [
        "# кол-во компаний в каждой группе\n",
        "data_1.groupby('groups', as_index=False).agg({'SALE':'count'}).rename(columns={'groups':'группа','SALE':'компаний в группе'})"
      ],
      "execution_count": 67,
      "outputs": [
        {
          "output_type": "execute_result",
          "data": {
            "text/html": [
              "<div>\n",
              "<style scoped>\n",
              "    .dataframe tbody tr th:only-of-type {\n",
              "        vertical-align: middle;\n",
              "    }\n",
              "\n",
              "    .dataframe tbody tr th {\n",
              "        vertical-align: top;\n",
              "    }\n",
              "\n",
              "    .dataframe thead th {\n",
              "        text-align: right;\n",
              "    }\n",
              "</style>\n",
              "<table border=\"1\" class=\"dataframe\">\n",
              "  <thead>\n",
              "    <tr style=\"text-align: right;\">\n",
              "      <th></th>\n",
              "      <th>группа</th>\n",
              "      <th>компаний в группе</th>\n",
              "    </tr>\n",
              "  </thead>\n",
              "  <tbody>\n",
              "    <tr>\n",
              "      <th>0</th>\n",
              "      <td>1000_10000</td>\n",
              "      <td>42</td>\n",
              "    </tr>\n",
              "    <tr>\n",
              "      <th>1</th>\n",
              "      <td>100_1000</td>\n",
              "      <td>305</td>\n",
              "    </tr>\n",
              "    <tr>\n",
              "      <th>2</th>\n",
              "      <td>1_100</td>\n",
              "      <td>1490</td>\n",
              "    </tr>\n",
              "    <tr>\n",
              "      <th>3</th>\n",
              "      <td>&gt;_10000</td>\n",
              "      <td>6</td>\n",
              "    </tr>\n",
              "  </tbody>\n",
              "</table>\n",
              "</div>"
            ],
            "text/plain": [
              "       группа  компаний в группе\n",
              "0  1000_10000                 42\n",
              "1    100_1000                305\n",
              "2       1_100               1490\n",
              "3     >_10000                  6"
            ]
          },
          "metadata": {
            "tags": []
          },
          "execution_count": 67
        }
      ]
    },
    {
      "cell_type": "code",
      "metadata": {
        "id": "UYqipQCvSSZd",
        "outputId": "6cd253a1-596e-4d06-e7c5-9b42e9b4fbf8",
        "colab": {
          "base_uri": "https://localhost:8080/",
          "height": 313
        }
      },
      "source": [
        "groups1 = data_1.groups.hist() # кол-во значений по группам\n",
        "groups1.set_title('Кол-во значений по группам')\n",
        "groups1.set_xlabel('Группы')\n",
        "groups1.set_ylabel('Кол-во компаний в группе')"
      ],
      "execution_count": 81,
      "outputs": [
        {
          "output_type": "execute_result",
          "data": {
            "text/plain": [
              "Text(0, 0.5, 'Кол-во компаний в группе')"
            ]
          },
          "metadata": {
            "tags": []
          },
          "execution_count": 81
        },
        {
          "output_type": "display_data",
          "data": {
            "image/png": "[encoded data removed]",
            "text/plain": [
              "<Figure size 432x288 with 1 Axes>"
            ]
          },
          "metadata": {
            "tags": [],
            "needs_background": "light"
          }
        }
      ]
    },
    {
      "cell_type": "code",
      "metadata": {
        "id": "kxSmZxaXSSVB",
        "outputId": "055cd94e-25d0-455f-e971-0653354797d5",
        "colab": {
          "base_uri": "https://localhost:8080/",
          "height": 434
        }
      },
      "source": [
        "#sns.distplot(data_1['groups'] == '>_10000')\n",
        "for i in data_1['groups'].unique():\n",
        "    sns.distplot(data_1['groups'] == i) # распределение значений по группам "
      ],
      "execution_count": 61,
      "outputs": [
        {
          "output_type": "stream",
          "text": [
            "/usr/local/lib/python3.6/dist-packages/seaborn/distributions.py:2551: FutureWarning: `distplot` is a deprecated function and will be removed in a future version. Please adapt your code to use either `displot` (a figure-level function with similar flexibility) or `histplot` (an axes-level function for histograms).\n",
            "  warnings.warn(msg, FutureWarning)\n",
            "/usr/local/lib/python3.6/dist-packages/seaborn/distributions.py:2551: FutureWarning: `distplot` is a deprecated function and will be removed in a future version. Please adapt your code to use either `displot` (a figure-level function with similar flexibility) or `histplot` (an axes-level function for histograms).\n",
            "  warnings.warn(msg, FutureWarning)\n",
            "/usr/local/lib/python3.6/dist-packages/seaborn/distributions.py:2551: FutureWarning: `distplot` is a deprecated function and will be removed in a future version. Please adapt your code to use either `displot` (a figure-level function with similar flexibility) or `histplot` (an axes-level function for histograms).\n",
            "  warnings.warn(msg, FutureWarning)\n",
            "/usr/local/lib/python3.6/dist-packages/seaborn/distributions.py:2551: FutureWarning: `distplot` is a deprecated function and will be removed in a future version. Please adapt your code to use either `displot` (a figure-level function with similar flexibility) or `histplot` (an axes-level function for histograms).\n",
            "  warnings.warn(msg, FutureWarning)\n"
          ],
          "name": "stderr"
        },
        {
          "output_type": "display_data",
          "data": {
            "image/png": "[encoded data removed]",
            "text/plain": [
              "<Figure size 432x288 with 1 Axes>"
            ]
          },
          "metadata": {
            "tags": [],
            "needs_background": "light"
          }
        }
      ]
    },
    {
      "cell_type": "markdown",
      "metadata": {
        "id": "pT2OTq06VPcy"
      },
      "source": [
        "### - группа компаний с выручкой более 10000 млн."
      ]
    },
    {
      "cell_type": "code",
      "metadata": {
        "id": "7acGC2uwSSQs",
        "outputId": "6c03b4fe-2e01-410c-8015-eda24089aa7a",
        "colab": {
          "base_uri": "https://localhost:8080/",
          "height": 282
        }
      },
      "source": [
        "data_groups_1 = data_1.query(\"groups == '>_10000'\")\n",
        "data_groups_1.SALE.hist() # распределение компаний в группе с выручкой более 10000 млн.руб."
      ],
      "execution_count": 83,
      "outputs": [
        {
          "output_type": "execute_result",
          "data": {
            "text/plain": [
              "<matplotlib.axes._subplots.AxesSubplot at 0x7f4bb3847908>"
            ]
          },
          "metadata": {
            "tags": []
          },
          "execution_count": 83
        },
        {
          "output_type": "display_data",
          "data": {
            "image/png": "[encoded data removed]",
            "text/plain": [
              "<Figure size 432x288 with 1 Axes>"
            ]
          },
          "metadata": {
            "tags": [],
            "needs_background": "light"
          }
        }
      ]
    },
    {
      "cell_type": "code",
      "metadata": {
        "id": "9tKIg_RoXnlk",
        "outputId": "a70531a4-22b5-4736-ed7b-80ff53dc8ea2",
        "colab": {
          "base_uri": "https://localhost:8080/",
          "height": 441
        }
      },
      "source": [
        "# совместное распределение по активам и персоналу в группе \n",
        "sns.jointplot(x='AKTIV', y='staff', data=data_groups_1, kind='reg');"
      ],
      "execution_count": 84,
      "outputs": [
        {
          "output_type": "display_data",
          "data": {
            "image/png": "[encoded data removed]",
            "text/plain": [
              "<Figure size 432x432 with 3 Axes>"
            ]
          },
          "metadata": {
            "tags": [],
            "needs_background": "light"
          }
        }
      ]
    },
    {
      "cell_type": "code",
      "metadata": {
        "id": "VFrNo7ZpXzgJ"
      },
      "source": [
        ""
      ],
      "execution_count": null,
      "outputs": []
    },
    {
      "cell_type": "code",
      "metadata": {
        "id": "FS54vRJ_XzF9"
      },
      "source": [
        ""
      ],
      "execution_count": null,
      "outputs": []
    },
    {
      "cell_type": "markdown",
      "metadata": {
        "id": "uDxuAJSRVZEl"
      },
      "source": [
        "### - группа компаний с выручкой от 1000 до  10000 млн."
      ]
    },
    {
      "cell_type": "code",
      "metadata": {
        "id": "bo1iBfykSSNX"
      },
      "source": [
        ""
      ],
      "execution_count": null,
      "outputs": []
    },
    {
      "cell_type": "markdown",
      "metadata": {
        "id": "kQ3pbU4iVe5p"
      },
      "source": [
        "### - группа компаний с выручкой от 100 до  1000 млн."
      ]
    },
    {
      "cell_type": "code",
      "metadata": {
        "id": "KcL3-jvKVeFY"
      },
      "source": [
        ""
      ],
      "execution_count": null,
      "outputs": []
    },
    {
      "cell_type": "markdown",
      "metadata": {
        "id": "Hh-4IqUSVib0"
      },
      "source": [
        "### - группа компаний с выручкой от 1 до  100 млн."
      ]
    },
    {
      "cell_type": "code",
      "metadata": {
        "id": "773FlJdaVeC1"
      },
      "source": [
        ""
      ],
      "execution_count": null,
      "outputs": []
    },
    {
      "cell_type": "code",
      "metadata": {
        "id": "jkQk-cW1Vd_T"
      },
      "source": [
        ""
      ],
      "execution_count": null,
      "outputs": []
    },
    {
      "cell_type": "code",
      "metadata": {
        "id": "eeMXP5dkVd8W"
      },
      "source": [
        ""
      ],
      "execution_count": null,
      "outputs": []
    },
    {
      "cell_type": "code",
      "metadata": {
        "id": "Qk89pTxsM1Ke"
      },
      "source": [
        "# выручка и персонал\n",
        "data_pers = data_1.loc[:,['SALE', 'staff']]\n",
        "data_pers[40:].plot() # интересно почему кол-во человек нигде почти не превышает линию обьема выручки / \n",
        "data_pers[685:700].plot() # "
      ],
      "execution_count": null,
      "outputs": []
    },
    {
      "cell_type": "code",
      "metadata": {
        "id": "VC0lTTfMM1IO"
      },
      "source": [
        ""
      ],
      "execution_count": null,
      "outputs": []
    },
    {
      "cell_type": "code",
      "metadata": {
        "id": "cHyJJVHnM1Fy"
      },
      "source": [
        "# анализ продолжится дальше"
      ],
      "execution_count": null,
      "outputs": []
    },
    {
      "cell_type": "code",
      "metadata": {
        "id": "necJjIaZM1Cv"
      },
      "source": [
        ""
      ],
      "execution_count": null,
      "outputs": []
    }
  ]
}