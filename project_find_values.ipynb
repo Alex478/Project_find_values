{
  "nbformat": 4,
  "nbformat_minor": 0,
  "metadata": {
    "colab": {
      "name": "project_find_values.ipynb",
      "provenance": [],
      "collapsed_sections": []
    },
    "kernelspec": {
      "name": "python3",
      "display_name": "Python 3"
    }
  },
  "cells": [
    {
      "cell_type": "code",
      "metadata": {
        "id": "cTlGKi8xEnk6"
      },
      "source": [
        "import requests\n",
        "import pandas as pd\n",
        "import numpy as np\n",
        "import re"
      ],
      "execution_count": null,
      "outputs": []
    },
    {
      "cell_type": "code",
      "metadata": {
        "id": "zSm9gOR3Enhh",
        "outputId": "503fd9dc-24c7-44b4-a1b4-59f77aafe890",
        "colab": {
          "base_uri": "https://localhost:8080/",
          "height": 34
        }
      },
      "source": [
        "url = 'https://www.testfirm.ru/result/6685124446_ooo-skb-lab'\n",
        "text = requests.get(url) # \n",
        "try:\n",
        "  text.status_code == 200\n",
        "  print('Жги дальше')\n",
        "except:\n",
        "  print('ОШИБКА! Проверяй!')"
      ],
      "execution_count": null,
      "outputs": [
        {
          "output_type": "stream",
          "text": [
            "Жги дальше\n"
          ],
          "name": "stdout"
        }
      ]
    },
    {
      "cell_type": "code",
      "metadata": {
        "id": "htSS1sMOEne4",
        "outputId": "f6f87cea-326e-4917-880b-e3532cc353d8",
        "colab": {
          "base_uri": "https://localhost:8080/",
          "height": 322
        }
      },
      "source": [
        "#print(text.status_code) # код ответ - получен успешный ответ от сервера\n",
        "#print(text.content) # покажет информацию в виде байтов - если надо найти картинку\n",
        "#print('Кодировка - ', text.encoding)\n",
        "text_write = text.text\n",
        "print(text_write[:1000])\n",
        "#print(text.text) # покажет весь текст - код страницы\n",
        "#text.headers['Content-Type'] # покажет метаданные(служебные данные) в виде словаря"
      ],
      "execution_count": null,
      "outputs": [
        {
          "output_type": "stream",
          "text": [
            "<!DOCTYPE html>\n",
            "<html>\n",
            "<head>\n",
            "\t<meta charset=\"utf-8\">\n",
            "\t<title>Сравнение финансовых показателей ООО &quot;СКБ ЛАБ&quot; с отраслевыми данными</title>\n",
            "\t<meta name=\"viewport\" content=\"initial-scale=1, maximum-scale=1, user-scalable=no\">\n",
            "\t<meta name=\"keywords\" content=\"сравнительный анализ, финансовый анализ, отраслевой анализ, отраслевые коэффициенты, ООО СКБ ЛАБ\">\n",
            "    <link rel=\"stylesheet\" type=\"text/css\" href=\"/bootstrap/css/bootstrap.min.css\">\n",
            "\t<link href=\"//fonts.googleapis.com/css?family=Open+Sans:400,300,600,800,700,400italic,600italic,700italic,800italic,300italic&subset=latin,cyrillic\" rel=\"stylesheet\" type=\"text/css\">\n",
            "    <link rel=\"stylesheet\" type=\"text/css\" href=\"/css/font-awesome.min.css\">\n",
            "    <link rel=\"stylesheet\" type=\"text/css\" href=\"/css/main.css?v=81\">\n",
            "\t<link rel=\"icon\" type=\"image/png\" href=\"/favicon.png\">\n",
            "\t<script src=\"/js/jquery-1.10.1.min.js\"></script>\n",
            "\t\n",
            "\t\t<script>\n",
            "\t\t\t(function(i,s,o,g,r,a,m){i[\"GoogleAnalyticsObject\"]=r;i[r]=i[r]||function(){\n",
            "\t\t\t(i[r].q=i[r].q||[]\n"
          ],
          "name": "stdout"
        }
      ]
    },
    {
      "cell_type": "code",
      "metadata": {
        "id": "RyLNy4Joon3D",
        "outputId": "eee768a2-8f9e-40d2-f082-80ccde2c5c63",
        "colab": {
          "base_uri": "https://localhost:8080/",
          "height": 34
        }
      },
      "source": [
        "# \n",
        "a1 = text_write.split('Выручка за ')[1]\n",
        "a2 = a1[:100].split(' ')\n",
        "a2[2][3:] # выручка - цифры\n",
        "a2[3][4:] # выручка - описание\n",
        "if a2[3][4:] == 'млн.':\n",
        "  a3 = int(a2[2][3:]) * 1000000\n",
        "elif  a2[3][4:] == 'тыс.':\n",
        "  a3 = int(a2[2][3:]) * 1000\n",
        "a3  "
      ],
      "execution_count": null,
      "outputs": [
        {
          "output_type": "execute_result",
          "data": {
            "text/plain": [
              "299000000"
            ]
          },
          "metadata": {
            "tags": []
          },
          "execution_count": 197
        }
      ]
    },
    {
      "cell_type": "code",
      "metadata": {
        "id": "GQpMWCXN3RMP"
      },
      "source": [
        ""
      ],
      "execution_count": null,
      "outputs": []
    },
    {
      "cell_type": "code",
      "metadata": {
        "id": "JMEuinR23RHy"
      },
      "source": [
        ""
      ],
      "execution_count": null,
      "outputs": []
    },
    {
      "cell_type": "code",
      "metadata": {
        "id": "TI01yusLuYQs"
      },
      "source": [
        ""
      ],
      "execution_count": null,
      "outputs": []
    },
    {
      "cell_type": "markdown",
      "metadata": {
        "id": "1lJlKu8c1OUy"
      },
      "source": [
        "# Заполнение таблицы "
      ]
    },
    {
      "cell_type": "code",
      "metadata": {
        "id": "ytxu9OSC3dyP"
      },
      "source": [
        "stroka = [] # строка в данными"
      ],
      "execution_count": null,
      "outputs": []
    },
    {
      "cell_type": "code",
      "metadata": {
        "id": "o_8f5b55vAqA"
      },
      "source": [
        "# название фирмы, правовая форма\n",
        "a1 = text_write.split('Сравнение финансовых показателей')[1]\n",
        "a2 = a1.split('&quot;')\n",
        "a2[:2]\n",
        "stroka.append(a2[1]) # название \n",
        "stroka.append(a2[0][1:-1].strip()) # правовая форма   strip() - убрал пробелы"
      ],
      "execution_count": null,
      "outputs": []
    },
    {
      "cell_type": "code",
      "metadata": {
        "id": "RxZC4Js4vAw6",
        "outputId": "bced84e3-4eef-4988-ae6c-7be5205f5aa3",
        "colab": {
          "base_uri": "https://localhost:8080/",
          "height": 34
        }
      },
      "source": [
        "# ИНН \n",
        "a1 = text_write.split('ИНН: ')[1]\n",
        "a3 = int(a1[:10]) # ИНН\n",
        "stroka.append(a3) # правовая форма"
      ],
      "execution_count": null,
      "outputs": [
        {
          "output_type": "execute_result",
          "data": {
            "text/plain": [
              "['СКБ ЛАБ', 'ООО', 6685124446]"
            ]
          },
          "metadata": {
            "tags": []
          },
          "execution_count": 10
        }
      ]
    },
    {
      "cell_type": "code",
      "metadata": {
        "id": "3b8nAZi4vAu6",
        "outputId": "c291b165-22be-4c37-ef91-aad37658c232",
        "colab": {
          "base_uri": "https://localhost:8080/",
          "height": 34
        }
      },
      "source": [
        "# Область\n",
        "a1 = text_write.split('result-region\">(')[1]\n",
        "a4 = a1[:100].split(')')[0] # Область \n",
        "stroka.append(a4) # правовая форма"
      ],
      "execution_count": null,
      "outputs": [
        {
          "output_type": "execute_result",
          "data": {
            "text/plain": [
              "['СКБ ЛАБ', 'ООО', 6685124446, 'Свердловская область']"
            ]
          },
          "metadata": {
            "tags": []
          },
          "execution_count": 11
        }
      ]
    },
    {
      "cell_type": "code",
      "metadata": {
        "id": "K5OMfU6ovAfx",
        "outputId": "f4e861b1-05fb-491b-cd11-5091d1ec29ac",
        "colab": {
          "base_uri": "https://localhost:8080/",
          "height": 34
        }
      },
      "source": [
        "# год\n",
        "a1 = text_write.split('Последний год, за который есть отчетность в базе ФНС:')[1]\n",
        "a5 = int(a1.split('<b>')[1][:4])\n",
        "stroka.append(a5)   # год "
      ],
      "execution_count": null,
      "outputs": [
        {
          "output_type": "execute_result",
          "data": {
            "text/plain": [
              "['СКБ ЛАБ', 'ООО', 6685124446, 'Свердловская область', 2019]"
            ]
          },
          "metadata": {
            "tags": []
          },
          "execution_count": 12
        }
      ]
    },
    {
      "cell_type": "code",
      "metadata": {
        "id": "_ZlmAbC4Ao1T",
        "outputId": "60c5508c-116e-484b-c261-9aaf6d9e1bc0",
        "colab": {
          "base_uri": "https://localhost:8080/",
          "height": 34
        }
      },
      "source": [
        "a1 = text_write.split('Активы на ')[1]\n",
        "a6 = a1.split(' ')[:3] # дата выкладывания данных\n",
        "#stroka.append(a6)\n",
        "a7 = int(a1.split(' ')[3][3:]) # активы на конец года  - цифры\n",
        "a8 = a1.split(' ')[4][4:] # активы на конец года  - описание\n",
        "if a8 == 'млн.':\n",
        "  a7 = a7 * 1000000\n",
        "elif a8 == 'тыс.':\n",
        "  a7 = a7 * 1000\n",
        "stroka.append(a7)"
      ],
      "execution_count": null,
      "outputs": [
        {
          "output_type": "execute_result",
          "data": {
            "text/plain": [
              "['СКБ ЛАБ', 'ООО', 6685124446, 'Свердловская область', 2019, 545000000]"
            ]
          },
          "metadata": {
            "tags": []
          },
          "execution_count": 13
        }
      ]
    },
    {
      "cell_type": "code",
      "metadata": {
        "id": "N9sjs2fbAo9H"
      },
      "source": [
        "a1 = text_write.split('Выручка за ')[1]\n",
        "a2 = a1[:100].split(' ')\n",
        "a2[2][3:] # выручка - цифры\n",
        "a2[3][4:] # выручка - описание\n",
        "if a2[3][4:] == 'млн.':\n",
        "  a3 = int(a2[2][3:]) * 1000000\n",
        "elif  a2[3][4:] == 'тыс.':\n",
        "  a3 = int(a2[2][3:]) * 1000\n",
        "stroka.append(a3)"
      ],
      "execution_count": null,
      "outputs": []
    },
    {
      "cell_type": "code",
      "metadata": {
        "id": "vCqAy0UxAo69",
        "outputId": "06d70413-f1de-425c-ea41-fad6241b729b",
        "colab": {
          "base_uri": "https://localhost:8080/",
          "height": 34
        }
      },
      "source": [
        "print(stroka)"
      ],
      "execution_count": null,
      "outputs": [
        {
          "output_type": "stream",
          "text": [
            "['СКБ ЛАБ', 'ООО', 6685124446, 'Свердловская область', 2019, 545000000, 299000000]\n"
          ],
          "name": "stdout"
        }
      ]
    },
    {
      "cell_type": "code",
      "metadata": {
        "id": "LTMfVPi9AoxN"
      },
      "source": [
        ""
      ],
      "execution_count": null,
      "outputs": []
    },
    {
      "cell_type": "code",
      "metadata": {
        "id": "ktGPZmYnAouM"
      },
      "source": [
        ""
      ],
      "execution_count": null,
      "outputs": []
    }
  ]
}