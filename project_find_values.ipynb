{
  "nbformat": 4,
  "nbformat_minor": 0,
  "metadata": {
    "colab": {
      "name": "project_find_values.ipynb",
      "provenance": [],
      "collapsed_sections": [
        "0FnQWcRcQnCO"
      ]
    },
    "kernelspec": {
      "name": "python3",
      "display_name": "Python 3"
    }
  },
  "cells": [
    {
      "cell_type": "code",
      "metadata": {
        "id": "cTlGKi8xEnk6"
      },
      "source": [
        "import requests\n",
        "import pandas as pd\n",
        "import numpy as np\n",
        "import re"
      ],
      "execution_count": null,
      "outputs": []
    },
    {
      "cell_type": "code",
      "metadata": {
        "id": "mlHg88KM0ea9"
      },
      "source": [
        "# цель - анализ финансовых показателей компаний среди разработчиков информационных технологий"
      ],
      "execution_count": null,
      "outputs": []
    },
    {
      "cell_type": "markdown",
      "metadata": {
        "id": "BfIUm3ND0-Zs"
      },
      "source": [
        "# Создание списка компаний"
      ]
    },
    {
      "cell_type": "code",
      "metadata": {
        "id": "hQzrDjgGk1xf"
      },
      "source": [
        "url1 = 'https://www.testfirm.ru/'"
      ],
      "execution_count": null,
      "outputs": []
    },
    {
      "cell_type": "markdown",
      "metadata": {
        "id": "XvboWt9hEZ1n"
      },
      "source": [
        "## 1 вариант - Список из первых 50 фирм - с первой страницы фильтра"
      ]
    },
    {
      "cell_type": "code",
      "metadata": {
        "id": "XnUOD1py1HDx",
        "outputId": "54621692-9789-4c96-d17f-7952c6e0a616",
        "colab": {
          "base_uri": "https://localhost:8080/"
        }
      },
      "source": [
        "url_list = 'https://www.testfirm.ru/rating' # рейтинг по всем предприятиям \n",
        "k_1 = 63   #код деятельности\n",
        "k_2 = \"sverdlovskaya-oblast\"  #область\n",
        "url_list_copm = url_list + '/' + str(k_1) + '/' + k_2 + '/'\n",
        "text = requests.get(url_list_copm) # \n",
        "try:\n",
        "  text.status_code == 200\n",
        "  print('Список загружен нормально')\n",
        "except:\n",
        "  print('ОШИБКА! Проверяй!')"
      ],
      "execution_count": null,
      "outputs": [
        {
          "output_type": "stream",
          "text": [
            "Список загружен нормально\n"
          ],
          "name": "stdout"
        }
      ]
    },
    {
      "cell_type": "code",
      "metadata": {
        "id": "RNJ_QyVL9anl"
      },
      "source": [
        "# поиск названия компании\n",
        "text_write = text.text\n",
        "\n",
        "def find_komp(text_write, N):\n",
        "    \"\"\"ф. для поиска ИНН и названия по каждой компании - для формирования url-ссылки на информацию по этой компании\n",
        "    \"\"\"\n",
        "    firma_list = text_write.split('org-link\" href=\"/result/')\n",
        "    return firma_list[N].split('\"')[0]\n",
        "\n",
        "def find_komp_re(text_write, N):\n",
        "  \"\"\"  ф. для поиска ИНН и названия по каждой компании - с помощью регулярных выражений\n",
        "  \"\"\"\n",
        "  pass    "
      ],
      "execution_count": null,
      "outputs": []
    },
    {
      "cell_type": "markdown",
      "metadata": {
        "id": "y7237t6fEpQC"
      },
      "source": [
        "## 2 вариант - Список из всех фирм фильтра"
      ]
    },
    {
      "cell_type": "markdown",
      "metadata": {
        "id": "xCmFtZ94TdvE"
      },
      "source": [
        "### - загрузим страницу с рейтингом компаний"
      ]
    },
    {
      "cell_type": "code",
      "metadata": {
        "id": "dGTS0FzF4XEp",
        "outputId": "2b793df5-dffb-4243-be98-af487c30214b",
        "colab": {
          "base_uri": "https://localhost:8080/"
        }
      },
      "source": [
        "# Рейтинг организаций по выручке - Вид деятельности: 63 \"Деятельность в области информационных технологий\"\n",
        "url_list_all = url1 + 'rating/63/' # адрес страницы с рейтингом\n",
        "text_list_all = requests.get(url_list_all) # \n",
        "try:\n",
        "  text_list_all.status_code == 200\n",
        "  print('Список загружен нормально')\n",
        "except:\n",
        "  print('ОШИБКА! Проверяй!')"
      ],
      "execution_count": null,
      "outputs": [
        {
          "output_type": "stream",
          "text": [
            "Список загружен нормально\n"
          ],
          "name": "stdout"
        }
      ]
    },
    {
      "cell_type": "code",
      "metadata": {
        "id": "lornttG3lMUW"
      },
      "source": [
        "def find_name(url):\n",
        "    \"\"\" ф. находит инфу для url страницы с информацией по компании - состоит из ИНН и названия Компании\n",
        "    -  inn_firma \n",
        "    \"\"\"\n",
        "    text = requests.get(url)\n",
        "    text_find = text.text \n",
        "    text_find = text_find.split('class=\"org-link\"')[1].split('result/')[1].split('\">')[0]\n",
        "    return text_find\n",
        "\n",
        "def find_name_next(url, koef = 1):\n",
        "    \"\"\" ф. находит инфу для url страницы с информацией по следующей компании\n",
        "    \"\"\"\n",
        "    text = requests.get(url)\n",
        "    text_find = text.text \n",
        "    text_find = text_find.split('class=\"org-link\"')[koef].split('result/')[1].split('\">')[0]\n",
        "    return text_find  "
      ],
      "execution_count": null,
      "outputs": []
    },
    {
      "cell_type": "code",
      "metadata": {
        "id": "uAqjWmzPE3y7"
      },
      "source": [
        "#url_one = 'https://www.testfirm.ru/result/' + name #   https://www.testfirm.ru/result/7708119944_ooo-sibirskaya-internet-kompaniya\n",
        "\n",
        "def find_info_comp(url_one):\n",
        "    \"\"\" ф.собирает информацию по каждой компании и сохраняет данные в строку\n",
        "    \"\"\"\n",
        "    stroka = [] # собираем информацию сюда\n",
        "\n",
        "    text_one = requests.get(url_one)\n",
        "    text_write = text_one.text\n",
        "    a1 = text_write.split('Организация: ')[1]\n",
        " #   stroka.append(a1.replace(' &quot;', '').split('<')[0].split(' ')[0]) # правовая форма\n",
        "    if text_write.split('id=\"searchText\" name=\"s\" value=')[1].split('placeholder')[0]: # название\n",
        "        stroka.append(text_write.split('id=\"searchText\" name=\"s\" value=')[1].split('placeholder')[0])\n",
        "    else:\n",
        "        stroka.append(0)\n",
        "#    print(stroka[-1])\n",
        "    stroka.append(a1.split('ИНН: ')[1][:10]) # ИНН\n",
        "#    print(stroka[-1])\n",
        "    stroka.append(a1.split('<b>')[2].split('<')[0].rstrip()) # активы\n",
        "#    print(stroka[-1])\n",
        "    mln = a1.split('Активы на ')[1].split('/b>')[1][:5].rstrip() # млн или тыс\n",
        "    if mln in 'млн.':\n",
        "        stroka.append(1000000)\n",
        "    elif mln in 'тыс.':\n",
        "        stroka.append(1000)\n",
        "#    print(stroka[-1])\n",
        "    stroka.append(a1.split('Выручка')[1].split('b>')[1].split('<')[0].rstrip()) # выручка\n",
        "#    print(stroka[-1])\n",
        "    mln = a1.split('Выручка')[1].split('b>')[2].split('руб')[0].rstrip() # млн ии тыс\n",
        "    if mln in 'млн.':\n",
        "        stroka.append(1000000)\n",
        "    elif mln in 'тыс.':\n",
        "        stroka.append(1000)\n",
        "#    print(stroka[-1])\n",
        "    if 'численности ' in text_write:\n",
        "        stroka.append(a1.split('численности ')[1].split('b>')[1].split('<')[0]) # численность человек\n",
        "#        print(stroka[-1])\n",
        "    else:\n",
        "        stroka.append(0) \n",
        "    if 'Дополнительные данные ФНС' in text_write:\n",
        "        stroka.append(a1.split('Дополнительные данные ФНС')[1].split('padding-left:12px\"><b>')[1].split('<')[0].rstrip()) # доходы \n",
        "#        print(stroka[-1])\n",
        "        stroka.append(a1.split('Дополнительные данные ФНС')[1].split('padding-left:12px\"><b>')[2].split('<')[0].rstrip()) # расходы\n",
        "#        print(stroka[-1])\n",
        "    else:\n",
        "        stroka.append(0)\n",
        "        stroka.append(0)\n",
        "    if \"Уплачено налогов\" in text_write:\n",
        "        stroka.append(text_write.split(\"Уплачено налогов\")[1].split('b>')[1].split('<')[0].rstrip()) # налоги уплаченные\n",
        "    else:\n",
        "        stroka.append(0)\n",
        "    return stroka\n"
      ],
      "execution_count": null,
      "outputs": []
    },
    {
      "cell_type": "code",
      "metadata": {
        "id": "9bL5TkcbWQ1J",
        "outputId": "9b7caf8f-f7e2-4123-de4d-bcf297bf3799",
        "colab": {
          "base_uri": "https://localhost:8080/"
        }
      },
      "source": [
        "# проверка\n",
        "Table_find_values = [] \n",
        "\n",
        "name = find_name(url_list_all)      # ф. найдет определитель компании - inn_firma\n",
        "url_one = url1 + 'result/' + name   # url страницы с информацией о компании\n",
        "text_one = requests.get(url_one)    # создат объект Response\n",
        "a = find_info_comp(url_one)             # ф. покажет инф. о компании\n",
        "#print(a)\n",
        "Table_find_values.append(a)\n",
        "inn = name.split('_')[0]            # выделить инн\n",
        "url_1 = url1 + 'rating/63_11/' + inn + '/' # url страницы с местом в рейтинге  / вернутся в рейтинг фирм\n",
        "#print(url_1)\n",
        "#print('\\t \\t 1')\n",
        "\n",
        "name_next_1 = requests.get(url_1).text.split(name)[1].split('href=\"/result/')[1].split('\">')[0] # найти name следующей компании\n",
        "inn_next = name_next_1.split('_')[0]\n",
        "url_next_company = url1 + 'result/' + name_next_1\n",
        "a = find_info_comp(url_next_company) #  ф. покажет инф. о компании\n",
        "#print(a)\n",
        "Table_find_values.append(a)\n",
        "url_1 = url1 + 'rating/63_11/' + inn_next + '/' # url страницы с местом в рейтинге  / вернутся в рейтинг фирм\n",
        "#print(url_1)\n",
        "#print('\\t \\t 2')\n",
        "\n",
        "for i in range(6000):\n",
        "    name_next_1 = requests.get(url_1).text.split(name_next_1)[1].split('href=\"/result/')[1].split('\">')[0] # найти name следующей компании\n",
        "    inn_next = name_next_1.split('_')[0]\n",
        "    url_next_company = url1 + 'result/' + name_next_1\n",
        "    a = find_info_comp(url_next_company) #  ф. покажет инф. о компании\n",
        " #   print(a)\n",
        "    Table_find_values.append(a)\n",
        "    url_1 = url1 + 'rating/63_11/' + inn_next + '/' # url страницы с местом в рейтинге  / вернутся в рейтинг фирм \n",
        " #   print(url_1)\n",
        "    if (i - 3) % 100 == 0:\n",
        "        print('\\t \\t', i + 3)\n"
      ],
      "execution_count": null,
      "outputs": [
        {
          "output_type": "stream",
          "text": [
            "\t \t 6\n",
            "\t \t 106\n",
            "\t \t 206\n",
            "\t \t 306\n",
            "\t \t 406\n",
            "\t \t 506\n",
            "\t \t 606\n",
            "\t \t 706\n",
            "\t \t 806\n",
            "\t \t 906\n",
            "\t \t 1006\n",
            "\t \t 1106\n",
            "\t \t 1206\n",
            "\t \t 1306\n",
            "\t \t 1406\n",
            "\t \t 1506\n",
            "\t \t 1606\n",
            "\t \t 1706\n",
            "\t \t 1806\n",
            "\t \t 1906\n",
            "\t \t 2006\n",
            "\t \t 2106\n",
            "\t \t 2206\n",
            "\t \t 2306\n",
            "\t \t 2406\n",
            "\t \t 2506\n",
            "\t \t 2606\n",
            "\t \t 2706\n",
            "\t \t 2806\n",
            "\t \t 2906\n",
            "\t \t 3006\n",
            "\t \t 3106\n",
            "\t \t 3206\n",
            "\t \t 3306\n",
            "\t \t 3406\n",
            "\t \t 3506\n",
            "\t \t 3606\n",
            "\t \t 3706\n",
            "\t \t 3806\n",
            "\t \t 3906\n",
            "\t \t 4006\n",
            "\t \t 4106\n",
            "\t \t 4206\n",
            "\t \t 4306\n",
            "\t \t 4406\n",
            "\t \t 4506\n",
            "\t \t 4606\n",
            "\t \t 4706\n",
            "\t \t 4806\n",
            "\t \t 4906\n",
            "\t \t 5006\n",
            "\t \t 5106\n",
            "\t \t 5206\n",
            "\t \t 5306\n",
            "\t \t 5406\n",
            "\t \t 5506\n",
            "\t \t 5606\n",
            "\t \t 5706\n",
            "\t \t 5806\n",
            "\t \t 5906\n"
          ],
          "name": "stdout"
        }
      ]
    },
    {
      "cell_type": "markdown",
      "metadata": {
        "id": "0FnQWcRcQnCO"
      },
      "source": [
        "### - найдем информацию для поиска компании"
      ]
    },
    {
      "cell_type": "code",
      "metadata": {
        "id": "0umU8PilE3tB"
      },
      "source": [
        ""
      ],
      "execution_count": null,
      "outputs": []
    },
    {
      "cell_type": "code",
      "metadata": {
        "id": "O-E6unA9R716"
      },
      "source": [
        ""
      ],
      "execution_count": null,
      "outputs": []
    },
    {
      "cell_type": "markdown",
      "metadata": {
        "id": "AIbCbhHWQ8Ka"
      },
      "source": [
        "### - определим функцию для поиска информации по каждой компании "
      ]
    },
    {
      "cell_type": "markdown",
      "metadata": {
        "id": "2vGpTrm71JV8"
      },
      "source": [
        "# Сбор данных по каждой компании"
      ]
    },
    {
      "cell_type": "code",
      "metadata": {
        "id": "zCYuqp2-1G2K"
      },
      "source": [
        "def find_info_comp_re(List_all_komp, n_comp):\n",
        "    \"\"\" ф.собирает информацию по каждой компании и сохраняет данные в строку с помощью регулярных выражений\n",
        "    \"\"\"\n",
        "    pass\n"
      ],
      "execution_count": null,
      "outputs": []
    },
    {
      "cell_type": "markdown",
      "metadata": {
        "id": "U1ZmhjNB1iKV"
      },
      "source": [
        "# Анализ данных"
      ]
    },
    {
      "cell_type": "code",
      "metadata": {
        "id": "iMQhIFRP1l30",
        "outputId": "e54d60d9-a604-42e9-e06e-f97b1809d651",
        "colab": {
          "base_uri": "https://localhost:8080/",
          "height": 246
        }
      },
      "source": [
        "data = pd.DataFrame(Table_find_values)\n",
        "data.columns = ['Наименование', 'ИНН', 'Активы', 'ед.изм.', 'Выручка', 'ед.изм.', 'Численность персонала', 'Доходы', 'Расходы', 'Налоги'] \n",
        "data.head()"
      ],
      "execution_count": null,
      "outputs": [
        {
          "output_type": "execute_result",
          "data": {
            "text/html": [
              "<div>\n",
              "<style scoped>\n",
              "    .dataframe tbody tr th:only-of-type {\n",
              "        vertical-align: middle;\n",
              "    }\n",
              "\n",
              "    .dataframe tbody tr th {\n",
              "        vertical-align: top;\n",
              "    }\n",
              "\n",
              "    .dataframe thead th {\n",
              "        text-align: right;\n",
              "    }\n",
              "</style>\n",
              "<table border=\"1\" class=\"dataframe\">\n",
              "  <thead>\n",
              "    <tr style=\"text-align: right;\">\n",
              "      <th></th>\n",
              "      <th>Наименование</th>\n",
              "      <th>ИНН</th>\n",
              "      <th>Активы</th>\n",
              "      <th>ед.изм.</th>\n",
              "      <th>Выручка</th>\n",
              "      <th>ед.изм.</th>\n",
              "      <th>Численность персонала</th>\n",
              "      <th>Доходы</th>\n",
              "      <th>Расходы</th>\n",
              "      <th>Налоги</th>\n",
              "    </tr>\n",
              "  </thead>\n",
              "  <tbody>\n",
              "    <tr>\n",
              "      <th>0</th>\n",
              "      <td>\"Сибирская Интернет Компания\"</td>\n",
              "      <td>7708119944</td>\n",
              "      <td>47 403</td>\n",
              "      <td>1000000</td>\n",
              "      <td>52 074</td>\n",
              "      <td>1000000</td>\n",
              "      <td>0</td>\n",
              "      <td>0</td>\n",
              "      <td>0</td>\n",
              "      <td>0</td>\n",
              "    </tr>\n",
              "    <tr>\n",
              "      <th>1</th>\n",
              "      <td>\"МЭЙЛ РУ\"</td>\n",
              "      <td>7743001840</td>\n",
              "      <td>198 742</td>\n",
              "      <td>1000000</td>\n",
              "      <td>45 582</td>\n",
              "      <td>1000000</td>\n",
              "      <td>0</td>\n",
              "      <td>0</td>\n",
              "      <td>0</td>\n",
              "      <td>0</td>\n",
              "    </tr>\n",
              "    <tr>\n",
              "      <th>2</th>\n",
              "      <td>\"Центр программ лояльности\"</td>\n",
              "      <td>7702770003</td>\n",
              "      <td>8 723</td>\n",
              "      <td>1000000</td>\n",
              "      <td>32 778</td>\n",
              "      <td>1000000</td>\n",
              "      <td>166</td>\n",
              "      <td>33 174</td>\n",
              "      <td>30 617</td>\n",
              "      <td>1 680</td>\n",
              "    </tr>\n",
              "    <tr>\n",
              "      <th>3</th>\n",
              "      <td>\"НАЦИОНАЛЬНАЯ СИСТЕМА ПЛАТЕЖНЫХ КАРТ\"</td>\n",
              "      <td>7706812159</td>\n",
              "      <td>23 191</td>\n",
              "      <td>1000000</td>\n",
              "      <td>16 171</td>\n",
              "      <td>1000000</td>\n",
              "      <td>0</td>\n",
              "      <td>0</td>\n",
              "      <td>0</td>\n",
              "      <td>0</td>\n",
              "    </tr>\n",
              "    <tr>\n",
              "      <th>4</th>\n",
              "      <td>\"Платежная система Виза\"</td>\n",
              "      <td>7710759236</td>\n",
              "      <td>3 079</td>\n",
              "      <td>1000000</td>\n",
              "      <td>15 036</td>\n",
              "      <td>1000000</td>\n",
              "      <td>0</td>\n",
              "      <td>0</td>\n",
              "      <td>0</td>\n",
              "      <td>0</td>\n",
              "    </tr>\n",
              "  </tbody>\n",
              "</table>\n",
              "</div>"
            ],
            "text/plain": [
              "                             Наименование         ИНН  ... Расходы  Налоги\n",
              "0          \"Сибирская Интернет Компания\"   7708119944  ...       0       0\n",
              "1                              \"МЭЙЛ РУ\"   7743001840  ...       0       0\n",
              "2            \"Центр программ лояльности\"   7702770003  ...  30 617   1 680\n",
              "3  \"НАЦИОНАЛЬНАЯ СИСТЕМА ПЛАТЕЖНЫХ КАРТ\"   7706812159  ...       0       0\n",
              "4               \"Платежная система Виза\"   7710759236  ...       0       0\n",
              "\n",
              "[5 rows x 10 columns]"
            ]
          },
          "metadata": {
            "tags": []
          },
          "execution_count": 25
        }
      ]
    },
    {
      "cell_type": "code",
      "metadata": {
        "id": "K4ZlI3LT1msQ",
        "outputId": "3a13d493-e98b-4361-e9ce-296c005cc5b5",
        "colab": {
          "base_uri": "https://localhost:8080/"
        }
      },
      "source": [
        "data.shape"
      ],
      "execution_count": null,
      "outputs": [
        {
          "output_type": "execute_result",
          "data": {
            "text/plain": [
              "(6002, 10)"
            ]
          },
          "metadata": {
            "tags": []
          },
          "execution_count": 26
        }
      ]
    },
    {
      "cell_type": "code",
      "metadata": {
        "id": "896KDX611moK"
      },
      "source": [
        "data.to_csv('data_find_values.csv')"
      ],
      "execution_count": null,
      "outputs": []
    },
    {
      "cell_type": "code",
      "metadata": {
        "id": "e2x9jgp3Mqka",
        "outputId": "2168d8a0-b04e-43de-b5e9-e505836697e0",
        "colab": {
          "base_uri": "https://localhost:8080/",
          "height": 284
        }
      },
      "source": [
        "data.describe()"
      ],
      "execution_count": null,
      "outputs": [
        {
          "output_type": "execute_result",
          "data": {
            "text/html": [
              "<div>\n",
              "<style scoped>\n",
              "    .dataframe tbody tr th:only-of-type {\n",
              "        vertical-align: middle;\n",
              "    }\n",
              "\n",
              "    .dataframe tbody tr th {\n",
              "        vertical-align: top;\n",
              "    }\n",
              "\n",
              "    .dataframe thead th {\n",
              "        text-align: right;\n",
              "    }\n",
              "</style>\n",
              "<table border=\"1\" class=\"dataframe\">\n",
              "  <thead>\n",
              "    <tr style=\"text-align: right;\">\n",
              "      <th></th>\n",
              "      <th>ед.изм.</th>\n",
              "      <th>ед.изм.</th>\n",
              "    </tr>\n",
              "  </thead>\n",
              "  <tbody>\n",
              "    <tr>\n",
              "      <th>count</th>\n",
              "      <td>6002.000000</td>\n",
              "      <td>6002.0</td>\n",
              "    </tr>\n",
              "    <tr>\n",
              "      <th>mean</th>\n",
              "      <td>999334.221926</td>\n",
              "      <td>1000000.0</td>\n",
              "    </tr>\n",
              "    <tr>\n",
              "      <th>std</th>\n",
              "      <td>25783.323974</td>\n",
              "      <td>0.0</td>\n",
              "    </tr>\n",
              "    <tr>\n",
              "      <th>min</th>\n",
              "      <td>1000.000000</td>\n",
              "      <td>1000000.0</td>\n",
              "    </tr>\n",
              "    <tr>\n",
              "      <th>25%</th>\n",
              "      <td>1000000.000000</td>\n",
              "      <td>1000000.0</td>\n",
              "    </tr>\n",
              "    <tr>\n",
              "      <th>50%</th>\n",
              "      <td>1000000.000000</td>\n",
              "      <td>1000000.0</td>\n",
              "    </tr>\n",
              "    <tr>\n",
              "      <th>75%</th>\n",
              "      <td>1000000.000000</td>\n",
              "      <td>1000000.0</td>\n",
              "    </tr>\n",
              "    <tr>\n",
              "      <th>max</th>\n",
              "      <td>1000000.000000</td>\n",
              "      <td>1000000.0</td>\n",
              "    </tr>\n",
              "  </tbody>\n",
              "</table>\n",
              "</div>"
            ],
            "text/plain": [
              "              ед.изм.    ед.изм.\n",
              "count     6002.000000     6002.0\n",
              "mean    999334.221926  1000000.0\n",
              "std      25783.323974        0.0\n",
              "min       1000.000000  1000000.0\n",
              "25%    1000000.000000  1000000.0\n",
              "50%    1000000.000000  1000000.0\n",
              "75%    1000000.000000  1000000.0\n",
              "max    1000000.000000  1000000.0"
            ]
          },
          "metadata": {
            "tags": []
          },
          "execution_count": 28
        }
      ]
    }
  ]
}