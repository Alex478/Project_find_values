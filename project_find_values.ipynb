{
  "nbformat": 4,
  "nbformat_minor": 0,
  "metadata": {
    "colab": {
      "name": "project_find_values.ipynb",
      "provenance": [],
      "collapsed_sections": [
        "0FnQWcRcQnCO"
      ]
    },
    "kernelspec": {
      "name": "python3",
      "display_name": "Python 3"
    }
  },
  "cells": [
    {
      "cell_type": "code",
      "metadata": {
        "id": "cTlGKi8xEnk6"
      },
      "source": [
        "import requests\n",
        "import pandas as pd\n",
        "import numpy as np\n",
        "import re"
      ],
      "execution_count": 121,
      "outputs": []
    },
    {
      "cell_type": "code",
      "metadata": {
        "id": "mlHg88KM0ea9"
      },
      "source": [
        "# цель - анализ финансовых показателей компаний в Свердловской области среди разработчиков информационных технологий\n",
        "#"
      ],
      "execution_count": 122,
      "outputs": []
    },
    {
      "cell_type": "markdown",
      "metadata": {
        "id": "BfIUm3ND0-Zs"
      },
      "source": [
        "# Создание списка компаний"
      ]
    },
    {
      "cell_type": "code",
      "metadata": {
        "id": "hQzrDjgGk1xf"
      },
      "source": [
        "url1 = 'https://www.testfirm.ru/'"
      ],
      "execution_count": 123,
      "outputs": []
    },
    {
      "cell_type": "markdown",
      "metadata": {
        "id": "XvboWt9hEZ1n"
      },
      "source": [
        "## 1 вариант - Список из первых 50 фирм - с первой страницы фильтра"
      ]
    },
    {
      "cell_type": "code",
      "metadata": {
        "id": "XnUOD1py1HDx",
        "outputId": "f4994d0e-ee39-4448-b20b-fea6168fb0c0",
        "colab": {
          "base_uri": "https://localhost:8080/"
        }
      },
      "source": [
        "url_list = 'https://www.testfirm.ru/rating' # рейтинг по всем предприятиям / #'https://www.testfirm.ru/rating/63/sverdlovskaya-oblast/'\n",
        "k_1 = 63   #код деятельности\n",
        "k_2 = \"sverdlovskaya-oblast\"  #область\n",
        "url_list_copm = url_list + '/' + str(k_1) + '/' + k_2 + '/'\n",
        "text = requests.get(url_list_copm) # \n",
        "try:\n",
        "  text.status_code == 200\n",
        "  print('Список загружен нормально')\n",
        "except:\n",
        "  print('ОШИБКА! Проверяй!')"
      ],
      "execution_count": 124,
      "outputs": [
        {
          "output_type": "stream",
          "text": [
            "Список загружен нормально\n"
          ],
          "name": "stdout"
        }
      ]
    },
    {
      "cell_type": "code",
      "metadata": {
        "id": "RNJ_QyVL9anl",
        "outputId": "61147513-f2e0-4a8c-911d-be6132b99d22",
        "colab": {
          "base_uri": "https://localhost:8080/"
        }
      },
      "source": [
        "# поиск названия компании\n",
        "text_write = text.text\n",
        "\n",
        "def find_komp(text_write, N):\n",
        "    \"\"\"ф. для поиска ИНН и названия по каждой компании - для формирования url-ссылки на информацию по этой компании\n",
        "    \"\"\"\n",
        "    firma_list = text_write.split('org-link\" href=\"/result/')\n",
        "    return firma_list[N].split('\"')[0]\n",
        "\n",
        "List_all_komp = [] # список для url для каждой компании\n",
        "for i in range(1, 51): # страница содержит список из 50 компаний на странице\n",
        "    b = find_komp(text_write, i) \n",
        "    List_all_komp.append(b) # \n",
        "    print(i,'\\t', List_all_komp[-1])\n",
        "def find_komp_re(text_write, N):\n",
        "  \"\"\"  ф. для поиска ИНН и названия по каждой компании - с помощью регулярных выражений\n",
        "  \"\"\"\n",
        "  pass    "
      ],
      "execution_count": 125,
      "outputs": [
        {
          "output_type": "stream",
          "text": [
            "1 \t 6671042458_ooo-bit\n",
            "2 \t 6671332911_ao-regionalnyy-informatsionnyy-tsentr\n",
            "3 \t 6670320529_ooo-miralodzhik-it\n",
            "4 \t 6673240328_ooo-sertum-pro\n",
            "5 \t 6672258403_ooo-tekhkonsur-ooo-tekhkonsur\n",
            "6 \t 6673204560_ooo-ekspertbizneskonsalting\n",
            "7 \t 6670020959_ooo-kae-ekspert\n",
            "8 \t 6674301774_ooo-kompaniya-informatsionnykh-tekhnologiy\n",
            "9 \t 6660075589_ooo-siams\n",
            "10 \t 6678074441_ooo-ekstensiv-servis\n",
            "11 \t 6670419574_ooo-smartpeydzh\n",
            "12 \t 6659208481_ooo-boksberri-region\n",
            "13 \t 6671218373_ooo-konsultantplyus-ekaterinburg\n",
            "14 \t 6670237020_ooo-ntssoft\n",
            "15 \t 6671291239_ao-informatsionnaya-set\n",
            "16 \t 6671390568_ooo-plm-inzhiniring\n",
            "17 \t 6671341000_ooo-praymer\n",
            "18 \t 6658372383_ooo-konsultantplyusservis\n",
            "19 \t 6671142678_ooo-internet-pro\n",
            "20 \t 6625030240_pervouralskoe-mup-edinyy-raschetnyy-tsentr\n",
            "21 \t 6679077822_ooo-keysistems-ural\n",
            "22 \t 6670418517_ooo-profbizneskonsalting\n",
            "23 \t 6673174629_ooo-konsultant-sverdlovskaya-oblast\n",
            "24 \t 6674238593_ooo-konsultantplyus-sverdlovskaya-oblast\n",
            "25 \t 6672185480_ooo-ayteks\n",
            "26 \t 6658280140_ooo-strategion\n",
            "27 \t 6658396257_ooo-smartnat\n",
            "28 \t 6670413195_ooo-elving\n",
            "29 \t 6670385082_ooo-miralodzhik-sm\n",
            "30 \t 6679077830_ooo-npts-rits\n",
            "31 \t 6678073198_ooo-tss-monitoring\n",
            "32 \t 6678096445_ooo-sovremennye-informatsionnye-tekhnologii\n",
            "33 \t 6671274635_ooo-intellekt-tsentr\n",
            "34 \t 6685148510_ooo-dom-pro\n",
            "35 \t 6658453272_ooo-kompyuternyy-inzhiniring\n",
            "36 \t 6670310739_ooo-kompaniya-garant-ekaterinburg\n",
            "37 \t 6670378543_ooo-inelt\n",
            "38 \t 6658114216_ooo-ural-relkom-plyus\n",
            "39 \t 6658439944_ooo-edinyy-raschetnyy-tsentr-g-pervouralsk\n",
            "40 \t 6673174643_ooo-informatsionnye-elektronnye-tekhnologii\n",
            "41 \t 6674230403_ooo-rezhim\n",
            "42 \t 6658244470_ooo-ekstensiv\n",
            "43 \t 6686093695_ooo-tsentr-soprovozhdeniya-tekhno-link\n",
            "44 \t 6686007625_ooo-kontur-riserch\n",
            "45 \t 6659140843_ooo-mostinfo\n",
            "46 \t 6678086493_ooo-alyans-egida\n",
            "47 \t 6671458110_ooo-informatsionnoe-agentstvo-gorod\n",
            "48 \t 6671171750_ooo-asd\n",
            "49 \t 6659219726_ooo-soyuzekspresstrans-ural\n",
            "50 \t 6658220768_ooo-didzhit-pro-ural\n"
          ],
          "name": "stdout"
        }
      ]
    },
    {
      "cell_type": "markdown",
      "metadata": {
        "id": "y7237t6fEpQC"
      },
      "source": [
        "## 2 вариант - Список из всех фирм фильтра"
      ]
    },
    {
      "cell_type": "markdown",
      "metadata": {
        "id": "xCmFtZ94TdvE"
      },
      "source": [
        "### - загрузим страницу с рейтингом компаний"
      ]
    },
    {
      "cell_type": "code",
      "metadata": {
        "id": "dGTS0FzF4XEp",
        "outputId": "bfcb3dd5-a99f-493e-c00a-2de1d5b38e28",
        "colab": {
          "base_uri": "https://localhost:8080/"
        }
      },
      "source": [
        "# Рейтинг организаций по выручке - Вид деятельности: 63 \"Деятельность в области информационных технологий\"\n",
        "url_list_all = url1 + 'rating/63/' # адрес страницы с рейтингом\n",
        "text_list_all = requests.get(url_list_all) # \n",
        "try:\n",
        "  text_list_all.status_code == 200\n",
        "  print('Список загружен нормально')\n",
        "except:\n",
        "  print('ОШИБКА! Проверяй!')"
      ],
      "execution_count": 126,
      "outputs": [
        {
          "output_type": "stream",
          "text": [
            "Список загружен нормально\n"
          ],
          "name": "stdout"
        }
      ]
    },
    {
      "cell_type": "code",
      "metadata": {
        "id": "lornttG3lMUW"
      },
      "source": [
        "def find_name(url):\n",
        "    \"\"\" ф. находит инфу для url страницы с информацией по компании - состоит из ИНН и названия Компании\n",
        "    -  inn_firma \n",
        "    \"\"\"\n",
        "    text = requests.get(url)\n",
        "    text_find = text.text \n",
        "    text_find = text_find.split('class=\"org-link\"')[1].split('result/')[1].split('\">')[0]\n",
        "    return text_find\n",
        "\n",
        "def find_name_next(url, koef = 1):\n",
        "    \"\"\" ф. находит инфу для url страницы с информацией по следующей компании\n",
        "    \"\"\"\n",
        "    text = requests.get(url)\n",
        "    text_find = text.text \n",
        "    text_find = text_find.split('class=\"org-link\"')[koef].split('result/')[1].split('\">')[0]\n",
        "\n",
        "    return text_find  "
      ],
      "execution_count": 127,
      "outputs": []
    },
    {
      "cell_type": "code",
      "metadata": {
        "id": "uAqjWmzPE3y7",
        "outputId": "e5d82d8d-3772-4862-a00e-12ff30859f4c",
        "colab": {
          "base_uri": "https://localhost:8080/"
        }
      },
      "source": [
        "#url_one = 'https://www.testfirm.ru/result/' + name #   https://www.testfirm.ru/result/7708119944_ooo-sibirskaya-internet-kompaniya\n",
        "\n",
        "def find_info_comp(url_one):\n",
        "    \"\"\" ф.собирает информацию по каждой компании и сохраняет данные в строку\n",
        "    \"\"\"\n",
        "    stroka = [] # собираем информацию сюда\n",
        "\n",
        "    text_one = requests.get(url_one)\n",
        "    text_write = text_one.text\n",
        "    a1 = text_write.split('Организация: ')[1]\n",
        " #   stroka.append(a1.replace(' &quot;', '').split('<')[0].split(' ')[0]) # правовая форма\n",
        "    if text_write.split('id=\"searchText\" name=\"s\" value=')[1].split('placeholder')[0]: # название\n",
        "        stroka.append(text_write.split('id=\"searchText\" name=\"s\" value=')[1].split('placeholder')[0])\n",
        "    else:\n",
        "        stroka.append(0)\n",
        "#    print(stroka[-1])\n",
        "    stroka.append(a1.split('ИНН: ')[1][:10]) # ИНН\n",
        "#    print(stroka[-1])\n",
        "    stroka.append(a1.split('<b>')[2].split('<')[0].rstrip()) # активы\n",
        "#    print(stroka[-1])\n",
        "    stroka.append(a1.split('Активы на ')[1].split('/b>')[1][:5].rstrip()) # млн или тыс\n",
        "#    print(stroka[-1])\n",
        "    stroka.append(a1.split('Выручка')[1].split('b>')[1].split('<')[0].rstrip()) # выручка\n",
        "#    print(stroka[-1])\n",
        "    stroka.append(a1.split('Выручка')[1].split('b>')[2].split('руб')[0].rstrip()) # млн ии тыс\n",
        "#    print(stroka[-1])\n",
        "    if 'численности ' in text_write:\n",
        "        stroka.append(a1.split('численности ')[1].split('b>')[1].split('<')[0]) # численность человек\n",
        "#        print(stroka[-1])\n",
        "    else:\n",
        "        stroka.append(0) \n",
        "    if 'Дополнительные данные ФНС' in text_write:\n",
        "        stroka.append(a1.split('Дополнительные данные ФНС')[1].split('padding-left:12px\"><b>')[1].split('<')[0].rstrip()) # доходы \n",
        "#        print(stroka[-1])\n",
        "        stroka.append(a1.split('Дополнительные данные ФНС')[1].split('padding-left:12px\"><b>')[2].split('<')[0].rstrip()) # расходы\n",
        "#        print(stroka[-1])\n",
        "    else:\n",
        "        stroka.append(0)\n",
        "        stroka.append(0)\n",
        "    if \"Уплачено налогов\" in text_write:\n",
        "        stroka.append(text_write.split(\"Уплачено налогов\")[1].split('b>')[1].split('<')[0].rstrip()) # налоги уплаченные\n",
        "    else:\n",
        "        stroka.append(0)\n",
        "    return stroka\n",
        "\n",
        "find_info_comp(url_one)"
      ],
      "execution_count": 128,
      "outputs": [
        {
          "output_type": "execute_result",
          "data": {
            "text/plain": [
              "['\"Сибирская Интернет Компания\" ',\n",
              " '7708119944',\n",
              " '47 403',\n",
              " 'млн.',\n",
              " '52 074',\n",
              " 'млн.',\n",
              " '0',\n",
              " '0',\n",
              " '0',\n",
              " 0]"
            ]
          },
          "metadata": {
            "tags": []
          },
          "execution_count": 128
        }
      ]
    },
    {
      "cell_type": "code",
      "metadata": {
        "id": "9bL5TkcbWQ1J"
      },
      "source": [
        "# проверка\n",
        "Table_find_values = [] \n",
        "\n",
        "name = find_name(url_list_all)      # ф. найдет определитель компании - inn_firma\n",
        "url_one = url1 + 'result/' + name   # url страницы с информацией о компании\n",
        "text_one = requests.get(url_one)    # создат объект Response\n",
        "a = find_info_comp(url_one)             # ф. покажет инф. о компании\n",
        "print(a)\n",
        "Table_find_values.append(a)\n",
        "inn = name.split('_')[0]            # выделить инн\n",
        "url_1 = url1 + 'rating/63_11_1/' + inn + '/' # url страницы с местом в рейтинге  / вернутся в рейтинг фирм\n",
        "print('\\t \\t 1')\n",
        "\n",
        "name_next_1 = requests.get(url_1).text.split(name)[1].split('href=\"/result/')[1].split('\">')[0] # найти name следующей компании\n",
        "inn_next = name_next_1.split('_')[0]\n",
        "url_next_company = url1 + 'result/' + name_next_1\n",
        "a = find_info_comp(url_next_company) #  ф. покажет инф. о компании\n",
        "print(a)\n",
        "Table_find_values.append(a)\n",
        "url_1 = url1 + 'rating/63_11_1/' + inn_next + '/' # url страницы с местом в рейтинге  / вернутся в рейтинг фирм\n",
        "print('\\t \\t 2')\n",
        "\n",
        "for i in range(10):\n",
        "    name_next_1 = requests.get(url_1).text.split(name_next_1)[1].split('href=\"/result/')[1].split('\">')[0] # найти name следующей компании\n",
        "    inn_next = name_next_1.split('_')[0]\n",
        "    url_next_company = url1 + 'result/' + name_next_1\n",
        "    a = find_info_comp(url_next_company) #  ф. покажет инф. о компании\n",
        "    print(a)\n",
        "    Table_find_values.append(a)\n",
        "    url_1 = url1 + 'rating/63_11_1/' + inn_next + '/' # url страницы с местом в рейтинге  / вернутся в рейтинг фирм \n",
        "    print('\\t \\t', i + 3)"
      ],
      "execution_count": null,
      "outputs": []
    },
    {
      "cell_type": "markdown",
      "metadata": {
        "id": "0FnQWcRcQnCO"
      },
      "source": [
        "### - найдем информацию для поиска компании"
      ]
    },
    {
      "cell_type": "code",
      "metadata": {
        "id": "0umU8PilE3tB"
      },
      "source": [
        ""
      ],
      "execution_count": 129,
      "outputs": []
    },
    {
      "cell_type": "code",
      "metadata": {
        "id": "O-E6unA9R716"
      },
      "source": [
        ""
      ],
      "execution_count": 129,
      "outputs": []
    },
    {
      "cell_type": "markdown",
      "metadata": {
        "id": "AIbCbhHWQ8Ka"
      },
      "source": [
        "### - определим функцию для поиска информации по каждой компании "
      ]
    },
    {
      "cell_type": "markdown",
      "metadata": {
        "id": "2vGpTrm71JV8"
      },
      "source": [
        "# Сбор данных по каждой компании"
      ]
    },
    {
      "cell_type": "code",
      "metadata": {
        "id": "zCYuqp2-1G2K"
      },
      "source": [
        "def find_info_comp_re(List_all_komp, n_comp):\n",
        "    \"\"\" ф.собирает информацию по каждой компании и сохраняет данные в строку с помощью регулярных выражений\n",
        "    \"\"\"\n",
        "    pass\n"
      ],
      "execution_count": 130,
      "outputs": []
    },
    {
      "cell_type": "markdown",
      "metadata": {
        "id": "U1ZmhjNB1iKV"
      },
      "source": [
        "# Анализ данных"
      ]
    },
    {
      "cell_type": "code",
      "metadata": {
        "id": "iMQhIFRP1l30",
        "outputId": "dd17da4e-7e3a-4335-f81a-75ed0af7a7dc",
        "colab": {
          "base_uri": "https://localhost:8080/",
          "height": 195
        }
      },
      "source": [
        "data = pd.DataFrame(Table_find_values)\n",
        "data.columns = ['Наименование', 'ИНН', 'Активы', 'ед.изм.', 'Выручка', 'ед.изм.', 'Численность персонала', 'Доходы', 'Расходы', 'Налоги'] \n",
        "data.head()"
      ],
      "execution_count": 131,
      "outputs": [
        {
          "output_type": "execute_result",
          "data": {
            "text/html": [
              "<div>\n",
              "<style scoped>\n",
              "    .dataframe tbody tr th:only-of-type {\n",
              "        vertical-align: middle;\n",
              "    }\n",
              "\n",
              "    .dataframe tbody tr th {\n",
              "        vertical-align: top;\n",
              "    }\n",
              "\n",
              "    .dataframe thead th {\n",
              "        text-align: right;\n",
              "    }\n",
              "</style>\n",
              "<table border=\"1\" class=\"dataframe\">\n",
              "  <thead>\n",
              "    <tr style=\"text-align: right;\">\n",
              "      <th></th>\n",
              "      <th>Наименование</th>\n",
              "      <th>ИНН</th>\n",
              "      <th>Активы</th>\n",
              "      <th>ед.изм.</th>\n",
              "      <th>Выручка</th>\n",
              "      <th>ед.изм.</th>\n",
              "      <th>Численность персонала</th>\n",
              "      <th>Доходы</th>\n",
              "      <th>Расходы</th>\n",
              "      <th>Налоги</th>\n",
              "    </tr>\n",
              "  </thead>\n",
              "  <tbody>\n",
              "    <tr>\n",
              "      <th>0</th>\n",
              "      <td>\"Сибирская Интернет Компания\"</td>\n",
              "      <td>7708119944</td>\n",
              "      <td>47 403</td>\n",
              "      <td>млн.</td>\n",
              "      <td>52 074</td>\n",
              "      <td>млн.</td>\n",
              "      <td>0</td>\n",
              "      <td>0</td>\n",
              "      <td>0</td>\n",
              "      <td>0</td>\n",
              "    </tr>\n",
              "    <tr>\n",
              "      <th>1</th>\n",
              "      <td>\"МЭЙЛ РУ\"</td>\n",
              "      <td>7743001840</td>\n",
              "      <td>198 742</td>\n",
              "      <td>млн.</td>\n",
              "      <td>45 582</td>\n",
              "      <td>млн.</td>\n",
              "      <td>0</td>\n",
              "      <td>0</td>\n",
              "      <td>0</td>\n",
              "      <td>0</td>\n",
              "    </tr>\n",
              "    <tr>\n",
              "      <th>2</th>\n",
              "      <td>\"Центр программ лояльности\"</td>\n",
              "      <td>7702770003</td>\n",
              "      <td>8 723</td>\n",
              "      <td>млн.</td>\n",
              "      <td>32 778</td>\n",
              "      <td>млн.</td>\n",
              "      <td>166</td>\n",
              "      <td>33 174</td>\n",
              "      <td>30 617</td>\n",
              "      <td>1 680</td>\n",
              "    </tr>\n",
              "    <tr>\n",
              "      <th>3</th>\n",
              "      <td>\"Газпром информ\"</td>\n",
              "      <td>7727696104</td>\n",
              "      <td>8 040</td>\n",
              "      <td>млн.</td>\n",
              "      <td>12 093</td>\n",
              "      <td>млн.</td>\n",
              "      <td>2135</td>\n",
              "      <td>12 138</td>\n",
              "      <td>11 819</td>\n",
              "      <td>1 870</td>\n",
              "    </tr>\n",
              "    <tr>\n",
              "      <th>4</th>\n",
              "      <td>\"ЛУКОЙЛ-Технологии\"</td>\n",
              "      <td>9709038314</td>\n",
              "      <td>11 484</td>\n",
              "      <td>млн.</td>\n",
              "      <td>8 141</td>\n",
              "      <td>млн.</td>\n",
              "      <td>0</td>\n",
              "      <td>0</td>\n",
              "      <td>0</td>\n",
              "      <td>0</td>\n",
              "    </tr>\n",
              "  </tbody>\n",
              "</table>\n",
              "</div>"
            ],
            "text/plain": [
              "                     Наименование         ИНН   Активы  ...  Доходы Расходы Налоги\n",
              "0  \"Сибирская Интернет Компания\"   7708119944   47 403  ...       0       0      0\n",
              "1                      \"МЭЙЛ РУ\"   7743001840  198 742  ...       0       0      0\n",
              "2    \"Центр программ лояльности\"   7702770003    8 723  ...  33 174  30 617  1 680\n",
              "3               \"Газпром информ\"   7727696104    8 040  ...  12 138  11 819  1 870\n",
              "4            \"ЛУКОЙЛ-Технологии\"   9709038314   11 484  ...       0       0      0\n",
              "\n",
              "[5 rows x 10 columns]"
            ]
          },
          "metadata": {
            "tags": []
          },
          "execution_count": 131
        }
      ]
    },
    {
      "cell_type": "code",
      "metadata": {
        "id": "K4ZlI3LT1msQ",
        "outputId": "82911c21-0ff9-4c51-f689-d456b0cd1bca",
        "colab": {
          "base_uri": "https://localhost:8080/"
        }
      },
      "source": [
        "data.shape"
      ],
      "execution_count": 132,
      "outputs": [
        {
          "output_type": "execute_result",
          "data": {
            "text/plain": [
              "(202, 10)"
            ]
          },
          "metadata": {
            "tags": []
          },
          "execution_count": 132
        }
      ]
    },
    {
      "cell_type": "code",
      "metadata": {
        "id": "896KDX611moK"
      },
      "source": [
        ""
      ],
      "execution_count": 132,
      "outputs": []
    }
  ]
}